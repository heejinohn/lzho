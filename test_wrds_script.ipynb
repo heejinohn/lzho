{
  "nbformat": 4,
  "nbformat_minor": 0,
  "metadata": {
    "colab": {
      "name": "Untitled1.ipynb",
      "provenance": [],
      "toc_visible": true,
      "mount_file_id": "https://github.com/heejinohn/lzho/blob/main/Reddit_Data.ipynb",
      "authorship_tag": "ABX9TyNJSuamvEu3irpHZiP8oCAl",
      "include_colab_link": true
    },
    "kernelspec": {
      "name": "python3",
      "display_name": "Python 3"
    }
  },
  "cells": [
    {
      "cell_type": "markdown",
      "metadata": {
        "id": "view-in-github",
        "colab_type": "text"
      },
      "source": [
        "<a href=\"https://colab.research.google.com/github/heejinohn/lzho/blob/heejinohn/test_wrds_script.ipynb\" target=\"_parent\"><img src=\"https://colab.research.google.com/assets/colab-badge.svg\" alt=\"Open In Colab\"/></a>"
      ]
    },
    {
      "cell_type": "markdown",
      "metadata": {
        "id": "lrXzZnYPprBv"
      },
      "source": [
        "# Initial setup"
      ]
    },
    {
      "cell_type": "code",
      "metadata": {
        "colab": {
          "base_uri": "https://localhost:8080/"
        },
        "id": "GDc7C9s3ppLa",
        "outputId": "b9649bd7-8f18-4b4b-98bd-68f1657a147a"
      },
      "source": [
        "!pip install wrds\n",
        "import pandas as pd, numpy as np, wrds"
      ],
      "execution_count": 1,
      "outputs": [
        {
          "output_type": "stream",
          "text": [
            "Requirement already satisfied: wrds in /usr/local/lib/python3.7/dist-packages (3.0.8)\n",
            "Requirement already satisfied: mock in /usr/local/lib/python3.7/dist-packages (from wrds) (4.0.3)\n",
            "Requirement already satisfied: psycopg2-binary in /usr/local/lib/python3.7/dist-packages (from wrds) (2.8.6)\n",
            "Requirement already satisfied: pandas in /usr/local/lib/python3.7/dist-packages (from wrds) (1.1.5)\n",
            "Requirement already satisfied: sqlalchemy in /usr/local/lib/python3.7/dist-packages (from wrds) (1.4.7)\n",
            "Requirement already satisfied: python-dateutil>=2.7.3 in /usr/local/lib/python3.7/dist-packages (from pandas->wrds) (2.8.1)\n",
            "Requirement already satisfied: numpy>=1.15.4 in /usr/local/lib/python3.7/dist-packages (from pandas->wrds) (1.19.5)\n",
            "Requirement already satisfied: pytz>=2017.2 in /usr/local/lib/python3.7/dist-packages (from pandas->wrds) (2018.9)\n",
            "Requirement already satisfied: importlib-metadata; python_version < \"3.8\" in /usr/local/lib/python3.7/dist-packages (from sqlalchemy->wrds) (3.10.1)\n",
            "Requirement already satisfied: greenlet!=0.4.17; python_version >= \"3\" in /usr/local/lib/python3.7/dist-packages (from sqlalchemy->wrds) (1.0.0)\n",
            "Requirement already satisfied: six>=1.5 in /usr/local/lib/python3.7/dist-packages (from python-dateutil>=2.7.3->pandas->wrds) (1.15.0)\n",
            "Requirement already satisfied: typing-extensions>=3.6.4; python_version < \"3.8\" in /usr/local/lib/python3.7/dist-packages (from importlib-metadata; python_version < \"3.8\"->sqlalchemy->wrds) (3.7.4.3)\n",
            "Requirement already satisfied: zipp>=0.5 in /usr/local/lib/python3.7/dist-packages (from importlib-metadata; python_version < \"3.8\"->sqlalchemy->wrds) (3.4.1)\n"
          ],
          "name": "stdout"
        }
      ]
    },
    {
      "cell_type": "markdown",
      "metadata": {
        "id": "QfFrLT6lV7Bo"
      },
      "source": [
        "# Read datasets"
      ]
    },
    {
      "cell_type": "code",
      "metadata": {
        "colab": {
          "base_uri": "https://localhost:8080/"
        },
        "id": "-s0ncG1oUVVf",
        "outputId": "9f0fb9f7-6b57-44d0-f5b8-83b90d69d4e6"
      },
      "source": [
        "db = wrds.Connection()"
      ],
      "execution_count": 2,
      "outputs": [
        {
          "output_type": "stream",
          "text": [
            "Enter your WRDS username [root]:hohn\n",
            "Enter your password:··········\n",
            "WRDS recommends setting up a .pgpass file.\n",
            "You can find more info here:\n",
            "https://www.postgresql.org/docs/9.5/static/libpq-pgpass.html.\n",
            "Loading library list...\n",
            "Done\n"
          ],
          "name": "stdout"
        }
      ]
    },
    {
      "cell_type": "code",
      "metadata": {
        "id": "qm3WzrZAUcqm"
      },
      "source": [
        "om_name = (db.get_table('optionm','secnmd')\n",
        "                .groupby(['secid','ticker','issuer'])['effect_date']\n",
        "                .agg(['min','max'])\n",
        "                .reset_index().rename({'min':'start','max':'end'},axis=1))"
      ],
      "execution_count": 3,
      "outputs": []
    },
    {
      "cell_type": "code",
      "metadata": {
        "id": "hogLn7uNV5wR"
      },
      "source": [
        "om_name['ticker'] = np.where(om_name['ticker']=='ZZZZ',np.NaN,om_name['ticker'])"
      ],
      "execution_count": 4,
      "outputs": []
    },
    {
      "cell_type": "markdown",
      "metadata": {
        "id": "iSXYciebE6Da"
      },
      "source": [
        "Unique ticker list from OptionMetrics"
      ]
    },
    {
      "cell_type": "code",
      "metadata": {
        "id": "bKv84fM3HA5O"
      },
      "source": [
        "ticker = set(om_name.ticker.dropna().unique())"
      ],
      "execution_count": 5,
      "outputs": []
    },
    {
      "cell_type": "markdown",
      "metadata": {
        "id": "Qidh3LeNmP1p"
      },
      "source": [
        "Update HERE to drop tickers"
      ]
    },
    {
      "cell_type": "code",
      "metadata": {
        "id": "h0aqbScDllPE"
      },
      "source": [
        "# ticker.difference_update(set(['I','WSB','SEC']))"
      ],
      "execution_count": 6,
      "outputs": []
    },
    {
      "cell_type": "code",
      "metadata": {
        "id": "7FzecfUVnW3g"
      },
      "source": [
        "sub_2017 = pd.read_parquet('/content/sub2017.parquet.gzip')"
      ],
      "execution_count": 105,
      "outputs": []
    },
    {
      "cell_type": "code",
      "metadata": {
        "id": "mKf_85o4oacg"
      },
      "source": [
        "sub_2017['title'] = np.where(sub_2017['title'].isin(['[deleted]','[removed]',None]),\n",
        "                             '', sub_2017['title'])\n",
        "sub_2017['selftext'] = np.where(sub_2017['selftext'].isin(['[deleted]','[removed]',None]),\n",
        "                             '', sub_2017['selftext'])"
      ],
      "execution_count": 106,
      "outputs": []
    },
    {
      "cell_type": "code",
      "metadata": {
        "id": "NiqCau0NwALD"
      },
      "source": [
        "sub_2017['title'] =sub_2017['title'].str.replace('[,.\\?:\\(\\)]',' ',regex=True)\n",
        "sub_2017['selftext'] =sub_2017['selftext'].str.replace('[,.\\?:\\(\\)]',' ',regex=True)\n",
        "sub_2017['title'] =sub_2017['title'].str.replace(\"'s\",\"\",regex=True)\n",
        "sub_2017['selftext'] =sub_2017['selftext'].str.replace(\"'s\",\"\",regex=True)"
      ],
      "execution_count": 107,
      "outputs": []
    },
    {
      "cell_type": "code",
      "metadata": {
        "id": "UMxaBF6mGXOj"
      },
      "source": [
        "sub_2017['title'] =  sub_2017['title'].str.split(' ')\n",
        "sub_2017['selftext'] =  sub_2017['selftext'].str.split(' ')"
      ],
      "execution_count": 115,
      "outputs": []
    },
    {
      "cell_type": "code",
      "metadata": {
        "id": "y5EWX7NRDKi2"
      },
      "source": [
        "test_A = sub_2017.head(100)\n",
        "test_B = sub_2017.tail(100)"
      ],
      "execution_count": 116,
      "outputs": []
    },
    {
      "cell_type": "code",
      "metadata": {
        "id": "opiCMjlP9An5"
      },
      "source": [
        "def find_ticker(textlist):\n",
        "    global ticker\n",
        "    a_set = set('$' + tic for tic in ticker)\n",
        "    if len(textlist) != 0:\n",
        "        hit_1 = a_set.intersection(textlist)\n",
        "        if len(hit_1) > 0:\n",
        "            return [s[1:] for s in hit_1]\n",
        "        else:\n",
        "            num_upper = len([word for word in textlist if word.isupper()])\n",
        "            if num_upper / len(textlist) > .8:\n",
        "                return []\n",
        "            else:\n",
        "                hit_2 = ticker.intersection(textlist)\n",
        "                if len(hit_2) > 0:\n",
        "                    return [s for s in hit_2]\n",
        "                else:\n",
        "                    return []"
      ],
      "execution_count": 119,
      "outputs": []
    },
    {
      "cell_type": "code",
      "metadata": {
        "id": "gyiRQRU8CXdD",
        "outputId": "2f5d83b2-8b3f-4d91-e08e-cb6801e5dd70",
        "colab": {
          "base_uri": "https://localhost:8080/"
        }
      },
      "source": [
        "test_A['title_ticker'] = test_A['title'].apply(find_ticker)\n",
        "test_A['text_ticker'] = test_A['selftext'].apply(find_ticker)\n",
        "test_B['title_ticker'] = test_B['title'].apply(find_ticker)\n",
        "test_B['text_ticker'] = test_B['selftext'].apply(find_ticker)"
      ],
      "execution_count": 122,
      "outputs": [
        {
          "output_type": "stream",
          "text": [
            "/usr/local/lib/python3.7/dist-packages/ipykernel_launcher.py:1: SettingWithCopyWarning: \n",
            "A value is trying to be set on a copy of a slice from a DataFrame.\n",
            "Try using .loc[row_indexer,col_indexer] = value instead\n",
            "\n",
            "See the caveats in the documentation: https://pandas.pydata.org/pandas-docs/stable/user_guide/indexing.html#returning-a-view-versus-a-copy\n",
            "  \"\"\"Entry point for launching an IPython kernel.\n",
            "/usr/local/lib/python3.7/dist-packages/ipykernel_launcher.py:2: SettingWithCopyWarning: \n",
            "A value is trying to be set on a copy of a slice from a DataFrame.\n",
            "Try using .loc[row_indexer,col_indexer] = value instead\n",
            "\n",
            "See the caveats in the documentation: https://pandas.pydata.org/pandas-docs/stable/user_guide/indexing.html#returning-a-view-versus-a-copy\n",
            "  \n",
            "/usr/local/lib/python3.7/dist-packages/ipykernel_launcher.py:3: SettingWithCopyWarning: \n",
            "A value is trying to be set on a copy of a slice from a DataFrame.\n",
            "Try using .loc[row_indexer,col_indexer] = value instead\n",
            "\n",
            "See the caveats in the documentation: https://pandas.pydata.org/pandas-docs/stable/user_guide/indexing.html#returning-a-view-versus-a-copy\n",
            "  This is separate from the ipykernel package so we can avoid doing imports until\n",
            "/usr/local/lib/python3.7/dist-packages/ipykernel_launcher.py:4: SettingWithCopyWarning: \n",
            "A value is trying to be set on a copy of a slice from a DataFrame.\n",
            "Try using .loc[row_indexer,col_indexer] = value instead\n",
            "\n",
            "See the caveats in the documentation: https://pandas.pydata.org/pandas-docs/stable/user_guide/indexing.html#returning-a-view-versus-a-copy\n",
            "  after removing the cwd from sys.path.\n"
          ],
          "name": "stderr"
        }
      ]
    },
    {
      "cell_type": "markdown",
      "metadata": {
        "id": "G5oJ_-3C8pF6"
      },
      "source": [
        "Additional corrections\n",
        "\n",
        "* Intersect title and body\n",
        "* If intersect with $, stop\n",
        "* Use comments"
      ]
    },
    {
      "cell_type": "markdown",
      "metadata": {
        "id": "LK9_cdQpizPT"
      },
      "source": [
        "Variables to capture from posts\n",
        "\n",
        "* Number of posts\n",
        "* Combined rewards\n",
        "* Comments\n",
        "* Score"
      ]
    }
  ]
}