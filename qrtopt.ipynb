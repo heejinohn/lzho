{
  "nbformat": 4,
  "nbformat_minor": 0,
  "metadata": {
    "colab": {
      "name": "qrtopt.ipynb",
      "provenance": [],
      "authorship_tag": "ABX9TyNovLG7Pp6bfystDaT427wO",
      "include_colab_link": true
    },
    "kernelspec": {
      "name": "python3",
      "display_name": "Python 3"
    },
    "language_info": {
      "name": "python"
    }
  },
  "cells": [
    {
      "cell_type": "markdown",
      "metadata": {
        "id": "view-in-github",
        "colab_type": "text"
      },
      "source": [
        "<a href=\"https://colab.research.google.com/github/heejinohn/lzho/blob/heejinohn/qrtopt.ipynb\" target=\"_parent\"><img src=\"https://colab.research.google.com/assets/colab-badge.svg\" alt=\"Open In Colab\"/></a>"
      ]
    },
    {
      "cell_type": "code",
      "metadata": {
        "id": "_7WZK0ndhDl4",
        "colab": {
          "base_uri": "https://localhost:8080/"
        },
        "outputId": "a3e076c7-b730-487b-f58a-9cf7219621cd"
      },
      "source": [
        "!pip install wrds"
      ],
      "execution_count": 1,
      "outputs": [
        {
          "output_type": "stream",
          "text": [
            "Collecting wrds\n",
            "  Downloading wrds-3.0.10-py3-none-any.whl (11 kB)\n",
            "Requirement already satisfied: pandas in /usr/local/lib/python3.7/dist-packages (from wrds) (1.1.5)\n",
            "Requirement already satisfied: numpy in /usr/local/lib/python3.7/dist-packages (from wrds) (1.19.5)\n",
            "Requirement already satisfied: sqlalchemy in /usr/local/lib/python3.7/dist-packages (from wrds) (1.4.20)\n",
            "Collecting psycopg2-binary\n",
            "  Downloading psycopg2_binary-2.9.1-cp37-cp37m-manylinux_2_17_x86_64.manylinux2014_x86_64.whl (3.4 MB)\n",
            "\u001b[K     |████████████████████████████████| 3.4 MB 7.8 MB/s \n",
            "\u001b[?25hCollecting mock\n",
            "  Downloading mock-4.0.3-py3-none-any.whl (28 kB)\n",
            "Requirement already satisfied: python-dateutil>=2.7.3 in /usr/local/lib/python3.7/dist-packages (from pandas->wrds) (2.8.1)\n",
            "Requirement already satisfied: pytz>=2017.2 in /usr/local/lib/python3.7/dist-packages (from pandas->wrds) (2018.9)\n",
            "Requirement already satisfied: six>=1.5 in /usr/local/lib/python3.7/dist-packages (from python-dateutil>=2.7.3->pandas->wrds) (1.15.0)\n",
            "Requirement already satisfied: greenlet!=0.4.17 in /usr/local/lib/python3.7/dist-packages (from sqlalchemy->wrds) (1.1.0)\n",
            "Requirement already satisfied: importlib-metadata in /usr/local/lib/python3.7/dist-packages (from sqlalchemy->wrds) (4.6.1)\n",
            "Requirement already satisfied: typing-extensions>=3.6.4 in /usr/local/lib/python3.7/dist-packages (from importlib-metadata->sqlalchemy->wrds) (3.7.4.3)\n",
            "Requirement already satisfied: zipp>=0.5 in /usr/local/lib/python3.7/dist-packages (from importlib-metadata->sqlalchemy->wrds) (3.5.0)\n",
            "Installing collected packages: psycopg2-binary, mock, wrds\n",
            "Successfully installed mock-4.0.3 psycopg2-binary-2.9.1 wrds-3.0.10\n"
          ],
          "name": "stdout"
        }
      ]
    },
    {
      "cell_type": "code",
      "metadata": {
        "id": "Q_GqDn5vhG0g"
      },
      "source": [
        "import wrds"
      ],
      "execution_count": 2,
      "outputs": []
    },
    {
      "cell_type": "code",
      "metadata": {
        "colab": {
          "base_uri": "https://localhost:8080/"
        },
        "id": "E5VYW205hZ2q",
        "outputId": "4afc71e5-4818-4666-cf2c-24d1c2fb5505"
      },
      "source": [
        "db = wrds.Connection()"
      ],
      "execution_count": 3,
      "outputs": [
        {
          "output_type": "stream",
          "text": [
            "Enter your WRDS username [root]:hohn\n",
            "Enter your password:··········\n",
            "WRDS recommends setting up a .pgpass file.\n",
            "You can find more info here:\n",
            "https://www.postgresql.org/docs/9.5/static/libpq-pgpass.html.\n",
            "Loading library list...\n",
            "Done\n"
          ],
          "name": "stdout"
        }
      ]
    },
    {
      "cell_type": "code",
      "metadata": {
        "colab": {
          "base_uri": "https://localhost:8080/",
          "height": 221
        },
        "id": "zBFFXFAJhcQV",
        "outputId": "e4ae160e-a75d-4957-bd6a-b9eea6bc21d0"
      },
      "source": [
        "db.describe_table('optionm','opvold')"
      ],
      "execution_count": 4,
      "outputs": [
        {
          "output_type": "stream",
          "text": [
            "Approximately 61360236 rows in optionm.opvold.\n"
          ],
          "name": "stdout"
        },
        {
          "output_type": "execute_result",
          "data": {
            "text/html": [
              "<div>\n",
              "<style scoped>\n",
              "    .dataframe tbody tr th:only-of-type {\n",
              "        vertical-align: middle;\n",
              "    }\n",
              "\n",
              "    .dataframe tbody tr th {\n",
              "        vertical-align: top;\n",
              "    }\n",
              "\n",
              "    .dataframe thead th {\n",
              "        text-align: right;\n",
              "    }\n",
              "</style>\n",
              "<table border=\"1\" class=\"dataframe\">\n",
              "  <thead>\n",
              "    <tr style=\"text-align: right;\">\n",
              "      <th></th>\n",
              "      <th>name</th>\n",
              "      <th>nullable</th>\n",
              "      <th>type</th>\n",
              "    </tr>\n",
              "  </thead>\n",
              "  <tbody>\n",
              "    <tr>\n",
              "      <th>0</th>\n",
              "      <td>secid</td>\n",
              "      <td>True</td>\n",
              "      <td>DOUBLE_PRECISION</td>\n",
              "    </tr>\n",
              "    <tr>\n",
              "      <th>1</th>\n",
              "      <td>date</td>\n",
              "      <td>True</td>\n",
              "      <td>DATE</td>\n",
              "    </tr>\n",
              "    <tr>\n",
              "      <th>2</th>\n",
              "      <td>cp_flag</td>\n",
              "      <td>True</td>\n",
              "      <td>VARCHAR(1)</td>\n",
              "    </tr>\n",
              "    <tr>\n",
              "      <th>3</th>\n",
              "      <td>volume</td>\n",
              "      <td>True</td>\n",
              "      <td>DOUBLE_PRECISION</td>\n",
              "    </tr>\n",
              "    <tr>\n",
              "      <th>4</th>\n",
              "      <td>open_interest</td>\n",
              "      <td>True</td>\n",
              "      <td>DOUBLE_PRECISION</td>\n",
              "    </tr>\n",
              "  </tbody>\n",
              "</table>\n",
              "</div>"
            ],
            "text/plain": [
              "            name  nullable              type\n",
              "0          secid      True  DOUBLE_PRECISION\n",
              "1           date      True              DATE\n",
              "2        cp_flag      True        VARCHAR(1)\n",
              "3         volume      True  DOUBLE_PRECISION\n",
              "4  open_interest      True  DOUBLE_PRECISION"
            ]
          },
          "metadata": {
            "tags": []
          },
          "execution_count": 4
        }
      ]
    },
    {
      "cell_type": "code",
      "metadata": {
        "id": "nqo3y3JAo6Ku"
      },
      "source": [
        "tqry = \"\"\"\n",
        "        select * from optionm.opvold\n",
        "        where date between '2017/01/01' and '2017/12/31' and\n",
        "           cp_flag is null        \n",
        "\"\"\"\n",
        "\n",
        "cpqry = \"\"\"\n",
        "        select * from optionm.opvold\n",
        "        where date between '2017/01/01' and '2017/12/31' and\n",
        "           cp_flag is not null\n",
        "\"\"\"\n",
        "\n",
        "tvol = db.raw_sql(tqry,date_cols='date')\n",
        "cpvol = db.raw_sql(cpqry,date_cols='date')"
      ],
      "execution_count": 5,
      "outputs": []
    },
    {
      "cell_type": "code",
      "metadata": {
        "id": "uOd9GjDH27bZ"
      },
      "source": [
        "tvol.secid = tvol.secid.astype(int)\n",
        "cpvol.secid = cpvol.secid.astype(int)"
      ],
      "execution_count": 6,
      "outputs": []
    },
    {
      "cell_type": "code",
      "metadata": {
        "id": "zkC8tYUR4Qmg"
      },
      "source": [
        "tvol.rename({'volume':'tvol','open_interest':'tinterest'},\n",
        "             axis=1,inplace=True)"
      ],
      "execution_count": 7,
      "outputs": []
    },
    {
      "cell_type": "code",
      "metadata": {
        "colab": {
          "base_uri": "https://localhost:8080/"
        },
        "id": "dpcM_ktiGUNF",
        "outputId": "90be50bf-c92e-4c5a-c51f-48c66d83bd79"
      },
      "source": [
        "list(cpvol)"
      ],
      "execution_count": 8,
      "outputs": [
        {
          "output_type": "execute_result",
          "data": {
            "text/plain": [
              "['secid', 'date', 'cp_flag', 'volume', 'open_interest']"
            ]
          },
          "metadata": {
            "tags": []
          },
          "execution_count": 8
        }
      ]
    },
    {
      "cell_type": "code",
      "metadata": {
        "id": "_6wmBlnk65Zi"
      },
      "source": [
        "cpvol = cpvol.pivot_table(index=['secid','date'],columns='cp_flag',\n",
        "                  values=['volume','open_interest'])"
      ],
      "execution_count": 9,
      "outputs": []
    },
    {
      "cell_type": "code",
      "metadata": {
        "id": "Hn1hz8pRGaKv"
      },
      "source": [
        "cpvol.columns = ['_'.join(col) for col in cpvol.columns.values]"
      ],
      "execution_count": 10,
      "outputs": []
    },
    {
      "cell_type": "code",
      "metadata": {
        "id": "TXwhb7fSLWPO"
      },
      "source": [
        "tvol.drop('cp_flag',inplace=True,axis=1)"
      ],
      "execution_count": 11,
      "outputs": []
    },
    {
      "cell_type": "code",
      "metadata": {
        "id": "TigJsKFXHRqT"
      },
      "source": [
        "cpvol['int_gap'] = cpvol['open_interest_C']- cpvol['open_interest_P']"
      ],
      "execution_count": 12,
      "outputs": []
    },
    {
      "cell_type": "code",
      "metadata": {
        "colab": {
          "base_uri": "https://localhost:8080/",
          "height": 419
        },
        "id": "efQ7Q91bJKIE",
        "outputId": "36b65f7f-37b6-4af4-acf0-3a91c6c53235"
      },
      "source": [
        "cpvol.reset_index()"
      ],
      "execution_count": 13,
      "outputs": [
        {
          "output_type": "execute_result",
          "data": {
            "text/html": [
              "<div>\n",
              "<style scoped>\n",
              "    .dataframe tbody tr th:only-of-type {\n",
              "        vertical-align: middle;\n",
              "    }\n",
              "\n",
              "    .dataframe tbody tr th {\n",
              "        vertical-align: top;\n",
              "    }\n",
              "\n",
              "    .dataframe thead th {\n",
              "        text-align: right;\n",
              "    }\n",
              "</style>\n",
              "<table border=\"1\" class=\"dataframe\">\n",
              "  <thead>\n",
              "    <tr style=\"text-align: right;\">\n",
              "      <th></th>\n",
              "      <th>secid</th>\n",
              "      <th>date</th>\n",
              "      <th>open_interest_C</th>\n",
              "      <th>open_interest_P</th>\n",
              "      <th>volume_C</th>\n",
              "      <th>volume_P</th>\n",
              "      <th>int_gap</th>\n",
              "    </tr>\n",
              "  </thead>\n",
              "  <tbody>\n",
              "    <tr>\n",
              "      <th>0</th>\n",
              "      <td>6505</td>\n",
              "      <td>2017-01-03</td>\n",
              "      <td>28.0</td>\n",
              "      <td>229.0</td>\n",
              "      <td>0.0</td>\n",
              "      <td>0.0</td>\n",
              "      <td>-201.0</td>\n",
              "    </tr>\n",
              "    <tr>\n",
              "      <th>1</th>\n",
              "      <td>6505</td>\n",
              "      <td>2017-01-04</td>\n",
              "      <td>28.0</td>\n",
              "      <td>229.0</td>\n",
              "      <td>0.0</td>\n",
              "      <td>2.0</td>\n",
              "      <td>-201.0</td>\n",
              "    </tr>\n",
              "    <tr>\n",
              "      <th>2</th>\n",
              "      <td>6505</td>\n",
              "      <td>2017-01-05</td>\n",
              "      <td>28.0</td>\n",
              "      <td>229.0</td>\n",
              "      <td>0.0</td>\n",
              "      <td>0.0</td>\n",
              "      <td>-201.0</td>\n",
              "    </tr>\n",
              "    <tr>\n",
              "      <th>3</th>\n",
              "      <td>6505</td>\n",
              "      <td>2017-01-06</td>\n",
              "      <td>28.0</td>\n",
              "      <td>229.0</td>\n",
              "      <td>0.0</td>\n",
              "      <td>1.0</td>\n",
              "      <td>-201.0</td>\n",
              "    </tr>\n",
              "    <tr>\n",
              "      <th>4</th>\n",
              "      <td>6505</td>\n",
              "      <td>2017-01-09</td>\n",
              "      <td>28.0</td>\n",
              "      <td>230.0</td>\n",
              "      <td>0.0</td>\n",
              "      <td>12.0</td>\n",
              "      <td>-202.0</td>\n",
              "    </tr>\n",
              "    <tr>\n",
              "      <th>...</th>\n",
              "      <td>...</td>\n",
              "      <td>...</td>\n",
              "      <td>...</td>\n",
              "      <td>...</td>\n",
              "      <td>...</td>\n",
              "      <td>...</td>\n",
              "      <td>...</td>\n",
              "    </tr>\n",
              "    <tr>\n",
              "      <th>1085601</th>\n",
              "      <td>212409</td>\n",
              "      <td>2017-12-22</td>\n",
              "      <td>938.0</td>\n",
              "      <td>110.0</td>\n",
              "      <td>27.0</td>\n",
              "      <td>20.0</td>\n",
              "      <td>828.0</td>\n",
              "    </tr>\n",
              "    <tr>\n",
              "      <th>1085602</th>\n",
              "      <td>212409</td>\n",
              "      <td>2017-12-26</td>\n",
              "      <td>951.0</td>\n",
              "      <td>130.0</td>\n",
              "      <td>22.0</td>\n",
              "      <td>33.0</td>\n",
              "      <td>821.0</td>\n",
              "    </tr>\n",
              "    <tr>\n",
              "      <th>1085603</th>\n",
              "      <td>212409</td>\n",
              "      <td>2017-12-27</td>\n",
              "      <td>969.0</td>\n",
              "      <td>163.0</td>\n",
              "      <td>14.0</td>\n",
              "      <td>53.0</td>\n",
              "      <td>806.0</td>\n",
              "    </tr>\n",
              "    <tr>\n",
              "      <th>1085604</th>\n",
              "      <td>212409</td>\n",
              "      <td>2017-12-28</td>\n",
              "      <td>970.0</td>\n",
              "      <td>212.0</td>\n",
              "      <td>13.0</td>\n",
              "      <td>2094.0</td>\n",
              "      <td>758.0</td>\n",
              "    </tr>\n",
              "    <tr>\n",
              "      <th>1085605</th>\n",
              "      <td>212409</td>\n",
              "      <td>2017-12-29</td>\n",
              "      <td>972.0</td>\n",
              "      <td>2217.0</td>\n",
              "      <td>55.0</td>\n",
              "      <td>824.0</td>\n",
              "      <td>-1245.0</td>\n",
              "    </tr>\n",
              "  </tbody>\n",
              "</table>\n",
              "<p>1085606 rows × 7 columns</p>\n",
              "</div>"
            ],
            "text/plain": [
              "          secid       date  open_interest_C  ...  volume_C  volume_P  int_gap\n",
              "0          6505 2017-01-03             28.0  ...       0.0       0.0   -201.0\n",
              "1          6505 2017-01-04             28.0  ...       0.0       2.0   -201.0\n",
              "2          6505 2017-01-05             28.0  ...       0.0       0.0   -201.0\n",
              "3          6505 2017-01-06             28.0  ...       0.0       1.0   -201.0\n",
              "4          6505 2017-01-09             28.0  ...       0.0      12.0   -202.0\n",
              "...         ...        ...              ...  ...       ...       ...      ...\n",
              "1085601  212409 2017-12-22            938.0  ...      27.0      20.0    828.0\n",
              "1085602  212409 2017-12-26            951.0  ...      22.0      33.0    821.0\n",
              "1085603  212409 2017-12-27            969.0  ...      14.0      53.0    806.0\n",
              "1085604  212409 2017-12-28            970.0  ...      13.0    2094.0    758.0\n",
              "1085605  212409 2017-12-29            972.0  ...      55.0     824.0  -1245.0\n",
              "\n",
              "[1085606 rows x 7 columns]"
            ]
          },
          "metadata": {
            "tags": []
          },
          "execution_count": 13
        }
      ]
    },
    {
      "cell_type": "code",
      "metadata": {
        "id": "utmONZG-Pm6e"
      },
      "source": [
        "tvol = tvol.set_index(['secid','date']).sort_index().reset_index()"
      ],
      "execution_count": 14,
      "outputs": []
    },
    {
      "cell_type": "code",
      "metadata": {
        "id": "JZh5q5T6QROF"
      },
      "source": [
        "tvol.to_stata('tvol.dta')\n",
        "cpvol.to_stata('cpvol.dta')"
      ],
      "execution_count": 17,
      "outputs": []
    }
  ]
}