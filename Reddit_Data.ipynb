{
  "nbformat": 4,
  "nbformat_minor": 0,
  "metadata": {
    "colab": {
      "name": "Untitled1.ipynb",
      "provenance": [],
      "toc_visible": true,
      "authorship_tag": "ABX9TyOMHQ84a3QNFtsnVEdGTFdE",
      "include_colab_link": true
    },
    "kernelspec": {
      "name": "python3",
      "display_name": "Python 3"
    }
  },
  "cells": [
    {
      "cell_type": "markdown",
      "metadata": {
        "id": "view-in-github",
        "colab_type": "text"
      },
      "source": [
        "<a href=\"https://colab.research.google.com/github/heejinohn/lzho/blob/main/Reddit_Data.ipynb\" target=\"_parent\"><img src=\"https://colab.research.google.com/assets/colab-badge.svg\" alt=\"Open In Colab\"/></a>"
      ]
    },
    {
      "cell_type": "markdown",
      "metadata": {
        "id": "lrXzZnYPprBv"
      },
      "source": [
        "# Initial setup"
      ]
    },
    {
      "cell_type": "code",
      "metadata": {
        "colab": {
          "base_uri": "https://localhost:8080/"
        },
        "id": "GDc7C9s3ppLa",
        "outputId": "9b71191c-2520-4a32-88d1-a68947f48a42"
      },
      "source": [
        "!pip install wrds datetime\n",
        "import pandas as pd, numpy as np, wrds, datetime, sqlite3"
      ],
      "execution_count": 1,
      "outputs": [
        {
          "output_type": "stream",
          "text": [
            "Requirement already satisfied: wrds in /usr/local/lib/python3.7/dist-packages (3.0.8)\n",
            "Requirement already satisfied: datetime in /usr/local/lib/python3.7/dist-packages (4.3)\n",
            "Requirement already satisfied: pandas in /usr/local/lib/python3.7/dist-packages (from wrds) (1.1.5)\n",
            "Requirement already satisfied: mock in /usr/local/lib/python3.7/dist-packages (from wrds) (4.0.3)\n",
            "Requirement already satisfied: sqlalchemy in /usr/local/lib/python3.7/dist-packages (from wrds) (1.3.23)\n",
            "Requirement already satisfied: psycopg2-binary in /usr/local/lib/python3.7/dist-packages (from wrds) (2.8.6)\n",
            "Requirement already satisfied: pytz in /usr/local/lib/python3.7/dist-packages (from datetime) (2018.9)\n",
            "Requirement already satisfied: zope.interface in /usr/local/lib/python3.7/dist-packages (from datetime) (5.3.0)\n",
            "Requirement already satisfied: python-dateutil>=2.7.3 in /usr/local/lib/python3.7/dist-packages (from pandas->wrds) (2.8.1)\n",
            "Requirement already satisfied: numpy>=1.15.4 in /usr/local/lib/python3.7/dist-packages (from pandas->wrds) (1.19.5)\n",
            "Requirement already satisfied: setuptools in /usr/local/lib/python3.7/dist-packages (from zope.interface->datetime) (54.1.2)\n",
            "Requirement already satisfied: six>=1.5 in /usr/local/lib/python3.7/dist-packages (from python-dateutil>=2.7.3->pandas->wrds) (1.15.0)\n"
          ],
          "name": "stdout"
        }
      ]
    },
    {
      "cell_type": "markdown",
      "metadata": {
        "id": "QfFrLT6lV7Bo"
      },
      "source": [
        "# Read datasets"
      ]
    },
    {
      "cell_type": "code",
      "metadata": {
        "id": "tnZsllL-p-SX"
      },
      "source": [
        "option_list = pd.read_sas(\"option_ticker.sas7bdat\",encoding=\"utf-8\")"
      ],
      "execution_count": 2,
      "outputs": []
    },
    {
      "cell_type": "markdown",
      "metadata": {
        "id": "ldqJvxl3kKEw"
      },
      "source": [
        "# Set search keys"
      ]
    },
    {
      "cell_type": "markdown",
      "metadata": {
        "id": "QIPS7WI9cZDU"
      },
      "source": [
        "Using UTC time zone and ticker to link reddit posts"
      ]
    },
    {
      "cell_type": "markdown",
      "metadata": {
        "id": "bJPucI6LtJbw"
      },
      "source": [
        "## UTC Datetime"
      ]
    },
    {
      "cell_type": "code",
      "metadata": {
        "id": "3w2C_5zQbljb"
      },
      "source": [
        "option_list['date'] = pd.to_datetime(option_list['date']).dt.tz_localize('US/Eastern')\n",
        "option_list['date'] = option_list['date'].dt.tz_convert('UTC')"
      ],
      "execution_count": 3,
      "outputs": []
    },
    {
      "cell_type": "markdown",
      "metadata": {
        "id": "VTr1NiKCm5gQ"
      },
      "source": [
        "Current search will be based on an interval of 48 hours."
      ]
    },
    {
      "cell_type": "code",
      "metadata": {
        "id": "9WNUTBGDkFBV"
      },
      "source": [
        "interval = 2\n",
        "option_list['start_date'] = option_list['date'] - pd.Timedelta(days=interval)"
      ],
      "execution_count": 4,
      "outputs": []
    },
    {
      "cell_type": "code",
      "metadata": {
        "id": "LkBxpu8fS4nK"
      },
      "source": [
        "wsb_post = pd.read_csv('r_wallstreetbets_posts.csv',header=0,low_memory=False)"
      ],
      "execution_count": 5,
      "outputs": []
    },
    {
      "cell_type": "code",
      "metadata": {
        "colab": {
          "base_uri": "https://localhost:8080/"
        },
        "id": "fyHIi_xuWpxN",
        "outputId": "5dcc270c-f432-466f-c5b1-5d906f74bb4b"
      },
      "source": [
        "wsb_post.dtypes"
      ],
      "execution_count": 6,
      "outputs": [
        {
          "output_type": "execute_result",
          "data": {
            "text/plain": [
              "id                        object\n",
              "title                     object\n",
              "score                      int64\n",
              "author                    object\n",
              "author_flair_text         object\n",
              "removed_by                object\n",
              "total_awards_received    float64\n",
              "awarders                  object\n",
              "created_utc                int64\n",
              "full_link                 object\n",
              "num_comments               int64\n",
              "over_18                     bool\n",
              "dtype: object"
            ]
          },
          "metadata": {
            "tags": []
          },
          "execution_count": 6
        }
      ]
    },
    {
      "cell_type": "code",
      "metadata": {
        "id": "H30Fg-qRVKr-"
      },
      "source": [
        "wsb_post['date'] = pd.to_datetime(wsb_post['created_utc'],unit='s')"
      ],
      "execution_count": 7,
      "outputs": []
    },
    {
      "cell_type": "markdown",
      "metadata": {
        "id": "fbHZRaSUuWkF"
      },
      "source": [
        "## Ticker"
      ]
    },
    {
      "cell_type": "code",
      "metadata": {
        "colab": {
          "base_uri": "https://localhost:8080/",
          "height": 35
        },
        "id": "0kdCdP_Hp5eC",
        "outputId": "e956cd2c-c122-4a97-8ad3-adea3527fcee"
      },
      "source": [
        "list(option_list['ticker'])[-1]"
      ],
      "execution_count": 51,
      "outputs": [
        {
          "output_type": "execute_result",
          "data": {
            "application/vnd.google.colaboratory.intrinsic+json": {
              "type": "string"
            },
            "text/plain": [
              "'SLDB'"
            ]
          },
          "metadata": {
            "tags": []
          },
          "execution_count": 51
        }
      ]
    },
    {
      "cell_type": "code",
      "metadata": {
        "id": "Blal9ePAKAbN",
        "outputId": "208b3bf9-6cb8-4bea-a310-0ba87fd96482",
        "colab": {
          "base_uri": "https://localhost:8080/"
        }
      },
      "source": [
        "wsb_post['title'].str.findall('|\\b'.join(map(str,list(option_list['ticker'].unique()))))"
      ],
      "execution_count": 49,
      "outputs": [
        {
          "output_type": "execute_result",
          "data": {
            "text/plain": [
              "0         []\n",
              "1         []\n",
              "2         []\n",
              "3         []\n",
              "4         []\n",
              "          ..\n",
              "884058    []\n",
              "884059    []\n",
              "884060    []\n",
              "884061    []\n",
              "884062    []\n",
              "Name: title, Length: 884063, dtype: object"
            ]
          },
          "metadata": {
            "tags": []
          },
          "execution_count": 49
        }
      ]
    },
    {
      "cell_type": "markdown",
      "metadata": {
        "id": "LK9_cdQpizPT"
      },
      "source": [
        "Variables to capture from posts\n",
        "\n",
        "* Number of posts\n",
        "* Combined rewards\n",
        "* Comments\n",
        "* Score"
      ]
    },
    {
      "cell_type": "markdown",
      "metadata": {
        "id": "S-4RSdcahvO8"
      },
      "source": [
        "# Reddit Scrape"
      ]
    },
    {
      "cell_type": "markdown",
      "metadata": {
        "id": "EFlex88XUU6H"
      },
      "source": [
        ""
      ]
    },
    {
      "cell_type": "markdown",
      "metadata": {
        "id": "GXJL66evvfoh"
      },
      "source": [
        "## Web driver"
      ]
    },
    {
      "cell_type": "code",
      "metadata": {
        "colab": {
          "base_uri": "https://localhost:8080/"
        },
        "id": "BkmavPXOREOi",
        "outputId": "8707435d-6c19-482b-fb2c-93f762bbf102"
      },
      "source": [
        "!pip install selenium\n",
        "!apt-get update \n",
        "!apt install chromium-chromedriver\n",
        "\n",
        "from selenium import webdriver\n",
        "chrome_options = webdriver.ChromeOptions()\n",
        "chrome_options.add_argument('--headless')\n",
        "chrome_options.add_argument('--no-sandbox')\n",
        "chrome_options.add_argument('--disable-dev-shm-usage')\n",
        "wd = webdriver.Chrome('chromedriver',chrome_options=chrome_options)\n",
        "driver =webdriver.Chrome('chromedriver',chrome_options=chrome_options)"
      ],
      "execution_count": null,
      "outputs": [
        {
          "output_type": "stream",
          "text": [
            "Requirement already satisfied: selenium in /usr/local/lib/python3.7/dist-packages (3.141.0)\n",
            "Requirement already satisfied: urllib3 in /usr/local/lib/python3.7/dist-packages (from selenium) (1.24.3)\n",
            "Hit:1 http://security.ubuntu.com/ubuntu bionic-security InRelease\n",
            "Ign:2 https://developer.download.nvidia.com/compute/cuda/repos/ubuntu1804/x86_64  InRelease\n",
            "Hit:3 https://cloud.r-project.org/bin/linux/ubuntu bionic-cran40/ InRelease\n",
            "Hit:4 http://ppa.launchpad.net/c2d4u.team/c2d4u4.0+/ubuntu bionic InRelease\n",
            "Hit:5 http://archive.ubuntu.com/ubuntu bionic InRelease\n",
            "Ign:6 https://developer.download.nvidia.com/compute/machine-learning/repos/ubuntu1804/x86_64  InRelease\n",
            "Hit:7 https://developer.download.nvidia.com/compute/cuda/repos/ubuntu1804/x86_64  Release\n",
            "Hit:8 https://developer.download.nvidia.com/compute/machine-learning/repos/ubuntu1804/x86_64  Release\n",
            "Get:9 http://archive.ubuntu.com/ubuntu bionic-updates InRelease [88.7 kB]\n",
            "Hit:10 http://ppa.launchpad.net/cran/libgit2/ubuntu bionic InRelease\n",
            "Hit:11 http://ppa.launchpad.net/deadsnakes/ppa/ubuntu bionic InRelease\n",
            "Get:12 http://archive.ubuntu.com/ubuntu bionic-backports InRelease [74.6 kB]\n",
            "Hit:13 http://ppa.launchpad.net/graphics-drivers/ppa/ubuntu bionic InRelease\n",
            "Fetched 163 kB in 2s (69.6 kB/s)\n",
            "Reading package lists... Done\n",
            "Reading package lists... Done\n",
            "Building dependency tree       \n",
            "Reading state information... Done\n",
            "chromium-chromedriver is already the newest version (87.0.4280.66-0ubuntu0.18.04.1).\n",
            "0 upgraded, 0 newly installed, 0 to remove and 32 not upgraded.\n"
          ],
          "name": "stdout"
        },
        {
          "output_type": "stream",
          "text": [
            "/usr/local/lib/python3.7/dist-packages/ipykernel_launcher.py:10: DeprecationWarning: use options instead of chrome_options\n",
            "  # Remove the CWD from sys.path while we load stuff.\n",
            "/usr/local/lib/python3.7/dist-packages/ipykernel_launcher.py:11: DeprecationWarning: use options instead of chrome_options\n",
            "  # This is added back by InteractiveShellApp.init_path()\n"
          ],
          "name": "stderr"
        }
      ]
    },
    {
      "cell_type": "code",
      "metadata": {
        "id": "tnI2nvZMRE_N"
      },
      "source": [
        "url = 'https://www.reddit.com/r/wallstreetbets/search/?q=flair%3A%22Daily%20Discussion%22&restrict_sr=1&sort=new'\n",
        "driver.get(url)"
      ],
      "execution_count": null,
      "outputs": []
    },
    {
      "cell_type": "code",
      "metadata": {
        "id": "Ju5BHf01RbpY"
      },
      "source": [
        "from datetime import date, timedelta\n",
        "from dateutil.parser import parse\n",
        "import re\n",
        "import praw"
      ],
      "execution_count": null,
      "outputs": []
    },
    {
      "cell_type": "code",
      "metadata": {
        "id": "ZvL3UYUfkLdc"
      },
      "source": [
        "yesterday = date.today() - timedelta(days=1)\n",
        "links = driver.find_elements_by_xpath('//*[@class=\"_eYtD2XCVieq6emjKBH3m\"]')"
      ],
      "execution_count": null,
      "outputs": []
    },
    {
      "cell_type": "markdown",
      "metadata": {
        "id": "PLQY_GR4-b2Y"
      },
      "source": [
        "r/wallstreetbet was created on January 31, 2012"
      ]
    },
    {
      "cell_type": "code",
      "metadata": {
        "collapsed": true,
        "id": "3Ex9vizGvhhA"
      },
      "source": [
        "pattern = re.compile(r'[ADFJMNOS][a-z]+ \\d{1,2},? \\d{4}') ## pattern to find date\n",
        "\n",
        "for a in links:\n",
        "    if a.text.startswith('Daily Discussion Thread'):\n",
        "        z = re.search(\"[ADFJMNOS][a-z]+ \\d{1,2},? \\d{4}\", a.text)\n",
        "        if z:\n",
        "            date = z.group()\n",
        "    parsed = parse(date) \n",
        "    if parse(str(yesterday)) == parsed:\n",
        "        link = a.find_element_by_xpath('../..').get_attribute('href')\n",
        "       "
      ],
      "execution_count": null,
      "outputs": []
    },
    {
      "cell_type": "code",
      "metadata": {
        "id": "-Bu9E0mJtfLK"
      },
      "source": [
        " \n",
        "        ## Not sure if this part is valid. There's a new \"Weekend\" flair\n",
        "    if a.text.startswith('Weekend'):\n",
        "        weekend_date = a.text.split(' ')\n",
        "        parsed_date = weekend_date[-3] + ' ' + \\\n",
        "            weekend_date[-2].split(\"-\")[1] + weekend_date[-1]\n",
        "        parsed = parse(parsed_date) \n",
        "        saturday = weekend_date[-3] + ' ' + \\\n",
        "            str(int(weekend_date[-2].split(\"-\")[1]\n",
        "            .replace(',','')) - 1) + ' ' + weekend_date[-1] \n",
        "\n",
        "    if parse(str(yesterday)) == parsed: \n",
        "        link = a.find_element_by_xpath('../..').get_attribute('href')\n",
        "    elif parse(str(yesterday)) == parse(str(saturday)):\n",
        "        link = a.find_element_by_xpath('../..').get_attribute('href')"
      ],
      "execution_count": null,
      "outputs": []
    },
    {
      "cell_type": "code",
      "metadata": {
        "id": "KS2p10EVDmCm"
      },
      "source": [
        "### r/wallstreetbet has a flair summary. Check to determine what will be most \n",
        "### suitable."
      ],
      "execution_count": null,
      "outputs": []
    },
    {
      "cell_type": "markdown",
      "metadata": {
        "id": "wOgxnEFaM2PU"
      },
      "source": [
        "## Reddit API (PRAW)"
      ]
    },
    {
      "cell_type": "code",
      "metadata": {
        "id": "uv6cAUY9M47m"
      },
      "source": [
        "reddit = praw.Reddit(\n",
        "    client_id=\"JVu4C2dX7-YxNA\",\n",
        "    client_secret=\"ej0taPaFB--IiWFPYr7KM1kjo8H6UA\",\n",
        "    user_agent=\"web:test_app:v0.1 (by u/Leo_the_great_1\",\n",
        "    check_for_async=False \n",
        ")\n",
        "wsb = reddit.subreddit(\"wallstreetbets\")"
      ],
      "execution_count": null,
      "outputs": []
    },
    {
      "cell_type": "code",
      "metadata": {
        "colab": {
          "base_uri": "https://localhost:8080/"
        },
        "id": "jQoT1xHpr28N",
        "outputId": "edfd782f-c1dc-4d1d-fbe0-f24816be37c3"
      },
      "source": [
        "import pprint\n",
        "for submission in wsb.hot(limit=1):\n",
        "    pprint.pprint(vars(submission))"
      ],
      "execution_count": null,
      "outputs": [
        {
          "output_type": "stream",
          "text": [
            "{'_comments_by_id': {},\n",
            " '_fetched': False,\n",
            " '_reddit': <praw.reddit.Reddit object at 0x7f47bace0b10>,\n",
            " 'all_awardings': [{'award_sub_type': 'PREMIUM',\n",
            "                    'award_type': 'global',\n",
            "                    'awardings_required_to_grant_benefits': None,\n",
            "                    'coin_price': 30,\n",
            "                    'coin_reward': 0,\n",
            "                    'count': 2,\n",
            "                    'days_of_drip_extension': 0,\n",
            "                    'days_of_premium': 0,\n",
            "                    'description': 'A glowing commendation for all to see',\n",
            "                    'end_date': None,\n",
            "                    'giver_coin_reward': None,\n",
            "                    'icon_format': 'APNG',\n",
            "                    'icon_height': 2048,\n",
            "                    'icon_url': 'https://www.redditstatic.com/gold/awards/icon/Illuminati_512.png',\n",
            "                    'icon_width': 2048,\n",
            "                    'id': 'award_b4ff447e-05a5-42dc-9002-63568807cfe6',\n",
            "                    'is_enabled': True,\n",
            "                    'is_new': False,\n",
            "                    'name': 'All-Seeing Upvote',\n",
            "                    'penny_donate': None,\n",
            "                    'penny_price': None,\n",
            "                    'resized_icons': [{'height': 16,\n",
            "                                       'url': 'https://www.redditstatic.com/gold/awards/icon/Illuminati_512.png',\n",
            "                                       'width': 16},\n",
            "                                      {'height': 32,\n",
            "                                       'url': 'https://www.redditstatic.com/gold/awards/icon/Illuminati_512.png',\n",
            "                                       'width': 32},\n",
            "                                      {'height': 48,\n",
            "                                       'url': 'https://www.redditstatic.com/gold/awards/icon/Illuminati_512.png',\n",
            "                                       'width': 48},\n",
            "                                      {'height': 64,\n",
            "                                       'url': 'https://www.redditstatic.com/gold/awards/icon/Illuminati_512.png',\n",
            "                                       'width': 64},\n",
            "                                      {'height': 128,\n",
            "                                       'url': 'https://www.redditstatic.com/gold/awards/icon/Illuminati_512.png',\n",
            "                                       'width': 128}],\n",
            "                    'resized_static_icons': [{'height': 16,\n",
            "                                              'url': 'https://external-preview.redd.it?width=16&height=16&auto=webp&s=d88c9a453f8ac38850b7a8241cfe5804b7b4905d',\n",
            "                                              'width': 16},\n",
            "                                             {'height': 32,\n",
            "                                              'url': 'https://external-preview.redd.it?width=32&height=32&auto=webp&s=96a25019eb75878bdec4f6c012540f3baffbb1b2',\n",
            "                                              'width': 32},\n",
            "                                             {'height': 48,\n",
            "                                              'url': 'https://external-preview.redd.it?width=48&height=48&auto=webp&s=1a51d27d75afde3fbde8bba84f9338f511211461',\n",
            "                                              'width': 48},\n",
            "                                             {'height': 64,\n",
            "                                              'url': 'https://external-preview.redd.it?width=64&height=64&auto=webp&s=96af5ec460b05669ed60224cb0619bb8884abe27',\n",
            "                                              'width': 64},\n",
            "                                             {'height': 128,\n",
            "                                              'url': 'https://external-preview.redd.it?width=128&height=128&auto=webp&s=2d3e648ed2302e6258673051ca5291f57beb29d4',\n",
            "                                              'width': 128}],\n",
            "                    'start_date': None,\n",
            "                    'static_icon_height': 2048,\n",
            "                    'static_icon_url': 'https://www.redditstatic.com/gold/awards/icon/Illuminati_512.png',\n",
            "                    'static_icon_width': 2048,\n",
            "                    'subreddit_coin_reward': 0,\n",
            "                    'subreddit_id': None,\n",
            "                    'tiers_by_required_awardings': None},\n",
            "                   {'award_sub_type': 'GLOBAL',\n",
            "                    'award_type': 'global',\n",
            "                    'awardings_required_to_grant_benefits': None,\n",
            "                    'coin_price': 150,\n",
            "                    'coin_reward': 0,\n",
            "                    'count': 11,\n",
            "                    'days_of_drip_extension': 0,\n",
            "                    'days_of_premium': 0,\n",
            "                    'description': 'Thank you stranger. Shows the award.',\n",
            "                    'end_date': None,\n",
            "                    'giver_coin_reward': None,\n",
            "                    'icon_format': None,\n",
            "                    'icon_height': 2048,\n",
            "                    'icon_url': 'https://i.redd.it/award_images/t5_22cerq/klvxk1wggfd41_Helpful.png',\n",
            "                    'icon_width': 2048,\n",
            "                    'id': 'award_f44611f1-b89e-46dc-97fe-892280b13b82',\n",
            "                    'is_enabled': True,\n",
            "                    'is_new': False,\n",
            "                    'name': 'Helpful',\n",
            "                    'penny_donate': None,\n",
            "                    'penny_price': None,\n",
            "                    'resized_icons': [{'height': 16,\n",
            "                                       'url': 'https://preview.redd.it/award_images/t5_22cerq/klvxk1wggfd41_Helpful.png?width=16&height=16&auto=webp&s=a5662dfbdb402bf67866c050aa76c31c147c2f45',\n",
            "                                       'width': 16},\n",
            "                                      {'height': 32,\n",
            "                                       'url': 'https://preview.redd.it/award_images/t5_22cerq/klvxk1wggfd41_Helpful.png?width=32&height=32&auto=webp&s=a6882eb3f380e8e88009789f4d0072e17b8c59f1',\n",
            "                                       'width': 32},\n",
            "                                      {'height': 48,\n",
            "                                       'url': 'https://preview.redd.it/award_images/t5_22cerq/klvxk1wggfd41_Helpful.png?width=48&height=48&auto=webp&s=e50064b090879e8a0b55e433f6ee61d5cb5fbe1d',\n",
            "                                       'width': 48},\n",
            "                                      {'height': 64,\n",
            "                                       'url': 'https://preview.redd.it/award_images/t5_22cerq/klvxk1wggfd41_Helpful.png?width=64&height=64&auto=webp&s=8e5bb2e76683cb6b161830bcdd9642049d6adc11',\n",
            "                                       'width': 64},\n",
            "                                      {'height': 128,\n",
            "                                       'url': 'https://preview.redd.it/award_images/t5_22cerq/klvxk1wggfd41_Helpful.png?width=128&height=128&auto=webp&s=eda4a9246f95f42ee6940cc0ec65306fd20de878',\n",
            "                                       'width': 128}],\n",
            "                    'resized_static_icons': [{'height': 16,\n",
            "                                              'url': 'https://preview.redd.it/award_images/t5_22cerq/klvxk1wggfd41_Helpful.png?width=16&height=16&auto=webp&s=a5662dfbdb402bf67866c050aa76c31c147c2f45',\n",
            "                                              'width': 16},\n",
            "                                             {'height': 32,\n",
            "                                              'url': 'https://preview.redd.it/award_images/t5_22cerq/klvxk1wggfd41_Helpful.png?width=32&height=32&auto=webp&s=a6882eb3f380e8e88009789f4d0072e17b8c59f1',\n",
            "                                              'width': 32},\n",
            "                                             {'height': 48,\n",
            "                                              'url': 'https://preview.redd.it/award_images/t5_22cerq/klvxk1wggfd41_Helpful.png?width=48&height=48&auto=webp&s=e50064b090879e8a0b55e433f6ee61d5cb5fbe1d',\n",
            "                                              'width': 48},\n",
            "                                             {'height': 64,\n",
            "                                              'url': 'https://preview.redd.it/award_images/t5_22cerq/klvxk1wggfd41_Helpful.png?width=64&height=64&auto=webp&s=8e5bb2e76683cb6b161830bcdd9642049d6adc11',\n",
            "                                              'width': 64},\n",
            "                                             {'height': 128,\n",
            "                                              'url': 'https://preview.redd.it/award_images/t5_22cerq/klvxk1wggfd41_Helpful.png?width=128&height=128&auto=webp&s=eda4a9246f95f42ee6940cc0ec65306fd20de878',\n",
            "                                              'width': 128}],\n",
            "                    'start_date': None,\n",
            "                    'static_icon_height': 2048,\n",
            "                    'static_icon_url': 'https://i.redd.it/award_images/t5_22cerq/klvxk1wggfd41_Helpful.png',\n",
            "                    'static_icon_width': 2048,\n",
            "                    'subreddit_coin_reward': 0,\n",
            "                    'subreddit_id': None,\n",
            "                    'tiers_by_required_awardings': None},\n",
            "                   {'award_sub_type': 'GLOBAL',\n",
            "                    'award_type': 'global',\n",
            "                    'awardings_required_to_grant_benefits': None,\n",
            "                    'coin_price': 125,\n",
            "                    'coin_reward': 0,\n",
            "                    'count': 11,\n",
            "                    'days_of_drip_extension': 0,\n",
            "                    'days_of_premium': 0,\n",
            "                    'description': 'When you come across a feel-good thing.',\n",
            "                    'end_date': None,\n",
            "                    'giver_coin_reward': None,\n",
            "                    'icon_format': None,\n",
            "                    'icon_height': 2048,\n",
            "                    'icon_url': 'https://i.redd.it/award_images/t5_22cerq/5izbv4fn0md41_Wholesome.png',\n",
            "                    'icon_width': 2048,\n",
            "                    'id': 'award_5f123e3d-4f48-42f4-9c11-e98b566d5897',\n",
            "                    'is_enabled': True,\n",
            "                    'is_new': False,\n",
            "                    'name': 'Wholesome',\n",
            "                    'penny_donate': None,\n",
            "                    'penny_price': None,\n",
            "                    'resized_icons': [{'height': 16,\n",
            "                                       'url': 'https://preview.redd.it/award_images/t5_22cerq/5izbv4fn0md41_Wholesome.png?width=16&height=16&auto=webp&s=92932f465d58e4c16b12b6eac4ca07d27e3d11c0',\n",
            "                                       'width': 16},\n",
            "                                      {'height': 32,\n",
            "                                       'url': 'https://preview.redd.it/award_images/t5_22cerq/5izbv4fn0md41_Wholesome.png?width=32&height=32&auto=webp&s=d11484a208d68a318bf9d4fcf371171a1cb6a7ef',\n",
            "                                       'width': 32},\n",
            "                                      {'height': 48,\n",
            "                                       'url': 'https://preview.redd.it/award_images/t5_22cerq/5izbv4fn0md41_Wholesome.png?width=48&height=48&auto=webp&s=febdf28b6f39f7da7eb1365325b85e0bb49a9f63',\n",
            "                                       'width': 48},\n",
            "                                      {'height': 64,\n",
            "                                       'url': 'https://preview.redd.it/award_images/t5_22cerq/5izbv4fn0md41_Wholesome.png?width=64&height=64&auto=webp&s=b4406a2d88bf86fa3dc8a45aacf7e0c7bdccc4fb',\n",
            "                                       'width': 64},\n",
            "                                      {'height': 128,\n",
            "                                       'url': 'https://preview.redd.it/award_images/t5_22cerq/5izbv4fn0md41_Wholesome.png?width=128&height=128&auto=webp&s=19555b13e3e196b62eeb9160d1ac1d1b372dcb0b',\n",
            "                                       'width': 128}],\n",
            "                    'resized_static_icons': [{'height': 16,\n",
            "                                              'url': 'https://preview.redd.it/award_images/t5_22cerq/5izbv4fn0md41_Wholesome.png?width=16&height=16&auto=webp&s=92932f465d58e4c16b12b6eac4ca07d27e3d11c0',\n",
            "                                              'width': 16},\n",
            "                                             {'height': 32,\n",
            "                                              'url': 'https://preview.redd.it/award_images/t5_22cerq/5izbv4fn0md41_Wholesome.png?width=32&height=32&auto=webp&s=d11484a208d68a318bf9d4fcf371171a1cb6a7ef',\n",
            "                                              'width': 32},\n",
            "                                             {'height': 48,\n",
            "                                              'url': 'https://preview.redd.it/award_images/t5_22cerq/5izbv4fn0md41_Wholesome.png?width=48&height=48&auto=webp&s=febdf28b6f39f7da7eb1365325b85e0bb49a9f63',\n",
            "                                              'width': 48},\n",
            "                                             {'height': 64,\n",
            "                                              'url': 'https://preview.redd.it/award_images/t5_22cerq/5izbv4fn0md41_Wholesome.png?width=64&height=64&auto=webp&s=b4406a2d88bf86fa3dc8a45aacf7e0c7bdccc4fb',\n",
            "                                              'width': 64},\n",
            "                                             {'height': 128,\n",
            "                                              'url': 'https://preview.redd.it/award_images/t5_22cerq/5izbv4fn0md41_Wholesome.png?width=128&height=128&auto=webp&s=19555b13e3e196b62eeb9160d1ac1d1b372dcb0b',\n",
            "                                              'width': 128}],\n",
            "                    'start_date': None,\n",
            "                    'static_icon_height': 2048,\n",
            "                    'static_icon_url': 'https://i.redd.it/award_images/t5_22cerq/5izbv4fn0md41_Wholesome.png',\n",
            "                    'static_icon_width': 2048,\n",
            "                    'subreddit_coin_reward': 0,\n",
            "                    'subreddit_id': None,\n",
            "                    'tiers_by_required_awardings': None},\n",
            "                   {'award_sub_type': 'GLOBAL',\n",
            "                    'award_type': 'global',\n",
            "                    'awardings_required_to_grant_benefits': None,\n",
            "                    'coin_price': 100,\n",
            "                    'coin_reward': 0,\n",
            "                    'count': 11,\n",
            "                    'days_of_drip_extension': 0,\n",
            "                    'days_of_premium': 0,\n",
            "                    'description': \"Shows the Silver Award... and that's it.\",\n",
            "                    'end_date': None,\n",
            "                    'giver_coin_reward': None,\n",
            "                    'icon_format': None,\n",
            "                    'icon_height': 512,\n",
            "                    'icon_url': 'https://www.redditstatic.com/gold/awards/icon/silver_512.png',\n",
            "                    'icon_width': 512,\n",
            "                    'id': 'gid_1',\n",
            "                    'is_enabled': True,\n",
            "                    'is_new': False,\n",
            "                    'name': 'Silver',\n",
            "                    'penny_donate': None,\n",
            "                    'penny_price': None,\n",
            "                    'resized_icons': [{'height': 16,\n",
            "                                       'url': 'https://www.redditstatic.com/gold/awards/icon/silver_16.png',\n",
            "                                       'width': 16},\n",
            "                                      {'height': 32,\n",
            "                                       'url': 'https://www.redditstatic.com/gold/awards/icon/silver_32.png',\n",
            "                                       'width': 32},\n",
            "                                      {'height': 48,\n",
            "                                       'url': 'https://www.redditstatic.com/gold/awards/icon/silver_48.png',\n",
            "                                       'width': 48},\n",
            "                                      {'height': 64,\n",
            "                                       'url': 'https://www.redditstatic.com/gold/awards/icon/silver_64.png',\n",
            "                                       'width': 64},\n",
            "                                      {'height': 128,\n",
            "                                       'url': 'https://www.redditstatic.com/gold/awards/icon/silver_128.png',\n",
            "                                       'width': 128}],\n",
            "                    'resized_static_icons': [{'height': 16,\n",
            "                                              'url': 'https://www.redditstatic.com/gold/awards/icon/silver_16.png',\n",
            "                                              'width': 16},\n",
            "                                             {'height': 32,\n",
            "                                              'url': 'https://www.redditstatic.com/gold/awards/icon/silver_32.png',\n",
            "                                              'width': 32},\n",
            "                                             {'height': 48,\n",
            "                                              'url': 'https://www.redditstatic.com/gold/awards/icon/silver_48.png',\n",
            "                                              'width': 48},\n",
            "                                             {'height': 64,\n",
            "                                              'url': 'https://www.redditstatic.com/gold/awards/icon/silver_64.png',\n",
            "                                              'width': 64},\n",
            "                                             {'height': 128,\n",
            "                                              'url': 'https://www.redditstatic.com/gold/awards/icon/silver_128.png',\n",
            "                                              'width': 128}],\n",
            "                    'start_date': None,\n",
            "                    'static_icon_height': 512,\n",
            "                    'static_icon_url': 'https://www.redditstatic.com/gold/awards/icon/silver_512.png',\n",
            "                    'static_icon_width': 512,\n",
            "                    'subreddit_coin_reward': 0,\n",
            "                    'subreddit_id': None,\n",
            "                    'tiers_by_required_awardings': None},\n",
            "                   {'award_sub_type': 'GLOBAL',\n",
            "                    'award_type': 'global',\n",
            "                    'awardings_required_to_grant_benefits': None,\n",
            "                    'coin_price': 80,\n",
            "                    'coin_reward': 0,\n",
            "                    'count': 17,\n",
            "                    'days_of_drip_extension': 0,\n",
            "                    'days_of_premium': 0,\n",
            "                    'description': 'Everything is better with a good hug',\n",
            "                    'end_date': None,\n",
            "                    'giver_coin_reward': 0,\n",
            "                    'icon_format': 'PNG',\n",
            "                    'icon_height': 2048,\n",
            "                    'icon_url': 'https://i.redd.it/award_images/t5_q0gj4/ks45ij6w05f61_oldHugz.png',\n",
            "                    'icon_width': 2048,\n",
            "                    'id': 'award_8352bdff-3e03-4189-8a08-82501dd8f835',\n",
            "                    'is_enabled': True,\n",
            "                    'is_new': False,\n",
            "                    'name': 'Hugz',\n",
            "                    'penny_donate': 0,\n",
            "                    'penny_price': 0,\n",
            "                    'resized_icons': [{'height': 16,\n",
            "                                       'url': 'https://preview.redd.it/award_images/t5_q0gj4/ks45ij6w05f61_oldHugz.png?width=16&height=16&auto=webp&s=73a23bf7f08b633508dedf457f2704c522b94a04',\n",
            "                                       'width': 16},\n",
            "                                      {'height': 32,\n",
            "                                       'url': 'https://preview.redd.it/award_images/t5_q0gj4/ks45ij6w05f61_oldHugz.png?width=32&height=32&auto=webp&s=50f2f16e71d2929e3d7275060af3ad6b851dbfb1',\n",
            "                                       'width': 32},\n",
            "                                      {'height': 48,\n",
            "                                       'url': 'https://preview.redd.it/award_images/t5_q0gj4/ks45ij6w05f61_oldHugz.png?width=48&height=48&auto=webp&s=ca487311563425e195699a4d7e4c57a98cbfde8b',\n",
            "                                       'width': 48},\n",
            "                                      {'height': 64,\n",
            "                                       'url': 'https://preview.redd.it/award_images/t5_q0gj4/ks45ij6w05f61_oldHugz.png?width=64&height=64&auto=webp&s=7b4eedcffb1c09a826e7837532c52979760f1d2b',\n",
            "                                       'width': 64},\n",
            "                                      {'height': 128,\n",
            "                                       'url': 'https://preview.redd.it/award_images/t5_q0gj4/ks45ij6w05f61_oldHugz.png?width=128&height=128&auto=webp&s=e4d5ab237eb71a9f02bb3bf9ad5ee43741918d6c',\n",
            "                                       'width': 128}],\n",
            "                    'resized_static_icons': [{'height': 16,\n",
            "                                              'url': 'https://preview.redd.it/award_images/t5_q0gj4/fpm0r5ryq1361_PolarHugs.png?width=16&height=16&auto=webp&s=69997ace3ef4ffc099b81d774c2c8f1530602875',\n",
            "                                              'width': 16},\n",
            "                                             {'height': 32,\n",
            "                                              'url': 'https://preview.redd.it/award_images/t5_q0gj4/fpm0r5ryq1361_PolarHugs.png?width=32&height=32&auto=webp&s=e9519d1999ef9dce5c8a9f59369cb92f52d95319',\n",
            "                                              'width': 32},\n",
            "                                             {'height': 48,\n",
            "                                              'url': 'https://preview.redd.it/award_images/t5_q0gj4/fpm0r5ryq1361_PolarHugs.png?width=48&height=48&auto=webp&s=f076c6434fb2d2f9075991810fd845c40fa73fc6',\n",
            "                                              'width': 48},\n",
            "                                             {'height': 64,\n",
            "                                              'url': 'https://preview.redd.it/award_images/t5_q0gj4/fpm0r5ryq1361_PolarHugs.png?width=64&height=64&auto=webp&s=85527145e0c4b754306a30df29e584fd16187636',\n",
            "                                              'width': 64},\n",
            "                                             {'height': 128,\n",
            "                                              'url': 'https://preview.redd.it/award_images/t5_q0gj4/fpm0r5ryq1361_PolarHugs.png?width=128&height=128&auto=webp&s=b8843cdf82c3b741d7af057c14076dcd2621e811',\n",
            "                                              'width': 128}],\n",
            "                    'start_date': None,\n",
            "                    'static_icon_height': 2048,\n",
            "                    'static_icon_url': 'https://i.redd.it/award_images/t5_q0gj4/fpm0r5ryq1361_PolarHugs.png',\n",
            "                    'static_icon_width': 2048,\n",
            "                    'subreddit_coin_reward': 0,\n",
            "                    'subreddit_id': None,\n",
            "                    'tiers_by_required_awardings': None}],\n",
            " 'allow_live_comments': True,\n",
            " 'approved_at_utc': None,\n",
            " 'approved_by': None,\n",
            " 'archived': False,\n",
            " 'author': Redditor(name='OPINION_IS_UNPOPULAR'),\n",
            " 'author_flair_background_color': '',\n",
            " 'author_flair_css_class': None,\n",
            " 'author_flair_richtext': [{'e': 'text',\n",
            "                            't': 'top notch guava flavored mango eggplant'}],\n",
            " 'author_flair_template_id': None,\n",
            " 'author_flair_text': 'top notch guava flavored mango eggplant',\n",
            " 'author_flair_text_color': 'dark',\n",
            " 'author_flair_type': 'richtext',\n",
            " 'author_fullname': 't2_bd6q5',\n",
            " 'author_patreon_flair': False,\n",
            " 'author_premium': True,\n",
            " 'awarders': [],\n",
            " 'banned_at_utc': None,\n",
            " 'banned_by': None,\n",
            " 'can_gild': False,\n",
            " 'can_mod_post': False,\n",
            " 'category': None,\n",
            " 'clicked': False,\n",
            " 'comment_limit': 2048,\n",
            " 'comment_sort': 'confidence',\n",
            " 'content_categories': None,\n",
            " 'contest_mode': False,\n",
            " 'created': 1614366020.0,\n",
            " 'created_utc': 1614337220.0,\n",
            " 'discussion_type': None,\n",
            " 'distinguished': None,\n",
            " 'domain': 'self.wallstreetbets',\n",
            " 'downs': 0,\n",
            " 'edited': False,\n",
            " 'gilded': 0,\n",
            " 'gildings': {'gid_1': 11},\n",
            " 'hidden': False,\n",
            " 'hide_score': False,\n",
            " 'id': 'lsvesi',\n",
            " 'is_crosspostable': False,\n",
            " 'is_meta': False,\n",
            " 'is_original_content': False,\n",
            " 'is_reddit_media_domain': False,\n",
            " 'is_robot_indexable': True,\n",
            " 'is_self': True,\n",
            " 'is_video': False,\n",
            " 'likes': None,\n",
            " 'link_flair_background_color': '#ffd635',\n",
            " 'link_flair_css_class': 'daily',\n",
            " 'link_flair_richtext': [{'e': 'text', 't': 'Daily Discussion'}],\n",
            " 'link_flair_template_id': '7a32c644-8394-11e8-87f6-0ee6340c53d4',\n",
            " 'link_flair_text': 'Daily Discussion',\n",
            " 'link_flair_text_color': 'dark',\n",
            " 'link_flair_type': 'richtext',\n",
            " 'locked': False,\n",
            " 'media': None,\n",
            " 'media_embed': {},\n",
            " 'media_only': False,\n",
            " 'mod_note': None,\n",
            " 'mod_reason_by': None,\n",
            " 'mod_reason_title': None,\n",
            " 'mod_reports': [],\n",
            " 'name': 't3_lsvesi',\n",
            " 'no_follow': False,\n",
            " 'num_comments': 29949,\n",
            " 'num_crossposts': 0,\n",
            " 'num_reports': None,\n",
            " 'over_18': False,\n",
            " 'parent_whitelist_status': 'some_ads',\n",
            " 'permalink': '/r/wallstreetbets/comments/lsvesi/daily_discussion_thread_for_february_26_2021/',\n",
            " 'pinned': False,\n",
            " 'pwls': 7,\n",
            " 'quarantine': False,\n",
            " 'removal_reason': None,\n",
            " 'removed_by': None,\n",
            " 'removed_by_category': None,\n",
            " 'report_reasons': None,\n",
            " 'saved': False,\n",
            " 'score': 1754,\n",
            " 'secure_media': None,\n",
            " 'secure_media_embed': {},\n",
            " 'selftext': 'Your daily trading discussion thread. Please keep the '\n",
            "             'shitposting to a minimum. \\n'\n",
            "             '\\n'\n",
            "             '^Navigate ^WSB |^We ^recommend ^best ^daily ^DD\\n'\n",
            "             ':--|:--                                 \\n'\n",
            "             '**DD** | '\n",
            "             '[All](https://reddit.com/r/wallstreetbets/search?sort=new&restrict_sr=on&q=flair%3ADD) '\n",
            "             '/ [**Best '\n",
            "             'Daily**](https://www.reddit.com/r/wallstreetbets/search?sort=top&q=flair%3ADD&restrict_sr=on&t=day) '\n",
            "             '/ [Best '\n",
            "             'Weekly](https://www.reddit.com/r/wallstreetbets/search?sort=top&q=flair%3ADD&restrict_sr=on&t=week)\\n'\n",
            "             '**Discussion** | '\n",
            "             '[All](https://reddit.com/r/wallstreetbets/search?sort=new&restrict_sr=on&q=flair%3ADiscussion) '\n",
            "             '/ [**Best '\n",
            "             'Daily**](https://www.reddit.com/r/wallstreetbets/search?sort=top&q=flair%3ADiscussion&restrict_sr=on&t=day) '\n",
            "             '/ [Best '\n",
            "             'Weekly](https://www.reddit.com/r/wallstreetbets/search?sort=top&q=flair%3ADiscussion&restrict_sr=on&t=week)\\n'\n",
            "             '**YOLO** | '\n",
            "             '[All](https://reddit.com/r/wallstreetbets/search?sort=new&restrict_sr=on&q=flair%3AYOLO) '\n",
            "             '/ [**Best '\n",
            "             'Daily**](https://www.reddit.com/r/wallstreetbets/search?sort=top&q=flair%3AYOLO&restrict_sr=on&t=day) '\n",
            "             '/ [Best '\n",
            "             'Weekly](https://www.reddit.com/r/wallstreetbets/search?sort=top&q=flair%3AYOLO&restrict_sr=on&t=week)\\n'\n",
            "             '**Gain** | '\n",
            "             '[All](https://reddit.com/r/wallstreetbets/search?sort=new&restrict_sr=on&q=flair%3AGain) '\n",
            "             '/ [**Best '\n",
            "             'Daily**](https://www.reddit.com/r/wallstreetbets/search?sort=top&q=flair%3AGain&restrict_sr=on&t=day) '\n",
            "             '/ [Best '\n",
            "             'Weekly](https://www.reddit.com/r/wallstreetbets/search?sort=top&q=flair%3AGain&restrict_sr=on&t=week)\\n'\n",
            "             '**Loss** | '\n",
            "             '[All](https://reddit.com/r/wallstreetbets/search?sort=new&restrict_sr=on&q=flair%3ALoss) '\n",
            "             '/ [**Best '\n",
            "             'Daily**](https://www.reddit.com/r/wallstreetbets/search?sort=top&q=flair%3ALoss&restrict_sr=on&t=day) '\n",
            "             '/ [Best '\n",
            "             'Weekly](https://www.reddit.com/r/wallstreetbets/search?sort=top&q=flair%3ALoss&restrict_sr=on&t=week)\\n'\n",
            "             '\\n'\n",
            "             '\\n'\n",
            "             '[Weekly Earnings Discussion '\n",
            "             'Thread](https://www.reddit.com/r/wallstreetbets/search?sort=new&restrict_sr=on&q=flair%3A%22Earnings%20Thread%22)\\n'\n",
            "             '\\n'\n",
            "             '**Read the '\n",
            "             '[rules](https://www.reddit.com/r/wallstreetbets/wiki/contentguide) '\n",
            "             'and make sure other people follow them.**\\n'\n",
            "             '\\n'\n",
            "             'Try [No Meme '\n",
            "             'Mode](https://www.reddit.com/r/wallstreetbets/search/?q=-flair%3AMeme%20-flair%3ASatire%20-flair%3AShitpost&restrict_sr=1&t=day&sort=hot), '\n",
            "             'also accessible through the top bar.',\n",
            " 'selftext_html': '<!-- SC_OFF --><div class=\"md\"><p>Your daily trading '\n",
            "                  'discussion thread. Please keep the shitposting to a '\n",
            "                  'minimum. </p>\\n'\n",
            "                  '\\n'\n",
            "                  '<table><thead>\\n'\n",
            "                  '<tr>\\n'\n",
            "                  '<th align=\"left\"><sup>Navigate</sup> <sup>WSB</sup></th>\\n'\n",
            "                  '<th align=\"left\"><sup>We</sup> <sup>recommend</sup> '\n",
            "                  '<sup>best</sup> <sup>daily</sup> <sup>DD</sup></th>\\n'\n",
            "                  '</tr>\\n'\n",
            "                  '</thead><tbody>\\n'\n",
            "                  '<tr>\\n'\n",
            "                  '<td align=\"left\"><strong>DD</strong></td>\\n'\n",
            "                  '<td align=\"left\"><a '\n",
            "                  'href=\"https://reddit.com/r/wallstreetbets/search?sort=new&amp;restrict_sr=on&amp;q=flair%3ADD\">All</a> '\n",
            "                  '/ <a '\n",
            "                  'href=\"https://www.reddit.com/r/wallstreetbets/search?sort=top&amp;q=flair%3ADD&amp;restrict_sr=on&amp;t=day\"><strong>Best '\n",
            "                  'Daily</strong></a> / <a '\n",
            "                  'href=\"https://www.reddit.com/r/wallstreetbets/search?sort=top&amp;q=flair%3ADD&amp;restrict_sr=on&amp;t=week\">Best '\n",
            "                  'Weekly</a></td>\\n'\n",
            "                  '</tr>\\n'\n",
            "                  '<tr>\\n'\n",
            "                  '<td align=\"left\"><strong>Discussion</strong></td>\\n'\n",
            "                  '<td align=\"left\"><a '\n",
            "                  'href=\"https://reddit.com/r/wallstreetbets/search?sort=new&amp;restrict_sr=on&amp;q=flair%3ADiscussion\">All</a> '\n",
            "                  '/ <a '\n",
            "                  'href=\"https://www.reddit.com/r/wallstreetbets/search?sort=top&amp;q=flair%3ADiscussion&amp;restrict_sr=on&amp;t=day\"><strong>Best '\n",
            "                  'Daily</strong></a> / <a '\n",
            "                  'href=\"https://www.reddit.com/r/wallstreetbets/search?sort=top&amp;q=flair%3ADiscussion&amp;restrict_sr=on&amp;t=week\">Best '\n",
            "                  'Weekly</a></td>\\n'\n",
            "                  '</tr>\\n'\n",
            "                  '<tr>\\n'\n",
            "                  '<td align=\"left\"><strong>YOLO</strong></td>\\n'\n",
            "                  '<td align=\"left\"><a '\n",
            "                  'href=\"https://reddit.com/r/wallstreetbets/search?sort=new&amp;restrict_sr=on&amp;q=flair%3AYOLO\">All</a> '\n",
            "                  '/ <a '\n",
            "                  'href=\"https://www.reddit.com/r/wallstreetbets/search?sort=top&amp;q=flair%3AYOLO&amp;restrict_sr=on&amp;t=day\"><strong>Best '\n",
            "                  'Daily</strong></a> / <a '\n",
            "                  'href=\"https://www.reddit.com/r/wallstreetbets/search?sort=top&amp;q=flair%3AYOLO&amp;restrict_sr=on&amp;t=week\">Best '\n",
            "                  'Weekly</a></td>\\n'\n",
            "                  '</tr>\\n'\n",
            "                  '<tr>\\n'\n",
            "                  '<td align=\"left\"><strong>Gain</strong></td>\\n'\n",
            "                  '<td align=\"left\"><a '\n",
            "                  'href=\"https://reddit.com/r/wallstreetbets/search?sort=new&amp;restrict_sr=on&amp;q=flair%3AGain\">All</a> '\n",
            "                  '/ <a '\n",
            "                  'href=\"https://www.reddit.com/r/wallstreetbets/search?sort=top&amp;q=flair%3AGain&amp;restrict_sr=on&amp;t=day\"><strong>Best '\n",
            "                  'Daily</strong></a> / <a '\n",
            "                  'href=\"https://www.reddit.com/r/wallstreetbets/search?sort=top&amp;q=flair%3AGain&amp;restrict_sr=on&amp;t=week\">Best '\n",
            "                  'Weekly</a></td>\\n'\n",
            "                  '</tr>\\n'\n",
            "                  '<tr>\\n'\n",
            "                  '<td align=\"left\"><strong>Loss</strong></td>\\n'\n",
            "                  '<td align=\"left\"><a '\n",
            "                  'href=\"https://reddit.com/r/wallstreetbets/search?sort=new&amp;restrict_sr=on&amp;q=flair%3ALoss\">All</a> '\n",
            "                  '/ <a '\n",
            "                  'href=\"https://www.reddit.com/r/wallstreetbets/search?sort=top&amp;q=flair%3ALoss&amp;restrict_sr=on&amp;t=day\"><strong>Best '\n",
            "                  'Daily</strong></a> / <a '\n",
            "                  'href=\"https://www.reddit.com/r/wallstreetbets/search?sort=top&amp;q=flair%3ALoss&amp;restrict_sr=on&amp;t=week\">Best '\n",
            "                  'Weekly</a></td>\\n'\n",
            "                  '</tr>\\n'\n",
            "                  '</tbody></table>\\n'\n",
            "                  '\\n'\n",
            "                  '<p><a '\n",
            "                  'href=\"https://www.reddit.com/r/wallstreetbets/search?sort=new&amp;restrict_sr=on&amp;q=flair%3A%22Earnings%20Thread%22\">Weekly '\n",
            "                  'Earnings Discussion Thread</a></p>\\n'\n",
            "                  '\\n'\n",
            "                  '<p><strong>Read the <a '\n",
            "                  'href=\"https://www.reddit.com/r/wallstreetbets/wiki/contentguide\">rules</a> '\n",
            "                  'and make sure other people follow them.</strong></p>\\n'\n",
            "                  '\\n'\n",
            "                  '<p>Try <a '\n",
            "                  'href=\"https://www.reddit.com/r/wallstreetbets/search/?q=-flair%3AMeme%20-flair%3ASatire%20-flair%3AShitpost&amp;restrict_sr=1&amp;t=day&amp;sort=hot\">No '\n",
            "                  'Meme Mode</a>, also accessible through the top bar.</p>\\n'\n",
            "                  '</div><!-- SC_ON -->',\n",
            " 'send_replies': False,\n",
            " 'spoiler': False,\n",
            " 'stickied': True,\n",
            " 'subreddit': Subreddit(display_name='wallstreetbets'),\n",
            " 'subreddit_id': 't5_2th52',\n",
            " 'subreddit_name_prefixed': 'r/wallstreetbets',\n",
            " 'subreddit_subscribers': 9315759,\n",
            " 'subreddit_type': 'public',\n",
            " 'suggested_sort': 'new',\n",
            " 'thumbnail': 'self',\n",
            " 'thumbnail_height': None,\n",
            " 'thumbnail_width': None,\n",
            " 'title': 'Daily Discussion Thread for February 26, 2021',\n",
            " 'top_awarded_type': None,\n",
            " 'total_awards_received': 52,\n",
            " 'treatment_tags': [],\n",
            " 'ups': 1754,\n",
            " 'upvote_ratio': 0.94,\n",
            " 'url': 'https://www.reddit.com/r/wallstreetbets/comments/lsvesi/daily_discussion_thread_for_february_26_2021/',\n",
            " 'user_reports': [],\n",
            " 'view_count': None,\n",
            " 'visited': False,\n",
            " 'whitelist_status': 'some_ads',\n",
            " 'wls': 7}\n"
          ],
          "name": "stdout"
        }
      ]
    },
    {
      "cell_type": "code",
      "metadata": {
        "id": "tCA6bz3MrkvD"
      },
      "source": [
        "#### Can we construct an index of retail investor \"frenzy\"?\n"
      ],
      "execution_count": null,
      "outputs": []
    }
  ]
}