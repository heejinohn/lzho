{
  "nbformat": 4,
  "nbformat_minor": 0,
  "metadata": {
    "colab": {
      "name": "Untitled1.ipynb",
      "provenance": [],
      "mount_file_id": "https://github.com/heejinohn/lzho/blob/main/Reddit_Data.ipynb",
      "authorship_tag": "ABX9TyPH4fXjqmpR5Fo3GaL/YhMn",
      "include_colab_link": true
    },
    "kernelspec": {
      "name": "python3",
      "display_name": "Python 3"
    }
  },
  "cells": [
    {
      "cell_type": "markdown",
      "metadata": {
        "id": "view-in-github",
        "colab_type": "text"
      },
      "source": [
        "<a href=\"https://colab.research.google.com/github/heejinohn/lzho/blob/heejinohn/Reddit_Data.ipynb\" target=\"_parent\"><img src=\"https://colab.research.google.com/assets/colab-badge.svg\" alt=\"Open In Colab\"/></a>"
      ]
    },
    {
      "cell_type": "markdown",
      "metadata": {
        "id": "lrXzZnYPprBv"
      },
      "source": [
        "# Initial setup"
      ]
    },
    {
      "cell_type": "code",
      "metadata": {
        "colab": {
          "base_uri": "https://localhost:8080/"
        },
        "id": "GDc7C9s3ppLa",
        "outputId": "aa40d9b5-4c57-4e40-b939-b20065040dd3"
      },
      "source": [
        "!pip install wrds datetime psaw\n",
        "import pandas as pd, numpy as np, wrds, datetime, sqlite3, requests, os, re\n",
        "import datetime as dt\n",
        "from psaw import PushshiftAPI"
      ],
      "execution_count": 5,
      "outputs": [
        {
          "output_type": "stream",
          "text": [
            "Requirement already satisfied: wrds in /usr/local/lib/python3.7/dist-packages (3.0.8)\n",
            "Requirement already satisfied: datetime in /usr/local/lib/python3.7/dist-packages (4.3)\n",
            "Requirement already satisfied: psaw in /usr/local/lib/python3.7/dist-packages (0.1.0)\n",
            "Requirement already satisfied: psycopg2-binary in /usr/local/lib/python3.7/dist-packages (from wrds) (2.8.6)\n",
            "Requirement already satisfied: mock in /usr/local/lib/python3.7/dist-packages (from wrds) (4.0.3)\n",
            "Requirement already satisfied: sqlalchemy in /usr/local/lib/python3.7/dist-packages (from wrds) (1.3.23)\n",
            "Requirement already satisfied: pandas in /usr/local/lib/python3.7/dist-packages (from wrds) (1.1.5)\n",
            "Requirement already satisfied: zope.interface in /usr/local/lib/python3.7/dist-packages (from datetime) (5.3.0)\n",
            "Requirement already satisfied: pytz in /usr/local/lib/python3.7/dist-packages (from datetime) (2018.9)\n",
            "Requirement already satisfied: Click in /usr/local/lib/python3.7/dist-packages (from psaw) (7.1.2)\n",
            "Requirement already satisfied: requests in /usr/local/lib/python3.7/dist-packages (from psaw) (2.23.0)\n",
            "Requirement already satisfied: python-dateutil>=2.7.3 in /usr/local/lib/python3.7/dist-packages (from pandas->wrds) (2.8.1)\n",
            "Requirement already satisfied: numpy>=1.15.4 in /usr/local/lib/python3.7/dist-packages (from pandas->wrds) (1.19.5)\n",
            "Requirement already satisfied: setuptools in /usr/local/lib/python3.7/dist-packages (from zope.interface->datetime) (54.1.2)\n",
            "Requirement already satisfied: urllib3!=1.25.0,!=1.25.1,<1.26,>=1.21.1 in /usr/local/lib/python3.7/dist-packages (from requests->psaw) (1.24.3)\n",
            "Requirement already satisfied: certifi>=2017.4.17 in /usr/local/lib/python3.7/dist-packages (from requests->psaw) (2020.12.5)\n",
            "Requirement already satisfied: idna<3,>=2.5 in /usr/local/lib/python3.7/dist-packages (from requests->psaw) (2.10)\n",
            "Requirement already satisfied: chardet<4,>=3.0.2 in /usr/local/lib/python3.7/dist-packages (from requests->psaw) (3.0.4)\n",
            "Requirement already satisfied: six>=1.5 in /usr/local/lib/python3.7/dist-packages (from python-dateutil>=2.7.3->pandas->wrds) (1.15.0)\n"
          ],
          "name": "stdout"
        }
      ]
    },
    {
      "cell_type": "markdown",
      "metadata": {
        "id": "QfFrLT6lV7Bo"
      },
      "source": [
        "# Read datasets"
      ]
    },
    {
      "cell_type": "code",
      "metadata": {
        "id": "tnZsllL-p-SX"
      },
      "source": [
        "option_list = pd.read_sas(\"/content/drive/MyDrive/option_ticker.sas7bdat\",encoding=\"utf-8\")"
      ],
      "execution_count": 6,
      "outputs": []
    },
    {
      "cell_type": "code",
      "metadata": {
        "colab": {
          "base_uri": "https://localhost:8080/"
        },
        "id": "-s0ncG1oUVVf",
        "outputId": "20387b85-51f2-446f-da5c-a47d908e2983"
      },
      "source": [
        "db = wrds.Connection()"
      ],
      "execution_count": 7,
      "outputs": [
        {
          "output_type": "stream",
          "text": [
            "Enter your WRDS username [root]:hohn\n",
            "Enter your password:··········\n",
            "WRDS recommends setting up a .pgpass file.\n",
            "You can find more info here:\n",
            "https://www.postgresql.org/docs/9.5/static/libpq-pgpass.html.\n",
            "Loading library list...\n",
            "Done\n"
          ],
          "name": "stdout"
        }
      ]
    },
    {
      "cell_type": "code",
      "metadata": {
        "id": "qm3WzrZAUcqm"
      },
      "source": [
        "om_name = (db.get_table('optionm','secnmd')\n",
        "                .groupby(['secid','ticker','issuer'])['effect_date']\n",
        "                .agg(['min','max'])\n",
        "                .reset_index().rename({'min':'start','max':'end'},axis=1))"
      ],
      "execution_count": 8,
      "outputs": []
    },
    {
      "cell_type": "code",
      "metadata": {
        "id": "hogLn7uNV5wR"
      },
      "source": [
        "om_name['ticker'] = np.where(om_name['ticker']=='ZZZZ',np.NaN,om_name['ticker'])"
      ],
      "execution_count": 9,
      "outputs": []
    },
    {
      "cell_type": "markdown",
      "metadata": {
        "id": "iSXYciebE6Da"
      },
      "source": [
        "Unique ticker list from OptionMetrics"
      ]
    },
    {
      "cell_type": "code",
      "metadata": {
        "id": "bKv84fM3HA5O"
      },
      "source": [
        "ticker = list(om_name.ticker.dropna().unique())"
      ],
      "execution_count": 10,
      "outputs": []
    },
    {
      "cell_type": "markdown",
      "metadata": {
        "id": "gJxHajgfspwe"
      },
      "source": [
        "---\n",
        "# *Don't run here if file already saved.*\n",
        "---"
      ]
    },
    {
      "cell_type": "markdown",
      "metadata": {
        "id": "acLupqZwSvRj"
      },
      "source": [
        "## Grab Reddit submissions using Pushshift API\n",
        "\n"
      ]
    },
    {
      "cell_type": "code",
      "metadata": {
        "id": "MD7XOOwJbkHr"
      },
      "source": [
        "api = PushshiftAPI()"
      ],
      "execution_count": 11,
      "outputs": []
    },
    {
      "cell_type": "markdown",
      "metadata": {
        "id": "aYTaIUC8REi8"
      },
      "source": [
        "We only examine posts up to 2020."
      ]
    },
    {
      "cell_type": "code",
      "metadata": {
        "id": "vTNuGRwPSsFW"
      },
      "source": [
        "if not os.path.exists('/content/drive/MyDrive/submission.parquet.gzip'):\n",
        "    field = ['id','created','created_utc','num_comments','score',\n",
        "            'upvote_ratio','full_link','title','selftext','link_flair_text']\n",
        "    end_epoch = int(dt.datetime(2021,1,1).timestamp())\n",
        "    gen = api.search_submissions(subreddit='wallstreetbets',\n",
        "                                before=end_epoch)\n",
        "    submission = pd.DataFrame([post.d_ for post in gen])[field]\n",
        "    submission['date'] = pd.to_datetime(submission['created'], unit='s', utc=True)\n",
        "    submission['date_utc'] = pd.to_datetime(submission['created_utc'], unit='s', utc=True)\n",
        "    col = submission.columns.to_list()\n",
        "    col = col[0:1] + col[-2:] + col[3:-2]\n",
        "    submission = submission[col]\n",
        "    #submission = pd.DataFrame([post.d_ for post in gen])\n",
        "    submission.to_parquet('/content/drive/MyDrive/submission.parquet.gzip', compression='gzip')"
      ],
      "execution_count": 12,
      "outputs": []
    },
    {
      "cell_type": "markdown",
      "metadata": {
        "id": "0wLk5qYet6iI"
      },
      "source": [
        "---"
      ]
    },
    {
      "cell_type": "code",
      "metadata": {
        "id": "DMeynyqDnJVm"
      },
      "source": [
        "submission = pd.read_parquet('/content/drive/MyDrive/submission.parquet.gzip')"
      ],
      "execution_count": 13,
      "outputs": []
    },
    {
      "cell_type": "code",
      "metadata": {
        "id": "mFYLSVvYoR-O"
      },
      "source": [
        "submission.set_index(['id'],inplace=True)"
      ],
      "execution_count": 14,
      "outputs": []
    },
    {
      "cell_type": "markdown",
      "metadata": {
        "id": "ldqJvxl3kKEw"
      },
      "source": [
        "# Link ticker to WSB posts"
      ]
    },
    {
      "cell_type": "code",
      "metadata": {
        "id": "vOSPSWKZmm29"
      },
      "source": [
        "def find_ticker(text):\n",
        "    global ticker\n",
        "    a_set = set(text.split())\n",
        "    b_set = set(ticker).union(set('$' + tic for tic in ticker))\n",
        "    hit = a_set.intersection(b_set)\n",
        "    if len(a_set.intersection(b_set)) > 0:\n",
        "        return [s[1:] if s.startswith('$') else s  for s in hit]\n",
        "    else:\n",
        "        return []            "
      ],
      "execution_count": 52,
      "outputs": []
    },
    {
      "cell_type": "code",
      "metadata": {
        "id": "kREFMau9wl7D"
      },
      "source": [
        "submission['title_ticker'] = submission['title'].apply(find_ticker)\n",
        "submission['selftext_ticker'] = submission['selftext'].apply(find_ticker)"
      ],
      "execution_count": null,
      "outputs": []
    },
    {
      "cell_type": "code",
      "metadata": {
        "id": "1oTJtSIjbTEd"
      },
      "source": [
        "submission.to_parquet('/content/drive/MyDrive/submission_ticker.parquet.gzip', compression='gzip')"
      ],
      "execution_count": null,
      "outputs": []
    },
    {
      "cell_type": "markdown",
      "metadata": {
        "id": "LK9_cdQpizPT"
      },
      "source": [
        "Variables to capture from posts\n",
        "\n",
        "* Number of posts\n",
        "* Combined rewards\n",
        "* Comments\n",
        "* Score"
      ]
    }
  ]
}