{
  "nbformat": 4,
  "nbformat_minor": 0,
  "metadata": {
    "colab": {
      "name": "qrtopt.ipynb",
      "provenance": [],
      "authorship_tag": "ABX9TyNYVCR86uJVd/d7EvkW69Md",
      "include_colab_link": true
    },
    "kernelspec": {
      "name": "python3",
      "display_name": "Python 3"
    },
    "language_info": {
      "name": "python"
    }
  },
  "cells": [
    {
      "cell_type": "markdown",
      "metadata": {
        "id": "view-in-github",
        "colab_type": "text"
      },
      "source": [
        "<a href=\"https://colab.research.google.com/github/heejinohn/lzho/blob/heejinohn/qrtopt.ipynb\" target=\"_parent\"><img src=\"https://colab.research.google.com/assets/colab-badge.svg\" alt=\"Open In Colab\"/></a>"
      ]
    },
    {
      "cell_type": "code",
      "metadata": {
        "id": "_7WZK0ndhDl4",
        "colab": {
          "base_uri": "https://localhost:8080/"
        },
        "outputId": "9dd94a3b-56b3-4912-8bbf-2af8d58e3a09"
      },
      "source": [
        "!pip install wrds"
      ],
      "execution_count": 1,
      "outputs": [
        {
          "output_type": "stream",
          "text": [
            "Collecting wrds\n",
            "  Downloading wrds-3.0.10-py3-none-any.whl (11 kB)\n",
            "Requirement already satisfied: numpy in /usr/local/lib/python3.7/dist-packages (from wrds) (1.19.5)\n",
            "Requirement already satisfied: sqlalchemy in /usr/local/lib/python3.7/dist-packages (from wrds) (1.4.20)\n",
            "Requirement already satisfied: pandas in /usr/local/lib/python3.7/dist-packages (from wrds) (1.1.5)\n",
            "Collecting psycopg2-binary\n",
            "  Downloading psycopg2_binary-2.9.1-cp37-cp37m-manylinux_2_17_x86_64.manylinux2014_x86_64.whl (3.4 MB)\n",
            "\u001b[K     |████████████████████████████████| 3.4 MB 10.2 MB/s \n",
            "\u001b[?25hCollecting mock\n",
            "  Downloading mock-4.0.3-py3-none-any.whl (28 kB)\n",
            "Requirement already satisfied: pytz>=2017.2 in /usr/local/lib/python3.7/dist-packages (from pandas->wrds) (2018.9)\n",
            "Requirement already satisfied: python-dateutil>=2.7.3 in /usr/local/lib/python3.7/dist-packages (from pandas->wrds) (2.8.1)\n",
            "Requirement already satisfied: six>=1.5 in /usr/local/lib/python3.7/dist-packages (from python-dateutil>=2.7.3->pandas->wrds) (1.15.0)\n",
            "Requirement already satisfied: importlib-metadata in /usr/local/lib/python3.7/dist-packages (from sqlalchemy->wrds) (4.6.1)\n",
            "Requirement already satisfied: greenlet!=0.4.17 in /usr/local/lib/python3.7/dist-packages (from sqlalchemy->wrds) (1.1.0)\n",
            "Requirement already satisfied: zipp>=0.5 in /usr/local/lib/python3.7/dist-packages (from importlib-metadata->sqlalchemy->wrds) (3.5.0)\n",
            "Requirement already satisfied: typing-extensions>=3.6.4 in /usr/local/lib/python3.7/dist-packages (from importlib-metadata->sqlalchemy->wrds) (3.7.4.3)\n",
            "Installing collected packages: psycopg2-binary, mock, wrds\n",
            "Successfully installed mock-4.0.3 psycopg2-binary-2.9.1 wrds-3.0.10\n"
          ],
          "name": "stdout"
        }
      ]
    },
    {
      "cell_type": "code",
      "metadata": {
        "id": "Q_GqDn5vhG0g"
      },
      "source": [
        "import wrds"
      ],
      "execution_count": 2,
      "outputs": []
    },
    {
      "cell_type": "code",
      "metadata": {
        "colab": {
          "base_uri": "https://localhost:8080/"
        },
        "id": "E5VYW205hZ2q",
        "outputId": "0606915d-3d51-40e1-9d9c-ca43f01327be"
      },
      "source": [
        "db = wrds.Connection()"
      ],
      "execution_count": 3,
      "outputs": [
        {
          "output_type": "stream",
          "text": [
            "Enter your WRDS username [root]:hohn\n",
            "Enter your password:··········\n",
            "WRDS recommends setting up a .pgpass file.\n",
            "You can find more info here:\n",
            "https://www.postgresql.org/docs/9.5/static/libpq-pgpass.html.\n",
            "Loading library list...\n",
            "Done\n"
          ],
          "name": "stdout"
        }
      ]
    },
    {
      "cell_type": "code",
      "metadata": {
        "colab": {
          "base_uri": "https://localhost:8080/",
          "height": 221
        },
        "id": "zBFFXFAJhcQV",
        "outputId": "c927632e-766c-4b9d-f690-fe409f819d05"
      },
      "source": [
        "db.describe_table('optionm','opvold')"
      ],
      "execution_count": 4,
      "outputs": [
        {
          "output_type": "stream",
          "text": [
            "Approximately 61360128 rows in optionm.opvold.\n"
          ],
          "name": "stdout"
        },
        {
          "output_type": "execute_result",
          "data": {
            "text/html": [
              "<div>\n",
              "<style scoped>\n",
              "    .dataframe tbody tr th:only-of-type {\n",
              "        vertical-align: middle;\n",
              "    }\n",
              "\n",
              "    .dataframe tbody tr th {\n",
              "        vertical-align: top;\n",
              "    }\n",
              "\n",
              "    .dataframe thead th {\n",
              "        text-align: right;\n",
              "    }\n",
              "</style>\n",
              "<table border=\"1\" class=\"dataframe\">\n",
              "  <thead>\n",
              "    <tr style=\"text-align: right;\">\n",
              "      <th></th>\n",
              "      <th>name</th>\n",
              "      <th>nullable</th>\n",
              "      <th>type</th>\n",
              "    </tr>\n",
              "  </thead>\n",
              "  <tbody>\n",
              "    <tr>\n",
              "      <th>0</th>\n",
              "      <td>secid</td>\n",
              "      <td>True</td>\n",
              "      <td>DOUBLE_PRECISION</td>\n",
              "    </tr>\n",
              "    <tr>\n",
              "      <th>1</th>\n",
              "      <td>date</td>\n",
              "      <td>True</td>\n",
              "      <td>DATE</td>\n",
              "    </tr>\n",
              "    <tr>\n",
              "      <th>2</th>\n",
              "      <td>cp_flag</td>\n",
              "      <td>True</td>\n",
              "      <td>VARCHAR(1)</td>\n",
              "    </tr>\n",
              "    <tr>\n",
              "      <th>3</th>\n",
              "      <td>volume</td>\n",
              "      <td>True</td>\n",
              "      <td>DOUBLE_PRECISION</td>\n",
              "    </tr>\n",
              "    <tr>\n",
              "      <th>4</th>\n",
              "      <td>open_interest</td>\n",
              "      <td>True</td>\n",
              "      <td>DOUBLE_PRECISION</td>\n",
              "    </tr>\n",
              "  </tbody>\n",
              "</table>\n",
              "</div>"
            ],
            "text/plain": [
              "            name  nullable              type\n",
              "0          secid      True  DOUBLE_PRECISION\n",
              "1           date      True              DATE\n",
              "2        cp_flag      True        VARCHAR(1)\n",
              "3         volume      True  DOUBLE_PRECISION\n",
              "4  open_interest      True  DOUBLE_PRECISION"
            ]
          },
          "metadata": {
            "tags": []
          },
          "execution_count": 4
        }
      ]
    },
    {
      "cell_type": "code",
      "metadata": {
        "id": "nqo3y3JAo6Ku"
      },
      "source": [
        "tqry = \"\"\"\n",
        "        select * from optionm.opvold\n",
        "        where date >= '2017/01/01' and\n",
        "           cp_flag is null        \n",
        "\"\"\"\n",
        "\n",
        "cpqry = \"\"\"\n",
        "        select * from optionm.opvold\n",
        "        where date >= '2017/01/01' and\n",
        "           cp_flag is not null\n",
        "\"\"\"\n",
        "\n",
        "tvol = db.raw_sql(tqry,date_cols='date')\n",
        "cpvol = db.raw_sql(cpqry,date_cols='date')"
      ],
      "execution_count": 7,
      "outputs": []
    },
    {
      "cell_type": "code",
      "metadata": {
        "id": "uOd9GjDH27bZ"
      },
      "source": [
        "tvol.secid = tvol.secid.astype(int)\n",
        "cpvol.secid = cpvol.secid.astype(int)"
      ],
      "execution_count": 8,
      "outputs": []
    },
    {
      "cell_type": "code",
      "metadata": {
        "id": "zkC8tYUR4Qmg"
      },
      "source": [
        "tvol.rename({'volume':'tvol','open_interest':'tinterest'},\n",
        "             axis=1,inplace=True)"
      ],
      "execution_count": 9,
      "outputs": []
    },
    {
      "cell_type": "code",
      "metadata": {
        "colab": {
          "base_uri": "https://localhost:8080/"
        },
        "id": "dpcM_ktiGUNF",
        "outputId": "20487dff-d38e-4948-f4fb-5be1dfde8130"
      },
      "source": [
        "list(cpvol)"
      ],
      "execution_count": 10,
      "outputs": [
        {
          "output_type": "execute_result",
          "data": {
            "text/plain": [
              "['secid', 'date', 'cp_flag', 'volume', 'open_interest']"
            ]
          },
          "metadata": {
            "tags": []
          },
          "execution_count": 10
        }
      ]
    },
    {
      "cell_type": "code",
      "metadata": {
        "id": "_6wmBlnk65Zi"
      },
      "source": [
        "cpvol = cpvol.pivot_table(index=['secid','date'],columns='cp_flag',\n",
        "                  values=['volume','open_interest'])"
      ],
      "execution_count": 11,
      "outputs": []
    },
    {
      "cell_type": "code",
      "metadata": {
        "id": "Hn1hz8pRGaKv"
      },
      "source": [
        "cpvol.columns = ['_'.join(col) for col in cpvol.columns.values]"
      ],
      "execution_count": 12,
      "outputs": []
    },
    {
      "cell_type": "code",
      "metadata": {
        "id": "TXwhb7fSLWPO"
      },
      "source": [
        "tvol.drop('cp_flag',inplace=True,axis=1)"
      ],
      "execution_count": 13,
      "outputs": []
    },
    {
      "cell_type": "code",
      "metadata": {
        "id": "TigJsKFXHRqT"
      },
      "source": [
        "cpvol['int_gap'] = cpvol['open_interest_C']- cpvol['open_interest_P']"
      ],
      "execution_count": 14,
      "outputs": []
    },
    {
      "cell_type": "code",
      "metadata": {
        "id": "efQ7Q91bJKIE"
      },
      "source": [
        "cpvol.reset_index(inplace=True)"
      ],
      "execution_count": 16,
      "outputs": []
    },
    {
      "cell_type": "code",
      "metadata": {
        "id": "utmONZG-Pm6e"
      },
      "source": [
        "tvol = tvol.set_index(['secid','date']).sort_index().reset_index()"
      ],
      "execution_count": 17,
      "outputs": []
    },
    {
      "cell_type": "code",
      "metadata": {
        "id": "JZh5q5T6QROF"
      },
      "source": [
        "tvol.to_stata('tvol.dta')\n",
        "cpvol.to_stata('cpvol.dta')"
      ],
      "execution_count": 18,
      "outputs": []
    }
  ]
}