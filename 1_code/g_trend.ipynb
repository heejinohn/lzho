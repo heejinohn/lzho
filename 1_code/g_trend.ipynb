{
  "nbformat": 4,
  "nbformat_minor": 0,
  "metadata": {
    "colab": {
      "name": "g_trend.ipynb",
      "provenance": [],
      "collapsed_sections": [],
      "authorship_tag": "ABX9TyNDo61WlQ7eMjlbnHBsPrF0",
      "include_colab_link": true
    },
    "kernelspec": {
      "name": "python3",
      "display_name": "Python 3"
    },
    "language_info": {
      "name": "python"
    }
  },
  "cells": [
    {
      "cell_type": "markdown",
      "metadata": {
        "id": "view-in-github",
        "colab_type": "text"
      },
      "source": [
        "<a href=\"https://colab.research.google.com/github/heejinohn/lzho/blob/heejinohn/1_code/g_trend.ipynb\" target=\"_parent\"><img src=\"https://colab.research.google.com/assets/colab-badge.svg\" alt=\"Open In Colab\"/></a>"
      ]
    },
    {
      "cell_type": "code",
      "metadata": {
        "colab": {
          "base_uri": "https://localhost:8080/"
        },
        "id": "a2Rx2dmG2qgY",
        "outputId": "b0503274-5523-45d1-e29d-653150e927e7"
      },
      "source": [
        "!pip install pytrends"
      ],
      "execution_count": null,
      "outputs": [
        {
          "output_type": "stream",
          "name": "stdout",
          "text": [
            "Requirement already satisfied: pytrends in /usr/local/lib/python3.7/dist-packages (4.7.3)\n",
            "Requirement already satisfied: lxml in /usr/local/lib/python3.7/dist-packages (from pytrends) (4.2.6)\n",
            "Requirement already satisfied: pandas>=0.25 in /usr/local/lib/python3.7/dist-packages (from pytrends) (1.1.5)\n",
            "Requirement already satisfied: requests in /usr/local/lib/python3.7/dist-packages (from pytrends) (2.23.0)\n",
            "Requirement already satisfied: python-dateutil>=2.7.3 in /usr/local/lib/python3.7/dist-packages (from pandas>=0.25->pytrends) (2.8.2)\n",
            "Requirement already satisfied: numpy>=1.15.4 in /usr/local/lib/python3.7/dist-packages (from pandas>=0.25->pytrends) (1.19.5)\n",
            "Requirement already satisfied: pytz>=2017.2 in /usr/local/lib/python3.7/dist-packages (from pandas>=0.25->pytrends) (2018.9)\n",
            "Requirement already satisfied: six>=1.5 in /usr/local/lib/python3.7/dist-packages (from python-dateutil>=2.7.3->pandas>=0.25->pytrends) (1.15.0)\n",
            "Requirement already satisfied: idna<3,>=2.5 in /usr/local/lib/python3.7/dist-packages (from requests->pytrends) (2.10)\n",
            "Requirement already satisfied: certifi>=2017.4.17 in /usr/local/lib/python3.7/dist-packages (from requests->pytrends) (2021.10.8)\n",
            "Requirement already satisfied: chardet<4,>=3.0.2 in /usr/local/lib/python3.7/dist-packages (from requests->pytrends) (3.0.4)\n",
            "Requirement already satisfied: urllib3!=1.25.0,!=1.25.1,<1.26,>=1.21.1 in /usr/local/lib/python3.7/dist-packages (from requests->pytrends) (1.24.3)\n"
          ]
        }
      ]
    },
    {
      "cell_type": "code",
      "metadata": {
        "id": "nFtdRaOjB1Pl"
      },
      "source": [
        "from pytrends.request import TrendReq\n",
        "import pandas as pd"
      ],
      "execution_count": null,
      "outputs": []
    },
    {
      "cell_type": "code",
      "metadata": {
        "id": "GmJirKfE8Eis"
      },
      "source": [
        "read_lines = open(\"ticker.csv\").readlines()"
      ],
      "execution_count": null,
      "outputs": []
    },
    {
      "cell_type": "code",
      "metadata": {
        "id": "FNugSB3b8W-c"
      },
      "source": [
        "tic = list()\n",
        "for line in read_lines:\n",
        "    tic.append(str.strip(line) + \" Stock\")\n",
        "tic = tic[1:]"
      ],
      "execution_count": null,
      "outputs": []
    },
    {
      "cell_type": "code",
      "metadata": {
        "colab": {
          "base_uri": "https://localhost:8080/"
        },
        "id": "4OdpV8K5D68X",
        "outputId": "a5804f54-a18f-43e6-9425-1f5b53c821d7"
      },
      "source": [
        "tic.index(\"AAN Stock\")"
      ],
      "execution_count": null,
      "outputs": [
        {
          "output_type": "execute_result",
          "data": {
            "text/plain": [
              "4"
            ]
          },
          "metadata": {},
          "execution_count": 111
        }
      ]
    },
    {
      "cell_type": "code",
      "metadata": {
        "id": "9WgLuD1r_CS0"
      },
      "source": [
        "pytrend = TrendReq()"
      ],
      "execution_count": null,
      "outputs": []
    },
    {
      "cell_type": "code",
      "metadata": {
        "id": "ucXG62NH_FcC"
      },
      "source": [
        "for i in range(1266,int(len(tic)/4)):\n",
        "    if 4*i+4 < len(tic):\n",
        "        kw_list = tic[4*i:4*i+4]\n",
        "        pytrend.build_payload(kw_list, cat=0, \n",
        "                            timeframe=\"2018-05-02 2020-08-13\", geo='', gprop='')\n",
        "        interest_over_time_df = pytrend.interest_over_time()\n",
        "        g_trend = pd.concat([g_trend,interest_over_time_df],axis=1)            \n",
        "    else:\n",
        "        kw_list = tic[4*i:]\n",
        "        pytrend.build_payload(kw_list, cat=0, \n",
        "                            timeframe=\"2018-05-02 2020-08-13\", geo='', gprop='')\n",
        "        interest_over_time_df = pytrend.interest_over_time()\n",
        "        g_trend = pd.concat([g_trend,interest_over_time_df],axis=1)            "
      ],
      "execution_count": null,
      "outputs": []
    },
    {
      "cell_type": "code",
      "metadata": {
        "colab": {
          "base_uri": "https://localhost:8080/"
        },
        "id": "oUA-lmIWE__E",
        "outputId": "e31377db-9040-4904-a4d1-e75d6c1c7e8b"
      },
      "source": [
        "g_trend.drop(\"isPartial\", axis=1, inplace=True)\n",
        "len(g_trend.columns)/4"
      ],
      "execution_count": null,
      "outputs": [
        {
          "output_type": "execute_result",
          "data": {
            "text/plain": [
              "1346.0"
            ]
          },
          "metadata": {},
          "execution_count": 186
        }
      ]
    },
    {
      "cell_type": "code",
      "metadata": {
        "id": "l4p54o3LGuat"
      },
      "source": [
        "names = {}\n",
        "for i in g_trend.columns:\n",
        "    names[i] = i.split()[0]"
      ],
      "execution_count": null,
      "outputs": []
    },
    {
      "cell_type": "code",
      "metadata": {
        "id": "4xJWwo_ULr7A"
      },
      "source": [
        "g_trend.rename(names, axis=1, inplace=True)"
      ],
      "execution_count": null,
      "outputs": []
    },
    {
      "cell_type": "code",
      "metadata": {
        "id": "q8uqe3RBL7WM"
      },
      "source": [
        "g_trend.to_excel(\"g_trend.xlsx\")"
      ],
      "execution_count": null,
      "outputs": []
    },
    {
      "cell_type": "markdown",
      "source": [
        "- Construct using total search\n",
        "- Check Zhi Da's paper for methodology\n",
        "- Use 'Trade:Ticker' as keyword\n",
        "- Check correlation between old, new, and trade:ticker"
      ],
      "metadata": {
        "id": "n_vbAWhdNGOz"
      }
    },
    {
      "cell_type": "code",
      "source": [
        ""
      ],
      "metadata": {
        "id": "ZEg9mDcHpoJC"
      },
      "execution_count": null,
      "outputs": []
    }
  ]
}