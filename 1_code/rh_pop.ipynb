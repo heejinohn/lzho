{
 "cells": [
  {
   "cell_type": "code",
   "execution_count": 1,
   "id": "c933ff5d-6b22-4c39-8ce6-33f301a9f641",
   "metadata": {},
   "outputs": [],
   "source": [
    "import os\n",
    "import pandas as pd\n",
    "import numpy as np\n",
    "import datetime as dt"
   ]
  },
  {
   "cell_type": "markdown",
   "id": "8ad8fc3b-0cca-4b6f-92aa-ddba3a47b902",
   "metadata": {},
   "source": [
    "# Combine Files"
   ]
  },
  {
   "cell_type": "markdown",
   "id": "50bc98fd-3230-467b-bd4b-bf45138ba1df",
   "metadata": {},
   "source": [
    "## Iterate over files"
   ]
  },
  {
   "cell_type": "code",
   "execution_count": 54,
   "id": "ebb8d2f4-2a8c-4437-9de3-f861ee0192a9",
   "metadata": {},
   "outputs": [],
   "source": [
    "files = [x for x in os.listdir('/scratch/ou/hohn/popularity_export/') if '.csv' in x]\n",
    "files.sort()\n",
    "ticker = [x.rsplit('.csv')[0] for x in files]"
   ]
  },
  {
   "cell_type": "markdown",
   "id": "141d62c6-7692-4dc1-81c2-86fa0fedea8f",
   "metadata": {},
   "source": [
    "## Split tickers into chunks"
   ]
  },
  {
   "cell_type": "code",
   "execution_count": 55,
   "id": "f7a67872-392d-4272-ae84-7afd43ea3bef",
   "metadata": {},
   "outputs": [],
   "source": [
    "def chunks(lst, n):\n",
    "    \"\"\"Yield successive n-sized chunks from lst.\"\"\"\n",
    "    for i in range(0, len(lst), n):\n",
    "        yield lst[i:i + n]\n",
    "\n",
    "jobs = chunks(ticker, int(len(ticker)/9))\n",
    "num = int(os.environ.get('SGE_TASK_ID'))\n",
    "sub_ticker = list(jobs)[num-1]"
   ]
  },
  {
   "cell_type": "markdown",
   "id": "6369ab8d-03b1-4040-957f-4d49c41203cd",
   "metadata": {},
   "source": [
    "## Append data"
   ]
  },
  {
   "cell_type": "code",
   "execution_count": 64,
   "id": "d9538ae4-e1c2-4157-b6c6-ef1a8ed54a0b",
   "metadata": {},
   "outputs": [],
   "source": [
    "time = []\n",
    "users = []\n",
    "tic = []\n",
    "for ticker in sub_ticker:\n",
    "    filepath = '/scratch/ou/hohn/popularity_export'\n",
    "    filename = ticker + '.csv'\n",
    "    pos = os.path.join(filepath, filename)\n",
    "    read = pd.read_csv(pos, sep=',', header=0)\n",
    "    time.extend(list(read.iloc[:,0]))\n",
    "    users.extend(list(read.iloc[:,1]))\n",
    "    tic.extend([ticker] * len(read))"
   ]
  },
  {
   "cell_type": "markdown",
   "id": "36c27e74-aad7-46e3-a92b-a73382def1fd",
   "metadata": {},
   "source": [
    "# Create DataFrame"
   ]
  },
  {
   "cell_type": "code",
   "execution_count": 65,
   "id": "24451a3f-4c46-4157-b059-8c92943500b4",
   "metadata": {},
   "outputs": [],
   "source": [
    "data = pd.DataFrame({'tic':tic, 'timestamp':time, 'users_holding':users})"
   ]
  },
  {
   "cell_type": "markdown",
   "id": "1ae315c8-0ffb-48af-88e7-ae0271a3a661",
   "metadata": {},
   "source": [
    "## Define datetime variable and timezone"
   ]
  },
  {
   "cell_type": "code",
   "execution_count": 66,
   "id": "97b2e28b-4d5a-4e04-bc56-f1994bf46f49",
   "metadata": {},
   "outputs": [],
   "source": [
    "data['timestamp'] = pd.to_datetime(data['timestamp'], utc=True)"
   ]
  },
  {
   "cell_type": "markdown",
   "id": "d4efc019-f4c6-479b-87c9-f8571702ad74",
   "metadata": {},
   "source": [
    "## Redefine date based on market closing"
   ]
  },
  {
   "cell_type": "code",
   "execution_count": 67,
   "id": "2ab81656-22bf-49a0-852c-f643fdf60a47",
   "metadata": {},
   "outputs": [],
   "source": [
    "data['est'] = data['timestamp'].dt.tz_convert('US/Eastern')"
   ]
  },
  {
   "cell_type": "code",
   "execution_count": 68,
   "id": "df06198c-e07e-49dc-982e-d5bd4bf0c3fb",
   "metadata": {},
   "outputs": [],
   "source": [
    "market_close = dt.datetime.strptime('16:30', '%H:%M').time()\n",
    "data['date'] = np.where(data['est'].dt.time > market_close, data['est'].dt.date + dt.timedelta(days=1), data['est'].dt.date)"
   ]
  },
  {
   "cell_type": "code",
   "execution_count": 69,
   "id": "09c679e1-e62d-43f4-820b-dd664432d8ba",
   "metadata": {},
   "outputs": [],
   "source": [
    "g = data[['tic','date','users_holding']].groupby(['tic','date'])"
   ]
  },
  {
   "cell_type": "code",
   "execution_count": 70,
   "id": "34ee158a-8b32-4e09-a094-828c39b9134b",
   "metadata": {},
   "outputs": [],
   "source": [
    "daily = g.users_holding.aggregate(['first','last','max','min'])"
   ]
  },
  {
   "cell_type": "code",
   "execution_count": null,
   "id": "0245a0d8-2dbd-477a-9f41-4b03caca9adc",
   "metadata": {},
   "outputs": [],
   "source": [
    "filepath = '/scratch/ou/hohn'\n",
    "filename = 'rh_pop' + num + '.json'\n",
    "daily.to_json(os.path.join(filepath,filename),orient='index')"
   ]
  },
  {
   "cell_type": "code",
   "execution_count": 17,
   "id": "bc7c779e-de35-4216-b530-ba5c9217d0fc",
   "metadata": {},
   "outputs": [],
   "source": [
    "data = pd.read_pickle('/scratch/ou/hohn/rh_pop2.pkl')"
   ]
  },
  {
   "cell_type": "code",
   "execution_count": 18,
   "id": "d7359b1b-130e-46de-8076-2627585e0b9e",
   "metadata": {},
   "outputs": [
    {
     "data": {
      "text/html": [
       "<div>\n",
       "<style scoped>\n",
       "    .dataframe tbody tr th:only-of-type {\n",
       "        vertical-align: middle;\n",
       "    }\n",
       "\n",
       "    .dataframe tbody tr th {\n",
       "        vertical-align: top;\n",
       "    }\n",
       "\n",
       "    .dataframe thead th {\n",
       "        text-align: right;\n",
       "    }\n",
       "</style>\n",
       "<table border=\"1\" class=\"dataframe\">\n",
       "  <thead>\n",
       "    <tr style=\"text-align: right;\">\n",
       "      <th></th>\n",
       "      <th></th>\n",
       "      <th>first</th>\n",
       "      <th>last</th>\n",
       "      <th>min</th>\n",
       "      <th>max</th>\n",
       "    </tr>\n",
       "    <tr>\n",
       "      <th>tic</th>\n",
       "      <th>date</th>\n",
       "      <th></th>\n",
       "      <th></th>\n",
       "      <th></th>\n",
       "      <th></th>\n",
       "    </tr>\n",
       "  </thead>\n",
       "  <tbody>\n",
       "    <tr>\n",
       "      <th rowspan=\"5\" valign=\"top\">BPOP</th>\n",
       "      <th>2018-05-02</th>\n",
       "      <td>119</td>\n",
       "      <td>119</td>\n",
       "      <td>119</td>\n",
       "      <td>119</td>\n",
       "    </tr>\n",
       "    <tr>\n",
       "      <th>2018-05-03</th>\n",
       "      <td>119</td>\n",
       "      <td>120</td>\n",
       "      <td>119</td>\n",
       "      <td>120</td>\n",
       "    </tr>\n",
       "    <tr>\n",
       "      <th>2018-05-04</th>\n",
       "      <td>120</td>\n",
       "      <td>120</td>\n",
       "      <td>120</td>\n",
       "      <td>120</td>\n",
       "    </tr>\n",
       "    <tr>\n",
       "      <th>2018-05-05</th>\n",
       "      <td>121</td>\n",
       "      <td>121</td>\n",
       "      <td>121</td>\n",
       "      <td>121</td>\n",
       "    </tr>\n",
       "    <tr>\n",
       "      <th>2018-05-06</th>\n",
       "      <td>121</td>\n",
       "      <td>121</td>\n",
       "      <td>121</td>\n",
       "      <td>121</td>\n",
       "    </tr>\n",
       "  </tbody>\n",
       "</table>\n",
       "</div>"
      ],
      "text/plain": [
       "                 first  last  min  max\n",
       "tic  date                             \n",
       "BPOP 2018-05-02    119   119  119  119\n",
       "     2018-05-03    119   120  119  120\n",
       "     2018-05-04    120   120  120  120\n",
       "     2018-05-05    121   121  121  121\n",
       "     2018-05-06    121   121  121  121"
      ]
     },
     "execution_count": 18,
     "metadata": {},
     "output_type": "execute_result"
    }
   ],
   "source": [
    "data.head()"
   ]
  },
  {
   "cell_type": "code",
   "execution_count": 25,
   "id": "3f9f870b-8d11-4d88-95fe-4cafdd5a489e",
   "metadata": {},
   "outputs": [],
   "source": [
    "comb = pd.DataFrame()\n",
    "for i in range(1,11):\n",
    "    filepath = '/scratch/ou/hohn'\n",
    "    filename = 'rh_pop' + str(i) + '.pkl'\n",
    "    comb = pd.concat([comb,pd.read_pickle(os.path.join(filepath, filename))])"
   ]
  },
  {
   "cell_type": "code",
   "execution_count": 27,
   "id": "443a3e34-e7e7-43bd-84d8-64c75178dddd",
   "metadata": {},
   "outputs": [],
   "source": [
    "comb.drop('first', axis=1, inplace=True)"
   ]
  },
  {
   "cell_type": "code",
   "execution_count": 36,
   "id": "11d4e429-c2e0-4e69-81b7-8f7bd309d00f",
   "metadata": {},
   "outputs": [],
   "source": [
    "comb.to_pickle('/scratch/ou/hohn/rh_pop.pkl')"
   ]
  },
  {
   "cell_type": "code",
   "execution_count": 2,
   "id": "d96c8395-8e12-4d75-8ec0-47674c360abe",
   "metadata": {},
   "outputs": [
    {
     "name": "stdout",
     "output_type": "stream",
     "text": [
      "pandoc-scholar\t   rh_pop1.pkl\trh_pop4.pkl  rh_pop7.pkl  rh_pop.pkl\n",
      "popularity_export  rh_pop2.pkl\trh_pop5.pkl  rh_pop8.pkl\n",
      "rh_pop10.pkl\t   rh_pop3.pkl\trh_pop6.pkl  rh_pop9.pkl\n"
     ]
    }
   ],
   "source": [
    "!ls /scratch/ou/hohn"
   ]
  },
  {
   "cell_type": "code",
   "execution_count": 3,
   "id": "fc578bb6-eab2-495d-8bbb-df5478c76e30",
   "metadata": {},
   "outputs": [],
   "source": [
    "comb = pd.read_pickle('/scratch/ou/hohn/rh_pop.pkl')"
   ]
  },
  {
   "cell_type": "code",
   "execution_count": 5,
   "id": "7195779d-c96c-4df1-8b26-229b18fc7a88",
   "metadata": {},
   "outputs": [
    {
     "data": {
      "text/html": [
       "<div>\n",
       "<style scoped>\n",
       "    .dataframe tbody tr th:only-of-type {\n",
       "        vertical-align: middle;\n",
       "    }\n",
       "\n",
       "    .dataframe tbody tr th {\n",
       "        vertical-align: top;\n",
       "    }\n",
       "\n",
       "    .dataframe thead th {\n",
       "        text-align: right;\n",
       "    }\n",
       "</style>\n",
       "<table border=\"1\" class=\"dataframe\">\n",
       "  <thead>\n",
       "    <tr style=\"text-align: right;\">\n",
       "      <th></th>\n",
       "      <th>last</th>\n",
       "      <th>min</th>\n",
       "      <th>max</th>\n",
       "    </tr>\n",
       "    <tr>\n",
       "      <th>date</th>\n",
       "      <th></th>\n",
       "      <th></th>\n",
       "      <th></th>\n",
       "    </tr>\n",
       "  </thead>\n",
       "  <tbody>\n",
       "    <tr>\n",
       "      <th>2018-05-02</th>\n",
       "      <td>590.0</td>\n",
       "      <td>590.0</td>\n",
       "      <td>590.0</td>\n",
       "    </tr>\n",
       "    <tr>\n",
       "      <th>2018-05-03</th>\n",
       "      <td>587.0</td>\n",
       "      <td>586.0</td>\n",
       "      <td>587.0</td>\n",
       "    </tr>\n",
       "    <tr>\n",
       "      <th>2018-05-04</th>\n",
       "      <td>587.0</td>\n",
       "      <td>587.0</td>\n",
       "      <td>587.0</td>\n",
       "    </tr>\n",
       "    <tr>\n",
       "      <th>2018-05-05</th>\n",
       "      <td>588.0</td>\n",
       "      <td>588.0</td>\n",
       "      <td>588.0</td>\n",
       "    </tr>\n",
       "    <tr>\n",
       "      <th>2018-05-06</th>\n",
       "      <td>588.0</td>\n",
       "      <td>588.0</td>\n",
       "      <td>588.0</td>\n",
       "    </tr>\n",
       "    <tr>\n",
       "      <th>...</th>\n",
       "      <td>...</td>\n",
       "      <td>...</td>\n",
       "      <td>...</td>\n",
       "    </tr>\n",
       "    <tr>\n",
       "      <th>2020-08-10</th>\n",
       "      <td>1625.0</td>\n",
       "      <td>1616.0</td>\n",
       "      <td>1625.0</td>\n",
       "    </tr>\n",
       "    <tr>\n",
       "      <th>2020-08-11</th>\n",
       "      <td>1625.0</td>\n",
       "      <td>1625.0</td>\n",
       "      <td>1630.0</td>\n",
       "    </tr>\n",
       "    <tr>\n",
       "      <th>2020-08-12</th>\n",
       "      <td>1625.0</td>\n",
       "      <td>1620.0</td>\n",
       "      <td>1625.0</td>\n",
       "    </tr>\n",
       "    <tr>\n",
       "      <th>2020-08-13</th>\n",
       "      <td>1634.0</td>\n",
       "      <td>1628.0</td>\n",
       "      <td>1634.0</td>\n",
       "    </tr>\n",
       "    <tr>\n",
       "      <th>2020-08-14</th>\n",
       "      <td>1642.0</td>\n",
       "      <td>1642.0</td>\n",
       "      <td>1642.0</td>\n",
       "    </tr>\n",
       "  </tbody>\n",
       "</table>\n",
       "<p>821 rows × 3 columns</p>\n",
       "</div>"
      ],
      "text/plain": [
       "              last     min     max\n",
       "date                              \n",
       "2018-05-02   590.0   590.0   590.0\n",
       "2018-05-03   587.0   586.0   587.0\n",
       "2018-05-04   587.0   587.0   587.0\n",
       "2018-05-05   588.0   588.0   588.0\n",
       "2018-05-06   588.0   588.0   588.0\n",
       "...            ...     ...     ...\n",
       "2020-08-10  1625.0  1616.0  1625.0\n",
       "2020-08-11  1625.0  1625.0  1630.0\n",
       "2020-08-12  1625.0  1620.0  1625.0\n",
       "2020-08-13  1634.0  1628.0  1634.0\n",
       "2020-08-14  1642.0  1642.0  1642.0\n",
       "\n",
       "[821 rows x 3 columns]"
      ]
     },
     "execution_count": 5,
     "metadata": {},
     "output_type": "execute_result"
    }
   ],
   "source": [
    "comb.loc['A']"
   ]
  },
  {
   "cell_type": "code",
   "execution_count": 6,
   "id": "3e32e8e3-bdd4-49ec-b0d2-3107c9a227fb",
   "metadata": {},
   "outputs": [],
   "source": [
    "import wrds"
   ]
  },
  {
   "cell_type": "code",
   "execution_count": 7,
   "id": "aec09f32-0e99-4638-9431-8df4003f24a5",
   "metadata": {},
   "outputs": [
    {
     "name": "stdout",
     "output_type": "stream",
     "text": [
      "Loading library list...\n",
      "Done\n"
     ]
    }
   ],
   "source": [
    "db = wrds.Connection()"
   ]
  },
  {
   "cell_type": "code",
   "execution_count": 8,
   "id": "bd6147e0-4b37-4b17-8f04-9cd877a3d135",
   "metadata": {},
   "outputs": [
    {
     "data": {
      "text/plain": [
       "\u001b[0;31mType:\u001b[0m        module\n",
       "\u001b[0;31mString form:\u001b[0m <module 'wrds' from '/home/ou/hohn/virtualenv/lib/python3.9/site-packages/wrds/__init__.py'>\n",
       "\u001b[0;31mFile:\u001b[0m        ~/virtualenv/lib/python3.9/site-packages/wrds/__init__.py\n",
       "\u001b[0;31mDocstring:\u001b[0m  \n",
       "WRDS Python Data Access Library\n",
       "==============================\n",
       "\n",
       "WRDS-Py is a library for extracting data from WRDS data sources and getting it into Pandas.\n",
       "\n",
       "    >>> import wrds\n",
       "    >>> db = wrds.Connection()\n",
       "    >>> db.list_libraries()\n",
       "    ['aha', 'aha_sample', 'ahasamp', 'audit', 'audit_audit_comp', ...]\n",
       "    >>> db.list_tables(library='crsp')\n",
       "    ['acti', 'asia', 'asib', 'asic', 'asio', 'asix', 'bmdebt', 'bmheader', ...]\n",
       "    >>> data = db.raw_sql('SELECT * FROM crsp.stocknames', index_col='permno')\n",
       "    >>> data.head()\n",
       "             permco      namedt   nameenddt     cusip    ncusip ticker      permno\n",
       "    10000.0  7952.0  1986-01-07  1987-06-11  68391610  68391610  OMFGA\n",
       "    10001.0  7953.0  1986-01-09  1993-11-21  36720410  39040610   GFGC\n",
       "    10001.0  7953.0  1993-11-22  2008-02-04  36720410  29274A10   EWST\n",
       "    10001.0  7953.0  2008-02-05  2009-08-03  36720410  29274A20   EWST\n",
       "    10001.0  7953.0  2009-08-04  2009-12-17  36720410  29269V10   EGAS\n",
       "    ...\n"
      ]
     },
     "metadata": {},
     "output_type": "display_data"
    }
   ],
   "source": [
    "wrds?"
   ]
  },
  {
   "cell_type": "code",
   "execution_count": 44,
   "id": "80283d70-a807-4701-91f6-32e5f7a0b1a0",
   "metadata": {},
   "outputs": [],
   "source": [
    "crsp_name = db.get_table('crsp','stocknames')"
   ]
  },
  {
   "cell_type": "code",
   "execution_count": 45,
   "id": "cf57376b-11a2-41fc-8f40-2ad98955753e",
   "metadata": {},
   "outputs": [
    {
     "data": {
      "text/html": [
       "<div>\n",
       "<style scoped>\n",
       "    .dataframe tbody tr th:only-of-type {\n",
       "        vertical-align: middle;\n",
       "    }\n",
       "\n",
       "    .dataframe tbody tr th {\n",
       "        vertical-align: top;\n",
       "    }\n",
       "\n",
       "    .dataframe thead th {\n",
       "        text-align: right;\n",
       "    }\n",
       "</style>\n",
       "<table border=\"1\" class=\"dataframe\">\n",
       "  <thead>\n",
       "    <tr style=\"text-align: right;\">\n",
       "      <th></th>\n",
       "      <th>permno</th>\n",
       "      <th>permco</th>\n",
       "      <th>namedt</th>\n",
       "      <th>nameenddt</th>\n",
       "      <th>cusip</th>\n",
       "      <th>ncusip</th>\n",
       "      <th>ticker</th>\n",
       "      <th>comnam</th>\n",
       "      <th>hexcd</th>\n",
       "      <th>exchcd</th>\n",
       "      <th>siccd</th>\n",
       "      <th>shrcd</th>\n",
       "      <th>shrcls</th>\n",
       "      <th>st_date</th>\n",
       "      <th>end_date</th>\n",
       "      <th>namedum</th>\n",
       "    </tr>\n",
       "  </thead>\n",
       "  <tbody>\n",
       "    <tr>\n",
       "      <th>0</th>\n",
       "      <td>10000.0</td>\n",
       "      <td>7952.0</td>\n",
       "      <td>1986-01-07</td>\n",
       "      <td>1987-06-11</td>\n",
       "      <td>68391610</td>\n",
       "      <td>68391610</td>\n",
       "      <td>OMFGA</td>\n",
       "      <td>OPTIMUM MANUFACTURING INC</td>\n",
       "      <td>3.0</td>\n",
       "      <td>3.0</td>\n",
       "      <td>3990.0</td>\n",
       "      <td>10.0</td>\n",
       "      <td>A</td>\n",
       "      <td>1986-01-31</td>\n",
       "      <td>1987-06-30</td>\n",
       "      <td>2.0</td>\n",
       "    </tr>\n",
       "    <tr>\n",
       "      <th>1</th>\n",
       "      <td>10001.0</td>\n",
       "      <td>7953.0</td>\n",
       "      <td>1986-01-09</td>\n",
       "      <td>1993-11-21</td>\n",
       "      <td>36720410</td>\n",
       "      <td>39040610</td>\n",
       "      <td>GFGC</td>\n",
       "      <td>GREAT FALLS GAS CO</td>\n",
       "      <td>2.0</td>\n",
       "      <td>3.0</td>\n",
       "      <td>4920.0</td>\n",
       "      <td>11.0</td>\n",
       "      <td>None</td>\n",
       "      <td>1986-01-31</td>\n",
       "      <td>2017-08-31</td>\n",
       "      <td>2.0</td>\n",
       "    </tr>\n",
       "    <tr>\n",
       "      <th>2</th>\n",
       "      <td>10001.0</td>\n",
       "      <td>7953.0</td>\n",
       "      <td>1993-11-22</td>\n",
       "      <td>2008-02-04</td>\n",
       "      <td>36720410</td>\n",
       "      <td>29274A10</td>\n",
       "      <td>EWST</td>\n",
       "      <td>ENERGY WEST INC</td>\n",
       "      <td>2.0</td>\n",
       "      <td>3.0</td>\n",
       "      <td>4920.0</td>\n",
       "      <td>11.0</td>\n",
       "      <td>None</td>\n",
       "      <td>1986-01-31</td>\n",
       "      <td>2017-08-31</td>\n",
       "      <td>2.0</td>\n",
       "    </tr>\n",
       "    <tr>\n",
       "      <th>3</th>\n",
       "      <td>10001.0</td>\n",
       "      <td>7953.0</td>\n",
       "      <td>2008-02-05</td>\n",
       "      <td>2009-08-03</td>\n",
       "      <td>36720410</td>\n",
       "      <td>29274A20</td>\n",
       "      <td>EWST</td>\n",
       "      <td>ENERGY WEST INC</td>\n",
       "      <td>2.0</td>\n",
       "      <td>3.0</td>\n",
       "      <td>4920.0</td>\n",
       "      <td>11.0</td>\n",
       "      <td>None</td>\n",
       "      <td>1986-01-31</td>\n",
       "      <td>2017-08-31</td>\n",
       "      <td>2.0</td>\n",
       "    </tr>\n",
       "    <tr>\n",
       "      <th>4</th>\n",
       "      <td>10001.0</td>\n",
       "      <td>7953.0</td>\n",
       "      <td>2009-08-04</td>\n",
       "      <td>2009-12-17</td>\n",
       "      <td>36720410</td>\n",
       "      <td>29269V10</td>\n",
       "      <td>EGAS</td>\n",
       "      <td>ENERGY INC</td>\n",
       "      <td>2.0</td>\n",
       "      <td>3.0</td>\n",
       "      <td>4920.0</td>\n",
       "      <td>11.0</td>\n",
       "      <td>None</td>\n",
       "      <td>1986-01-31</td>\n",
       "      <td>2017-08-31</td>\n",
       "      <td>2.0</td>\n",
       "    </tr>\n",
       "  </tbody>\n",
       "</table>\n",
       "</div>"
      ],
      "text/plain": [
       "    permno  permco      namedt   nameenddt     cusip    ncusip ticker  \\\n",
       "0  10000.0  7952.0  1986-01-07  1987-06-11  68391610  68391610  OMFGA   \n",
       "1  10001.0  7953.0  1986-01-09  1993-11-21  36720410  39040610   GFGC   \n",
       "2  10001.0  7953.0  1993-11-22  2008-02-04  36720410  29274A10   EWST   \n",
       "3  10001.0  7953.0  2008-02-05  2009-08-03  36720410  29274A20   EWST   \n",
       "4  10001.0  7953.0  2009-08-04  2009-12-17  36720410  29269V10   EGAS   \n",
       "\n",
       "                      comnam  hexcd  exchcd   siccd  shrcd shrcls     st_date  \\\n",
       "0  OPTIMUM MANUFACTURING INC    3.0     3.0  3990.0   10.0      A  1986-01-31   \n",
       "1         GREAT FALLS GAS CO    2.0     3.0  4920.0   11.0   None  1986-01-31   \n",
       "2            ENERGY WEST INC    2.0     3.0  4920.0   11.0   None  1986-01-31   \n",
       "3            ENERGY WEST INC    2.0     3.0  4920.0   11.0   None  1986-01-31   \n",
       "4                 ENERGY INC    2.0     3.0  4920.0   11.0   None  1986-01-31   \n",
       "\n",
       "     end_date  namedum  \n",
       "0  1987-06-30      2.0  \n",
       "1  2017-08-31      2.0  \n",
       "2  2017-08-31      2.0  \n",
       "3  2017-08-31      2.0  \n",
       "4  2017-08-31      2.0  "
      ]
     },
     "execution_count": 45,
     "metadata": {},
     "output_type": "execute_result"
    }
   ],
   "source": [
    "crsp_name.head()"
   ]
  },
  {
   "cell_type": "code",
   "execution_count": 2,
   "id": "ad022d17-cd5f-45b1-ac2f-9f9b7a3fc640",
   "metadata": {},
   "outputs": [],
   "source": [
    "import pandasql"
   ]
  },
  {
   "cell_type": "code",
   "execution_count": 3,
   "id": "b030236b-0959-4b34-9b62-be279c6514a8",
   "metadata": {},
   "outputs": [
    {
     "data": {
      "text/plain": [
       "\u001b[0;31mType:\u001b[0m        module\n",
       "\u001b[0;31mString form:\u001b[0m <module 'pandasql' from '/home/ou/hohn/virtualenv/lzho/lib/python3.9/site-packages/pandasql/__init__.py'>\n",
       "\u001b[0;31mFile:\u001b[0m        ~/virtualenv/lzho/lib/python3.9/site-packages/pandasql/__init__.py\n",
       "\u001b[0;31mSource:\u001b[0m     \n",
       "\u001b[0;32mfrom\u001b[0m \u001b[0;34m.\u001b[0m\u001b[0msqldf\u001b[0m \u001b[0;32mimport\u001b[0m \u001b[0;34m*\u001b[0m\u001b[0;34m\u001b[0m\n",
       "\u001b[0;34m\u001b[0m\u001b[0;32mimport\u001b[0m \u001b[0mos\u001b[0m\u001b[0;34m\u001b[0m\n",
       "\u001b[0;34m\u001b[0m\u001b[0;32mimport\u001b[0m \u001b[0mpandas\u001b[0m \u001b[0;32mas\u001b[0m \u001b[0mpd\u001b[0m\u001b[0;34m\u001b[0m\n",
       "\u001b[0;34m\u001b[0m\u001b[0;34m\u001b[0m\n",
       "\u001b[0;34m\u001b[0m\u001b[0m_ROOT\u001b[0m \u001b[0;34m=\u001b[0m \u001b[0mos\u001b[0m\u001b[0;34m.\u001b[0m\u001b[0mpath\u001b[0m\u001b[0;34m.\u001b[0m\u001b[0mabspath\u001b[0m\u001b[0;34m(\u001b[0m\u001b[0mos\u001b[0m\u001b[0;34m.\u001b[0m\u001b[0mpath\u001b[0m\u001b[0;34m.\u001b[0m\u001b[0mdirname\u001b[0m\u001b[0;34m(\u001b[0m\u001b[0m__file__\u001b[0m\u001b[0;34m)\u001b[0m\u001b[0;34m)\u001b[0m\u001b[0;34m\u001b[0m\n",
       "\u001b[0;34m\u001b[0m\u001b[0;34m\u001b[0m\n",
       "\u001b[0;34m\u001b[0m\u001b[0;34m\u001b[0m\n",
       "\u001b[0;34m\u001b[0m\u001b[0;32mdef\u001b[0m \u001b[0mget_data\u001b[0m\u001b[0;34m(\u001b[0m\u001b[0mpath\u001b[0m\u001b[0;34m)\u001b[0m\u001b[0;34m:\u001b[0m\u001b[0;34m\u001b[0m\n",
       "\u001b[0;34m\u001b[0m    \u001b[0;32mreturn\u001b[0m \u001b[0mos\u001b[0m\u001b[0;34m.\u001b[0m\u001b[0mpath\u001b[0m\u001b[0;34m.\u001b[0m\u001b[0mjoin\u001b[0m\u001b[0;34m(\u001b[0m\u001b[0m_ROOT\u001b[0m\u001b[0;34m,\u001b[0m \u001b[0;34m'data'\u001b[0m\u001b[0;34m,\u001b[0m \u001b[0mpath\u001b[0m\u001b[0;34m)\u001b[0m\u001b[0;34m\u001b[0m\n",
       "\u001b[0;34m\u001b[0m\u001b[0;34m\u001b[0m\n",
       "\u001b[0;34m\u001b[0m\u001b[0;34m\u001b[0m\n",
       "\u001b[0;34m\u001b[0m\u001b[0;32mdef\u001b[0m \u001b[0mload_meat\u001b[0m\u001b[0;34m(\u001b[0m\u001b[0;34m)\u001b[0m\u001b[0;34m:\u001b[0m\u001b[0;34m\u001b[0m\n",
       "\u001b[0;34m\u001b[0m    \u001b[0mfilename\u001b[0m \u001b[0;34m=\u001b[0m \u001b[0mget_data\u001b[0m\u001b[0;34m(\u001b[0m\u001b[0;34m\"meat.csv\"\u001b[0m\u001b[0;34m)\u001b[0m\u001b[0;34m\u001b[0m\n",
       "\u001b[0;34m\u001b[0m    \u001b[0mdf\u001b[0m \u001b[0;34m=\u001b[0m \u001b[0mpd\u001b[0m\u001b[0;34m.\u001b[0m\u001b[0mread_csv\u001b[0m\u001b[0;34m(\u001b[0m\u001b[0mfilename\u001b[0m\u001b[0;34m,\u001b[0m \u001b[0mparse_dates\u001b[0m\u001b[0;34m=\u001b[0m\u001b[0;34m[\u001b[0m\u001b[0;36m0\u001b[0m\u001b[0;34m]\u001b[0m\u001b[0;34m)\u001b[0m\u001b[0;34m\u001b[0m\n",
       "\u001b[0;34m\u001b[0m    \u001b[0;32mreturn\u001b[0m \u001b[0mdf\u001b[0m\u001b[0;34m\u001b[0m\n",
       "\u001b[0;34m\u001b[0m\u001b[0;34m\u001b[0m\n",
       "\u001b[0;34m\u001b[0m\u001b[0;34m\u001b[0m\n",
       "\u001b[0;34m\u001b[0m\u001b[0;32mdef\u001b[0m \u001b[0mload_births\u001b[0m\u001b[0;34m(\u001b[0m\u001b[0;34m)\u001b[0m\u001b[0;34m:\u001b[0m\u001b[0;34m\u001b[0m\n",
       "\u001b[0;34m\u001b[0m    \u001b[0mfilename\u001b[0m \u001b[0;34m=\u001b[0m \u001b[0mget_data\u001b[0m\u001b[0;34m(\u001b[0m\u001b[0;34m\"births_by_month.csv\"\u001b[0m\u001b[0;34m)\u001b[0m\u001b[0;34m\u001b[0m\n",
       "\u001b[0;34m\u001b[0m    \u001b[0mdf\u001b[0m \u001b[0;34m=\u001b[0m \u001b[0mpd\u001b[0m\u001b[0;34m.\u001b[0m\u001b[0mread_csv\u001b[0m\u001b[0;34m(\u001b[0m\u001b[0mfilename\u001b[0m\u001b[0;34m,\u001b[0m \u001b[0mparse_dates\u001b[0m\u001b[0;34m=\u001b[0m\u001b[0;34m[\u001b[0m\u001b[0;36m0\u001b[0m\u001b[0;34m]\u001b[0m\u001b[0;34m)\u001b[0m\u001b[0;34m\u001b[0m\n",
       "\u001b[0;34m\u001b[0m    \u001b[0;32mreturn\u001b[0m \u001b[0mdf\u001b[0m\u001b[0;34m\u001b[0m\u001b[0;34m\u001b[0m\u001b[0m\n"
      ]
     },
     "metadata": {},
     "output_type": "display_data"
    }
   ],
   "source": [
    "pandasql??"
   ]
  },
  {
   "cell_type": "code",
   "execution_count": 4,
   "id": "ae4938e4-f556-408d-9756-0f306a988090",
   "metadata": {},
   "outputs": [
    {
     "name": "stdout",
     "output_type": "stream",
     "text": [
      "Package               Version\n",
      "--------------------- -----------\n",
      "argon2-cffi           21.1.0\n",
      "async-generator       1.10\n",
      "attrs                 21.2.0\n",
      "backcall              0.2.0\n",
      "bleach                4.1.0\n",
      "certifi               2021.10.8\n",
      "cffi                  1.15.0\n",
      "chardet               4.0.0\n",
      "charset-normalizer    2.0.7\n",
      "click                 8.0.3\n",
      "cramjam               2.5.0\n",
      "DateTime              4.3\n",
      "debugpy               1.5.1\n",
      "decorator             5.1.0\n",
      "defusedxml            0.7.1\n",
      "entrypoints           0.3\n",
      "fastparquet           0.7.1\n",
      "fsspec                2021.11.0\n",
      "greenlet              1.1.2\n",
      "idna                  3.3\n",
      "iniconfig             1.1.1\n",
      "ipykernel             6.5.0\n",
      "ipython               7.29.0\n",
      "ipython-genutils      0.2.0\n",
      "ipywidgets            7.6.5\n",
      "jedi                  0.18.0\n",
      "Jinja2                3.0.3\n",
      "jsonschema            4.2.1\n",
      "jupyter               1.0.0\n",
      "jupyter-client        7.0.6\n",
      "jupyter-console       6.4.0\n",
      "jupyter-core          4.9.1\n",
      "jupyterlab-pygments   0.1.2\n",
      "jupyterlab-widgets    1.0.2\n",
      "llvmlite              0.37.0\n",
      "MarkupSafe            2.0.1\n",
      "matplotlib-inline     0.1.3\n",
      "mistune               0.8.4\n",
      "mock                  4.0.3\n",
      "nbclient              0.5.8\n",
      "nbconvert             6.3.0\n",
      "nbformat              5.1.3\n",
      "nest-asyncio          1.5.1\n",
      "notebook              6.4.5\n",
      "numba                 0.54.1\n",
      "numpy                 1.20.3\n",
      "packaging             21.2\n",
      "pandas                1.3.4\n",
      "pandasql              0.7.3\n",
      "pandoc                2.0.1\n",
      "pandocfilters         1.5.0\n",
      "parso                 0.8.2\n",
      "pexpect               4.8.0\n",
      "pickleshare           0.7.5\n",
      "pip                   22.0.3\n",
      "pip-review            1.1.0\n",
      "pluggy                1.0.0\n",
      "plumbum               1.7.2\n",
      "ply                   3.11\n",
      "prometheus-client     0.12.0\n",
      "prompt-toolkit        3.0.22\n",
      "psaw                  0.1.0\n",
      "psycopg2-binary       2.9.2\n",
      "ptyprocess            0.7.0\n",
      "py                    1.11.0\n",
      "pyarrow               6.0.0\n",
      "pycparser             2.21\n",
      "Pygments              2.10.0\n",
      "pyparsing             2.4.7\n",
      "pyrsistent            0.18.0\n",
      "pytest                6.2.5\n",
      "python-dateutil       2.8.2\n",
      "pytz                  2021.3\n",
      "pytz-deprecation-shim 0.1.0.post0\n",
      "pyzmq                 22.3.0\n",
      "qtconsole             5.2.0\n",
      "QtPy                  1.11.2\n",
      "requests              2.26.0\n",
      "rpy2                  3.1.0\n",
      "Send2Trash            1.8.0\n",
      "setuptools            56.0.0\n",
      "simplegeneric         0.8.1\n",
      "six                   1.16.0\n",
      "SQLAlchemy            1.4.27\n",
      "terminado             0.12.1\n",
      "testpath              0.5.0\n",
      "thrift                0.15.0\n",
      "toml                  0.10.2\n",
      "tornado               6.1\n",
      "traitlets             5.1.1\n",
      "tzdata                2021.5\n",
      "tzlocal               4.1\n",
      "urllib3               1.26.7\n",
      "wcwidth               0.2.5\n",
      "webencodings          0.5.1\n",
      "widgetsnbextension    3.5.2\n",
      "wrds                  3.1.1\n",
      "zope.interface        5.4.0\n",
      "Note: you may need to restart the kernel to use updated packages.\n"
     ]
    }
   ],
   "source": [
    "pip list sqlite3"
   ]
  },
  {
   "cell_type": "code",
   "execution_count": null,
   "id": "d478ed03-070f-4f9a-bf26-04ab82ff6053",
   "metadata": {},
   "outputs": [],
   "source": []
  }
 ],
 "metadata": {
  "kernelspec": {
   "display_name": "lzho",
   "language": "python",
   "name": "lzho"
  },
  "language_info": {
   "codemirror_mode": {
    "name": "ipython",
    "version": 3
   },
   "file_extension": ".py",
   "mimetype": "text/x-python",
   "name": "python",
   "nbconvert_exporter": "python",
   "pygments_lexer": "ipython3",
   "version": "3.9.5"
  }
 },
 "nbformat": 4,
 "nbformat_minor": 5
}
