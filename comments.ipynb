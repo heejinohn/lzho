{
  "nbformat": 4,
  "nbformat_minor": 0,
  "metadata": {
    "colab": {
      "name": "Untitled1.ipynb",
      "provenance": [],
      "toc_visible": true,
      "mount_file_id": "https://github.com/heejinohn/lzho/blob/heejinohn/Reddit_Data.ipynb",
      "authorship_tag": "ABX9TyN8aW27x3/E7FbVELTlGlcp",
      "include_colab_link": true
    },
    "kernelspec": {
      "name": "python3",
      "display_name": "Python 3"
    }
  },
  "cells": [
    {
      "cell_type": "markdown",
      "metadata": {
        "id": "view-in-github",
        "colab_type": "text"
      },
      "source": [
        "<a href=\"https://colab.research.google.com/github/heejinohn/lzho/blob/heejinohn/combine.ipynb\" target=\"_parent\"><img src=\"https://colab.research.google.com/assets/colab-badge.svg\" alt=\"Open In Colab\"/></a>"
      ]
    },
    {
      "cell_type": "code",
      "metadata": {
        "colab": {
          "base_uri": "https://localhost:8080/"
        },
        "id": "GDc7C9s3ppLa",
        "outputId": "a2af756c-319b-4e71-ff79-694bf92c5360"
      },
      "source": [
        "!pip install wrds datetime\n",
        "import pandas as pd, numpy as np, wrds, pytz\n",
        "import datetime as dt"
      ],
      "execution_count": 1,
      "outputs": [
        {
          "output_type": "stream",
          "text": [
            "Requirement already satisfied: wrds in /usr/local/lib/python3.7/dist-packages (3.0.8)\n",
            "Requirement already satisfied: datetime in /usr/local/lib/python3.7/dist-packages (4.3)\n",
            "Requirement already satisfied: mock in /usr/local/lib/python3.7/dist-packages (from wrds) (4.0.3)\n",
            "Requirement already satisfied: sqlalchemy in /usr/local/lib/python3.7/dist-packages (from wrds) (1.4.7)\n",
            "Requirement already satisfied: psycopg2-binary in /usr/local/lib/python3.7/dist-packages (from wrds) (2.8.6)\n",
            "Requirement already satisfied: pandas in /usr/local/lib/python3.7/dist-packages (from wrds) (1.1.5)\n",
            "Requirement already satisfied: pytz in /usr/local/lib/python3.7/dist-packages (from datetime) (2018.9)\n",
            "Requirement already satisfied: zope.interface in /usr/local/lib/python3.7/dist-packages (from datetime) (5.4.0)\n",
            "Requirement already satisfied: importlib-metadata; python_version < \"3.8\" in /usr/local/lib/python3.7/dist-packages (from sqlalchemy->wrds) (3.10.1)\n",
            "Requirement already satisfied: greenlet!=0.4.17; python_version >= \"3\" in /usr/local/lib/python3.7/dist-packages (from sqlalchemy->wrds) (1.0.0)\n",
            "Requirement already satisfied: numpy>=1.15.4 in /usr/local/lib/python3.7/dist-packages (from pandas->wrds) (1.19.5)\n",
            "Requirement already satisfied: python-dateutil>=2.7.3 in /usr/local/lib/python3.7/dist-packages (from pandas->wrds) (2.8.1)\n",
            "Requirement already satisfied: setuptools in /usr/local/lib/python3.7/dist-packages (from zope.interface->datetime) (56.0.0)\n",
            "Requirement already satisfied: zipp>=0.5 in /usr/local/lib/python3.7/dist-packages (from importlib-metadata; python_version < \"3.8\"->sqlalchemy->wrds) (3.4.1)\n",
            "Requirement already satisfied: typing-extensions>=3.6.4; python_version < \"3.8\" in /usr/local/lib/python3.7/dist-packages (from importlib-metadata; python_version < \"3.8\"->sqlalchemy->wrds) (3.7.4.3)\n",
            "Requirement already satisfied: six>=1.5 in /usr/local/lib/python3.7/dist-packages (from python-dateutil>=2.7.3->pandas->wrds) (1.15.0)\n"
          ],
          "name": "stdout"
        }
      ]
    },
    {
      "cell_type": "markdown",
      "metadata": {
        "id": "QfFrLT6lV7Bo"
      },
      "source": [
        "# Read awards from csv"
      ]
    },
    {
      "cell_type": "code",
      "metadata": {
        "id": "cIZlgwqagySf"
      },
      "source": [
        "wsb = pd.read_csv('/content/r_wallstreetbets_posts.csv',index_col='id',low_memory=False)"
      ],
      "execution_count": 2,
      "outputs": []
    },
    {
      "cell_type": "code",
      "metadata": {
        "id": "e_qOs_KPh5zt"
      },
      "source": [
        "wsb = wsb[['total_awards_received']]"
      ],
      "execution_count": 3,
      "outputs": []
    },
    {
      "cell_type": "markdown",
      "metadata": {
        "id": "GiOWIkzCa4Jh"
      },
      "source": [
        "# Data cleaning\n",
        "* Collect and summarize data by day and ticker\n",
        "* Convert UTC to US/Eastern\n",
        "* Merge award data from WSB"
      ]
    },
    {
      "cell_type": "code",
      "metadata": {
        "colab": {
          "base_uri": "https://localhost:8080/"
        },
        "id": "zMAKStXF8X4b",
        "outputId": "a1453a92-2a37-4e44-a2f9-d18b80318283"
      },
      "source": [
        "def comb_tic(x):\n",
        "    if len(x[1]) == 0:\n",
        "        return x[0]\n",
        "    elif len(x[0]) == 0:\n",
        "        return x[1]\n",
        "    else:\n",
        "        return list(set(x[0]).union(x[1]))\n",
        "\n",
        "for yr in range(2012,2021,1):\n",
        "    ticker = pd.read_parquet(f'/content/ticker_{yr}.parquet.gzip')\n",
        "    col = ['date_utc','num_comments','score',\n",
        "            'ticker_a','ticker_b']\n",
        "    ticker = ticker[col]\n",
        "    ticker['comb_tic'] = ticker[['ticker_a','ticker_b']].apply(comb_tic, axis=1)\n",
        "    ticker['add_col'] = ticker['comb_tic'].apply(len)\n",
        "    pos = len(ticker.columns)\n",
        "    tics = []\n",
        "    for i in range(pos, ticker['add_col'].max() + pos, 1):\n",
        "        tics = tics + [f'tic{i - pos}']\n",
        "    ticker[tics] = pd.DataFrame(ticker['comb_tic'].to_list(), index=ticker.index)\n",
        "    ticker.drop(['ticker_a','ticker_b','comb_tic'],inplace=True, axis=1)\n",
        "    ticker['datetime'] = ticker['date_utc'].dt.tz_convert('US/Eastern')\n",
        "    start = dt.time(16,0,0)\n",
        "    end = dt.time(23,59,59)\n",
        "    ticker['date'] = np.where(ticker['datetime'].dt.time.between(start,end),\n",
        "                            ticker['datetime'].dt.date + pd.DateOffset(days=1), \n",
        "                            ticker['datetime'].dt.date + pd.DateOffset(days=0))\n",
        "    ticker.drop(['date_utc','datetime','add_col'],axis=1,inplace=True)\n",
        "    ticker = ticker.merge(wsb,how='left',left_index=True,right_index=True)\n",
        "    tic_t = pd.wide_to_long(ticker.reset_index(),'tic',i='id',j='num')[lambda x: ~x['tic'].isna()]\n",
        "    tic_t.reset_index(inplace=True)\n",
        "    tic_t.rename({'total_awards_received':'awards','id':'posts'},inplace=True,axis=1)\n",
        "    tic_t = tic_t.reset_index().groupby(['date','tic']).agg({'score':'sum',\n",
        "                                                    'num_comments':'sum',\n",
        "                                                    'awards':'sum',\n",
        "                                                    'posts':'count'\n",
        "                                                    }).reset_index()\n",
        "    tic_t.to_parquet(f'/content/tic_{yr}.parquet.gzip',compression='gzip')\n",
        "    \n",
        "    print(f'tic_{yr} saved.')    "
      ],
      "execution_count": 14,
      "outputs": [
        {
          "output_type": "stream",
          "text": [
            "tic_2012 saved.\n",
            "tic_2013 saved.\n",
            "tic_2014 saved.\n",
            "tic_2015 saved.\n",
            "tic_2016 saved.\n",
            "tic_2017 saved.\n",
            "tic_2018 saved.\n",
            "tic_2019 saved.\n",
            "tic_2020 saved.\n"
          ],
          "name": "stdout"
        }
      ]
    },
    {
      "cell_type": "code",
      "metadata": {
        "id": "OAFAXrrkuuro",
        "outputId": "6b85a8a0-c2ce-481c-86df-25910e6d43ac",
        "colab": {
          "base_uri": "https://localhost:8080/"
        }
      },
      "source": [
        "ticker.shape"
      ],
      "execution_count": 27,
      "outputs": [
        {
          "output_type": "execute_result",
          "data": {
            "text/plain": [
              "(300272, 108)"
            ]
          },
          "metadata": {
            "tags": []
          },
          "execution_count": 27
        }
      ]
    },
    {
      "cell_type": "code",
      "metadata": {
        "id": "ypS1iWcfuz6Y"
      },
      "source": [
        "ticker[ticker['']]"
      ],
      "execution_count": null,
      "outputs": []
    },
    {
      "cell_type": "markdown",
      "metadata": {
        "id": "znqf8QmYb1Z9"
      },
      "source": [
        "# Combine all data"
      ]
    },
    {
      "cell_type": "code",
      "metadata": {
        "id": "mRWFguwjWxV9"
      },
      "source": [
        "dataset = list()\n",
        "for i in range(2012,2021,1):\n",
        "    dataset.append(f'tic_{i}')\n",
        "tic = pd.DataFrame()\n",
        "for yr in dataset:\n",
        "    vars()[yr] = pd.read_parquet(f'{yr}.parquet.gzip')\n",
        "    tic = tic.append(vars()[yr])"
      ],
      "execution_count": 15,
      "outputs": []
    },
    {
      "cell_type": "code",
      "metadata": {
        "id": "4TfdFwlqcdG1",
        "outputId": "7c491e84-0eb3-4c8f-9818-1f43e028d0a4",
        "colab": {
          "base_uri": "https://localhost:8080/"
        }
      },
      "source": [
        "tic.shape"
      ],
      "execution_count": 16,
      "outputs": [
        {
          "output_type": "execute_result",
          "data": {
            "text/plain": [
              "(222840, 6)"
            ]
          },
          "metadata": {
            "tags": []
          },
          "execution_count": 16
        }
      ]
    },
    {
      "cell_type": "code",
      "metadata": {
        "id": "G8leH6b2nVp2"
      },
      "source": [
        "tic.to_csv('wsb_ticker.csv')"
      ],
      "execution_count": 20,
      "outputs": []
    },
    {
      "cell_type": "code",
      "metadata": {
        "id": "PTfSFDlRq-oB",
        "outputId": "a1362ecc-0afb-4325-bd81-fbf4dea3550c",
        "colab": {
          "base_uri": "https://localhost:8080/",
          "height": 297
        }
      },
      "source": [
        "tic.describe()"
      ],
      "execution_count": 25,
      "outputs": [
        {
          "output_type": "execute_result",
          "data": {
            "text/html": [
              "<div>\n",
              "<style scoped>\n",
              "    .dataframe tbody tr th:only-of-type {\n",
              "        vertical-align: middle;\n",
              "    }\n",
              "\n",
              "    .dataframe tbody tr th {\n",
              "        vertical-align: top;\n",
              "    }\n",
              "\n",
              "    .dataframe thead th {\n",
              "        text-align: right;\n",
              "    }\n",
              "</style>\n",
              "<table border=\"1\" class=\"dataframe\">\n",
              "  <thead>\n",
              "    <tr style=\"text-align: right;\">\n",
              "      <th></th>\n",
              "      <th>score</th>\n",
              "      <th>num_comments</th>\n",
              "      <th>awards</th>\n",
              "      <th>posts</th>\n",
              "    </tr>\n",
              "  </thead>\n",
              "  <tbody>\n",
              "    <tr>\n",
              "      <th>count</th>\n",
              "      <td>222840.000000</td>\n",
              "      <td>222840.000000</td>\n",
              "      <td>222840.000000</td>\n",
              "      <td>222840.000000</td>\n",
              "    </tr>\n",
              "    <tr>\n",
              "      <th>mean</th>\n",
              "      <td>39.295903</td>\n",
              "      <td>57.736856</td>\n",
              "      <td>0.017887</td>\n",
              "      <td>1.888130</td>\n",
              "    </tr>\n",
              "    <tr>\n",
              "      <th>std</th>\n",
              "      <td>421.764252</td>\n",
              "      <td>552.615789</td>\n",
              "      <td>0.416889</td>\n",
              "      <td>5.027867</td>\n",
              "    </tr>\n",
              "    <tr>\n",
              "      <th>min</th>\n",
              "      <td>0.000000</td>\n",
              "      <td>0.000000</td>\n",
              "      <td>0.000000</td>\n",
              "      <td>1.000000</td>\n",
              "    </tr>\n",
              "    <tr>\n",
              "      <th>25%</th>\n",
              "      <td>1.000000</td>\n",
              "      <td>3.000000</td>\n",
              "      <td>0.000000</td>\n",
              "      <td>1.000000</td>\n",
              "    </tr>\n",
              "    <tr>\n",
              "      <th>50%</th>\n",
              "      <td>2.000000</td>\n",
              "      <td>14.000000</td>\n",
              "      <td>0.000000</td>\n",
              "      <td>1.000000</td>\n",
              "    </tr>\n",
              "    <tr>\n",
              "      <th>75%</th>\n",
              "      <td>12.000000</td>\n",
              "      <td>40.000000</td>\n",
              "      <td>0.000000</td>\n",
              "      <td>2.000000</td>\n",
              "    </tr>\n",
              "    <tr>\n",
              "      <th>max</th>\n",
              "      <td>50035.000000</td>\n",
              "      <td>87207.000000</td>\n",
              "      <td>87.000000</td>\n",
              "      <td>1089.000000</td>\n",
              "    </tr>\n",
              "  </tbody>\n",
              "</table>\n",
              "</div>"
            ],
            "text/plain": [
              "               score   num_comments         awards          posts\n",
              "count  222840.000000  222840.000000  222840.000000  222840.000000\n",
              "mean       39.295903      57.736856       0.017887       1.888130\n",
              "std       421.764252     552.615789       0.416889       5.027867\n",
              "min         0.000000       0.000000       0.000000       1.000000\n",
              "25%         1.000000       3.000000       0.000000       1.000000\n",
              "50%         2.000000      14.000000       0.000000       1.000000\n",
              "75%        12.000000      40.000000       0.000000       2.000000\n",
              "max     50035.000000   87207.000000      87.000000    1089.000000"
            ]
          },
          "metadata": {
            "tags": []
          },
          "execution_count": 25
        }
      ]
    },
    {
      "cell_type": "markdown",
      "metadata": {
        "id": "HTiZCIigctmx"
      },
      "source": [
        "# Variable description\n",
        "`score`,`num_comments`,`awards`, and `posts` are derived from individual posts summarized at the `date` and `tic` (ticker) level. Values of these variables repeating for multiple observations is likely an indication that the values came from the same single (set of) post (posts).\n",
        "\n",
        "Number of observations: 222,840\n",
        "\n",
        "|       |         score |  num_comments |        awards |         posts |\n",
        "|------:|--------------:|--------------:|--------------:|--------------:|\n",
        "| count | 222840.000000 | 222840.000000 | 222840.000000 | 222840.000000 |\n",
        "|  mean |     39.295903 |     57.736856 |      0.017887 |      1.888130 |\n",
        "|  std  |    421.764252 |    552.615789 |      0.416889 |      5.027867 |\n",
        "|  min  |      0.000000 |      0.000000 |      0.000000 |      1.000000 |\n",
        "|  25%  |      1.000000 |      3.000000 |      0.000000 |      1.000000 |\n",
        "|  50%  |      2.000000 |     14.000000 |      0.000000 |      1.000000 |\n",
        "|  75%  |     12.000000 |     40.000000 |      0.000000 |      2.000000 |\n",
        "|  max  |  50035.000000 |  87207.000000 |     87.000000 |   1089.000000 |\n",
        "\n",
        "##  `date`\n",
        "The date portion extracted from `date_utc` tag attached to Reddit posts after converting the timezone to *'US/Eastern'*. If the time portion is between 4:00:00 PM and 11:59:59 PM EST/EDT, the date portion is incremented by one day to reflect option market hours (9:30 AM through 4:00 PM).\n",
        "\n",
        "Min `date`: 2012-04-11\n",
        "Max `date`: 2021-01-01\n",
        "\n",
        "## `score`\n",
        "Upvotes individual posts received summed at the `date` and `tic` level.\n",
        "\n",
        "## `num_comments`\n",
        "Comments individual posts received summed at the `date` and `tic` level.\n",
        " \n",
        "## `awards`\n",
        "Awards individual posts received summed at the `date` and `tic` level.\n",
        "\n",
        "## `posts`\n",
        "Number of posts that mention `tic` on `date`.\n"
      ]
    },
    {
      "cell_type": "code",
      "metadata": {
        "id": "jAejCV_cs-ZP"
      },
      "source": [
        ""
      ],
      "execution_count": null,
      "outputs": []
    }
  ]
}