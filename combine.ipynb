{
  "nbformat": 4,
  "nbformat_minor": 0,
  "metadata": {
    "colab": {
      "name": "Untitled1.ipynb",
      "provenance": [],
      "toc_visible": true,
      "mount_file_id": "https://github.com/heejinohn/lzho/blob/main/Reddit_Data.ipynb",
      "authorship_tag": "ABX9TyMD9abtFYlQkL5zCsXRQ8+x",
      "include_colab_link": true
    },
    "kernelspec": {
      "name": "python3",
      "display_name": "Python 3"
    }
  },
  "cells": [
    {
      "cell_type": "markdown",
      "metadata": {
        "id": "view-in-github",
        "colab_type": "text"
      },
      "source": [
        "<a href=\"https://colab.research.google.com/github/heejinohn/lzho/blob/heejinohn/combine.ipynb\" target=\"_parent\"><img src=\"https://colab.research.google.com/assets/colab-badge.svg\" alt=\"Open In Colab\"/></a>"
      ]
    },
    {
      "cell_type": "code",
      "metadata": {
        "colab": {
          "base_uri": "https://localhost:8080/"
        },
        "id": "GDc7C9s3ppLa",
        "outputId": "11c38596-9f4a-4f1e-cbe7-b4fec1ca207d"
      },
      "source": [
        "!pip install wrds datetime\n",
        "import pandas as pd, numpy as np, wrds, pytz\n",
        "import datetime as dt"
      ],
      "execution_count": 203,
      "outputs": [
        {
          "output_type": "stream",
          "text": [
            "Requirement already satisfied: wrds in /usr/local/lib/python3.7/dist-packages (3.0.8)\n",
            "Requirement already satisfied: datetime in /usr/local/lib/python3.7/dist-packages (4.3)\n",
            "Requirement already satisfied: sqlalchemy in /usr/local/lib/python3.7/dist-packages (from wrds) (1.4.7)\n",
            "Requirement already satisfied: psycopg2-binary in /usr/local/lib/python3.7/dist-packages (from wrds) (2.8.6)\n",
            "Requirement already satisfied: pandas in /usr/local/lib/python3.7/dist-packages (from wrds) (1.1.5)\n",
            "Requirement already satisfied: mock in /usr/local/lib/python3.7/dist-packages (from wrds) (4.0.3)\n",
            "Requirement already satisfied: pytz in /usr/local/lib/python3.7/dist-packages (from datetime) (2018.9)\n",
            "Requirement already satisfied: zope.interface in /usr/local/lib/python3.7/dist-packages (from datetime) (5.4.0)\n",
            "Requirement already satisfied: greenlet!=0.4.17; python_version >= \"3\" in /usr/local/lib/python3.7/dist-packages (from sqlalchemy->wrds) (1.0.0)\n",
            "Requirement already satisfied: importlib-metadata; python_version < \"3.8\" in /usr/local/lib/python3.7/dist-packages (from sqlalchemy->wrds) (3.10.1)\n",
            "Requirement already satisfied: python-dateutil>=2.7.3 in /usr/local/lib/python3.7/dist-packages (from pandas->wrds) (2.8.1)\n",
            "Requirement already satisfied: numpy>=1.15.4 in /usr/local/lib/python3.7/dist-packages (from pandas->wrds) (1.19.5)\n",
            "Requirement already satisfied: setuptools in /usr/local/lib/python3.7/dist-packages (from zope.interface->datetime) (56.0.0)\n",
            "Requirement already satisfied: zipp>=0.5 in /usr/local/lib/python3.7/dist-packages (from importlib-metadata; python_version < \"3.8\"->sqlalchemy->wrds) (3.4.1)\n",
            "Requirement already satisfied: typing-extensions>=3.6.4; python_version < \"3.8\" in /usr/local/lib/python3.7/dist-packages (from importlib-metadata; python_version < \"3.8\"->sqlalchemy->wrds) (3.7.4.3)\n",
            "Requirement already satisfied: six>=1.5 in /usr/local/lib/python3.7/dist-packages (from python-dateutil>=2.7.3->pandas->wrds) (1.15.0)\n"
          ],
          "name": "stdout"
        }
      ]
    },
    {
      "cell_type": "markdown",
      "metadata": {
        "id": "QfFrLT6lV7Bo"
      },
      "source": [
        "# Read datasets"
      ]
    },
    {
      "cell_type": "code",
      "metadata": {
        "id": "zMAKStXF8X4b"
      },
      "source": [
        "ticker = pd.DataFrame()\n",
        "for i in range(2019,2020,1):\n",
        "    read = pd.read_parquet(f'/content/ticker_{i}.parquet.gzip')\n",
        "    ticker = ticker.append(read)\n",
        "col = ['date_utc','num_comments','score',\n",
        "        'ticker_a','ticker_b']\n",
        "ticker = ticker[col]\n",
        "### change directory on WRDS"
      ],
      "execution_count": 204,
      "outputs": []
    },
    {
      "cell_type": "markdown",
      "metadata": {
        "id": "dG31rkRQXTem"
      },
      "source": [
        "# Combine tickers"
      ]
    },
    {
      "cell_type": "code",
      "metadata": {
        "id": "qAky5-nj8jlW"
      },
      "source": [
        "def comb_tic(x):\n",
        "    if len(x[1]) == 0:\n",
        "        return x[0]\n",
        "    elif len(x[0]) == 0:\n",
        "        return x[1]\n",
        "    else:\n",
        "       return list(set(x[0]).union(x[1]))"
      ],
      "execution_count": 205,
      "outputs": []
    },
    {
      "cell_type": "code",
      "metadata": {
        "id": "crR0AMZMGUdk"
      },
      "source": [
        "ticker['comb_tic'] = ticker[['ticker_a','ticker_b']].apply(comb_tic, axis=1)"
      ],
      "execution_count": 206,
      "outputs": []
    },
    {
      "cell_type": "code",
      "metadata": {
        "id": "aClaalSRPSxu"
      },
      "source": [
        "ticker['add_col'] = ticker['comb_tic'].apply(len)"
      ],
      "execution_count": 207,
      "outputs": []
    },
    {
      "cell_type": "markdown",
      "metadata": {
        "id": "b9XKj4BhXc9E"
      },
      "source": [
        "# Separate columns"
      ]
    },
    {
      "cell_type": "code",
      "metadata": {
        "id": "MZHrG2x6Pezv"
      },
      "source": [
        "pos = len(ticker.columns)\n",
        "tics = []\n",
        "for i in range(pos, ticker['add_col'].max() + pos, 1):\n",
        "    tics = tics + [f'tic{i - pos}']"
      ],
      "execution_count": 208,
      "outputs": []
    },
    {
      "cell_type": "code",
      "metadata": {
        "id": "mo21PlnISPBV"
      },
      "source": [
        "ticker[tics] = pd.DataFrame(ticker['comb_tic'].to_list(), index=ticker.index)\n",
        "ticker.drop(['ticker_a','ticker_b','comb_tic'],inplace=True, axis=1)"
      ],
      "execution_count": 209,
      "outputs": []
    },
    {
      "cell_type": "markdown",
      "metadata": {
        "id": "y5-NKmwHgs_1"
      },
      "source": [
        "# Merge rewards from csv"
      ]
    },
    {
      "cell_type": "code",
      "metadata": {
        "id": "cIZlgwqagySf"
      },
      "source": [
        "wsb = pd.read_csv('/content/r_wallstreetbets_posts.csv',index_col='id',low_memory=False)"
      ],
      "execution_count": 210,
      "outputs": []
    },
    {
      "cell_type": "code",
      "metadata": {
        "id": "e_qOs_KPh5zt"
      },
      "source": [
        "wsb = wsb[['total_awards_received']]"
      ],
      "execution_count": 211,
      "outputs": []
    },
    {
      "cell_type": "code",
      "metadata": {
        "id": "__H14J4gmsvQ"
      },
      "source": [
        "ticker = ticker.merge(wsb,how='left',left_index=True,right_index=True)"
      ],
      "execution_count": 212,
      "outputs": []
    },
    {
      "cell_type": "markdown",
      "metadata": {
        "id": "Esfl784WUmyp"
      },
      "source": [
        "# Shift dates"
      ]
    },
    {
      "cell_type": "code",
      "metadata": {
        "id": "Wr_LmM51vMcj"
      },
      "source": [
        "ticker['datetime'] = ticker['date_utc'].dt.tz_convert('US/Eastern')"
      ],
      "execution_count": 213,
      "outputs": []
    },
    {
      "cell_type": "code",
      "metadata": {
        "id": "BeOd3zFv9-SP"
      },
      "source": [
        "start = dt.time(16,0,0)\n",
        "end = dt.time(23,59,59)\n",
        "ticker['date'] = np.where(ticker['datetime'].dt.time.between(start,end),\n",
        "                          ticker['datetime'].dt.date + pd.DateOffset(days=1),\n",
        "                          ticker['datetime'].dt.date)"
      ],
      "execution_count": 223,
      "outputs": []
    },
    {
      "cell_type": "code",
      "metadata": {
        "id": "atACYFTQATt7"
      },
      "source": [
        "ticker['date'] = pd.to_datetime(ticker['date'],unit='ms')"
      ],
      "execution_count": 231,
      "outputs": []
    },
    {
      "cell_type": "code",
      "metadata": {
        "id": "8e4_fNyVByUq"
      },
      "source": [
        "ticker['dat']"
      ],
      "execution_count": null,
      "outputs": []
    },
    {
      "cell_type": "markdown",
      "metadata": {
        "id": "mHxv-na5glS0"
      },
      "source": [
        "# Transpose"
      ]
    },
    {
      "cell_type": "code",
      "metadata": {
        "id": "wYshPD8Sh4r3"
      },
      "source": [
        "tic_t = pd.wide_to_long(ticker.reset_index(),'tic',i='id',j='num')[lambda x: ~x['tic'].isna()]"
      ],
      "execution_count": 128,
      "outputs": []
    },
    {
      "cell_type": "code",
      "metadata": {
        "id": "UR5fu19SqHW9",
        "outputId": "ca1fe8e5-6c46-4099-8b75-6dae21214461",
        "colab": {
          "base_uri": "https://localhost:8080/",
          "height": 235
        }
      },
      "source": [
        "tic_t.head()"
      ],
      "execution_count": 129,
      "outputs": [
        {
          "output_type": "execute_result",
          "data": {
            "text/html": [
              "<div>\n",
              "<style scoped>\n",
              "    .dataframe tbody tr th:only-of-type {\n",
              "        vertical-align: middle;\n",
              "    }\n",
              "\n",
              "    .dataframe tbody tr th {\n",
              "        vertical-align: top;\n",
              "    }\n",
              "\n",
              "    .dataframe thead th {\n",
              "        text-align: right;\n",
              "    }\n",
              "</style>\n",
              "<table border=\"1\" class=\"dataframe\">\n",
              "  <thead>\n",
              "    <tr style=\"text-align: right;\">\n",
              "      <th></th>\n",
              "      <th></th>\n",
              "      <th>num_comments</th>\n",
              "      <th>add_col</th>\n",
              "      <th>total_awards_received</th>\n",
              "      <th>date_utc</th>\n",
              "      <th>score</th>\n",
              "      <th>tic</th>\n",
              "    </tr>\n",
              "    <tr>\n",
              "      <th>id</th>\n",
              "      <th>num</th>\n",
              "      <th></th>\n",
              "      <th></th>\n",
              "      <th></th>\n",
              "      <th></th>\n",
              "      <th></th>\n",
              "      <th></th>\n",
              "    </tr>\n",
              "  </thead>\n",
              "  <tbody>\n",
              "    <tr>\n",
              "      <th>eiaz8e</th>\n",
              "      <th>0</th>\n",
              "      <td>5</td>\n",
              "      <td>4</td>\n",
              "      <td>0.0</td>\n",
              "      <td>2019-12-31 23:58:26+00:00</td>\n",
              "      <td>1</td>\n",
              "      <td>DD</td>\n",
              "    </tr>\n",
              "    <tr>\n",
              "      <th>eiatp9</th>\n",
              "      <th>0</th>\n",
              "      <td>38</td>\n",
              "      <td>2</td>\n",
              "      <td>0.0</td>\n",
              "      <td>2019-12-31 23:45:57+00:00</td>\n",
              "      <td>1</td>\n",
              "      <td>DD</td>\n",
              "    </tr>\n",
              "    <tr>\n",
              "      <th>eiasq6</th>\n",
              "      <th>0</th>\n",
              "      <td>0</td>\n",
              "      <td>1</td>\n",
              "      <td>0.0</td>\n",
              "      <td>2019-12-31 23:43:38+00:00</td>\n",
              "      <td>1</td>\n",
              "      <td>BSGM</td>\n",
              "    </tr>\n",
              "    <tr>\n",
              "      <th>eial7r</th>\n",
              "      <th>0</th>\n",
              "      <td>16</td>\n",
              "      <td>2</td>\n",
              "      <td>0.0</td>\n",
              "      <td>2019-12-31 23:26:59+00:00</td>\n",
              "      <td>1</td>\n",
              "      <td>PE</td>\n",
              "    </tr>\n",
              "    <tr>\n",
              "      <th>eia4wt</th>\n",
              "      <th>0</th>\n",
              "      <td>0</td>\n",
              "      <td>5</td>\n",
              "      <td>0.0</td>\n",
              "      <td>2019-12-31 22:50:25+00:00</td>\n",
              "      <td>1</td>\n",
              "      <td>PTI</td>\n",
              "    </tr>\n",
              "  </tbody>\n",
              "</table>\n",
              "</div>"
            ],
            "text/plain": [
              "            num_comments  add_col  ...  score   tic\n",
              "id     num                         ...             \n",
              "eiaz8e 0               5        4  ...      1    DD\n",
              "eiatp9 0              38        2  ...      1    DD\n",
              "eiasq6 0               0        1  ...      1  BSGM\n",
              "eial7r 0              16        2  ...      1    PE\n",
              "eia4wt 0               0        5  ...      1   PTI\n",
              "\n",
              "[5 rows x 6 columns]"
            ]
          },
          "metadata": {
            "tags": []
          },
          "execution_count": 129
        }
      ]
    }
  ]
}