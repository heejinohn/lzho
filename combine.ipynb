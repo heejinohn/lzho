{
  "nbformat": 4,
  "nbformat_minor": 0,
  "metadata": {
    "colab": {
      "name": "Untitled1.ipynb",
      "provenance": [],
      "toc_visible": true,
      "mount_file_id": "https://github.com/heejinohn/lzho/blob/main/Reddit_Data.ipynb",
      "authorship_tag": "ABX9TyO8asFmFFiQrTBLRKyihcxn",
      "include_colab_link": true
    },
    "kernelspec": {
      "name": "python3",
      "display_name": "Python 3"
    }
  },
  "cells": [
    {
      "cell_type": "markdown",
      "metadata": {
        "id": "view-in-github",
        "colab_type": "text"
      },
      "source": [
        "<a href=\"https://colab.research.google.com/github/heejinohn/lzho/blob/heejinohn/combine.ipynb\" target=\"_parent\"><img src=\"https://colab.research.google.com/assets/colab-badge.svg\" alt=\"Open In Colab\"/></a>"
      ]
    },
    {
      "cell_type": "code",
      "metadata": {
        "colab": {
          "base_uri": "https://localhost:8080/"
        },
        "id": "GDc7C9s3ppLa",
        "outputId": "09d6bc14-31dc-4d77-f67d-e10da6e4119f"
      },
      "source": [
        "!pip install wrds datetime\n",
        "import pandas as pd, numpy as np, wrds\n",
        "import datetime as dt"
      ],
      "execution_count": 2,
      "outputs": [
        {
          "output_type": "stream",
          "text": [
            "Requirement already satisfied: wrds in /usr/local/lib/python3.7/dist-packages (3.0.8)\n",
            "Requirement already satisfied: datetime in /usr/local/lib/python3.7/dist-packages (4.3)\n",
            "Requirement already satisfied: mock in /usr/local/lib/python3.7/dist-packages (from wrds) (4.0.3)\n",
            "Requirement already satisfied: pandas in /usr/local/lib/python3.7/dist-packages (from wrds) (1.1.5)\n",
            "Requirement already satisfied: sqlalchemy in /usr/local/lib/python3.7/dist-packages (from wrds) (1.4.7)\n",
            "Requirement already satisfied: psycopg2-binary in /usr/local/lib/python3.7/dist-packages (from wrds) (2.8.6)\n",
            "Requirement already satisfied: pytz in /usr/local/lib/python3.7/dist-packages (from datetime) (2018.9)\n",
            "Requirement already satisfied: zope.interface in /usr/local/lib/python3.7/dist-packages (from datetime) (5.4.0)\n",
            "Requirement already satisfied: numpy>=1.15.4 in /usr/local/lib/python3.7/dist-packages (from pandas->wrds) (1.19.5)\n",
            "Requirement already satisfied: python-dateutil>=2.7.3 in /usr/local/lib/python3.7/dist-packages (from pandas->wrds) (2.8.1)\n",
            "Requirement already satisfied: greenlet!=0.4.17; python_version >= \"3\" in /usr/local/lib/python3.7/dist-packages (from sqlalchemy->wrds) (1.0.0)\n",
            "Requirement already satisfied: importlib-metadata; python_version < \"3.8\" in /usr/local/lib/python3.7/dist-packages (from sqlalchemy->wrds) (3.10.1)\n",
            "Requirement already satisfied: setuptools in /usr/local/lib/python3.7/dist-packages (from zope.interface->datetime) (56.0.0)\n",
            "Requirement already satisfied: six>=1.5 in /usr/local/lib/python3.7/dist-packages (from python-dateutil>=2.7.3->pandas->wrds) (1.15.0)\n",
            "Requirement already satisfied: zipp>=0.5 in /usr/local/lib/python3.7/dist-packages (from importlib-metadata; python_version < \"3.8\"->sqlalchemy->wrds) (3.4.1)\n",
            "Requirement already satisfied: typing-extensions>=3.6.4; python_version < \"3.8\" in /usr/local/lib/python3.7/dist-packages (from importlib-metadata; python_version < \"3.8\"->sqlalchemy->wrds) (3.7.4.3)\n"
          ],
          "name": "stdout"
        }
      ]
    },
    {
      "cell_type": "markdown",
      "metadata": {
        "id": "QfFrLT6lV7Bo"
      },
      "source": [
        "# Read datasets"
      ]
    },
    {
      "cell_type": "code",
      "metadata": {
        "id": "Bw8fsg2MMgmW"
      },
      "source": [
        "ticker.append?"
      ],
      "execution_count": 12,
      "outputs": []
    },
    {
      "cell_type": "code",
      "metadata": {
        "id": "zMAKStXF8X4b"
      },
      "source": [
        "ticker = pd.DataFrame()\n",
        "for i in range(2019,2020,1):\n",
        "    read = pd.read_parquet(f'/content/ticker_{i}.parquet.gzip')\n",
        "    ticker = ticker.append(read)\n",
        "col = ['date_utc','num_comments','score',\n",
        "        'ticker_a','ticker_b']\n",
        "ticker = ticker[col]"
      ],
      "execution_count": 14,
      "outputs": []
    },
    {
      "cell_type": "code",
      "metadata": {
        "id": "qAky5-nj8jlW"
      },
      "source": [
        "def comb_tic(x):\n",
        "    if len(x[1]) == 0:\n",
        "        return x[0]\n",
        "    elif len(x[0]) == 0:\n",
        "        return x[1]\n",
        "    else:\n",
        "       return list(set(x[0]).union(x[1]))"
      ],
      "execution_count": 4,
      "outputs": []
    },
    {
      "cell_type": "code",
      "metadata": {
        "id": "crR0AMZMGUdk"
      },
      "source": [
        "ticker['comb_tic'] = ticker[['ticker_a','ticker_b']].apply(comb_tic, axis=1)"
      ],
      "execution_count": 5,
      "outputs": []
    },
    {
      "cell_type": "code",
      "metadata": {
        "id": "RUqxIG-lLbIx",
        "outputId": "c38c3735-bb5b-456b-89fc-ea27da7b2745",
        "colab": {
          "base_uri": "https://localhost:8080/"
        }
      },
      "source": [
        "ticker.shape"
      ],
      "execution_count": 10,
      "outputs": [
        {
          "output_type": "execute_result",
          "data": {
            "text/plain": [
              "(71561, 6)"
            ]
          },
          "metadata": {
            "tags": []
          },
          "execution_count": 10
        }
      ]
    },
    {
      "cell_type": "code",
      "metadata": {
        "id": "Ma8OSAejLWRO",
        "outputId": "5321a269-429b-4a67-f63a-b70da029910f",
        "colab": {
          "base_uri": "https://localhost:8080/",
          "height": 450
        }
      },
      "source": [
        "ticker[ticker['comb_tic'].apply(len) != 0]"
      ],
      "execution_count": 11,
      "outputs": [
        {
          "output_type": "execute_result",
          "data": {
            "text/html": [
              "<div>\n",
              "<style scoped>\n",
              "    .dataframe tbody tr th:only-of-type {\n",
              "        vertical-align: middle;\n",
              "    }\n",
              "\n",
              "    .dataframe tbody tr th {\n",
              "        vertical-align: top;\n",
              "    }\n",
              "\n",
              "    .dataframe thead th {\n",
              "        text-align: right;\n",
              "    }\n",
              "</style>\n",
              "<table border=\"1\" class=\"dataframe\">\n",
              "  <thead>\n",
              "    <tr style=\"text-align: right;\">\n",
              "      <th></th>\n",
              "      <th>date_utc</th>\n",
              "      <th>num_comments</th>\n",
              "      <th>score</th>\n",
              "      <th>ticker_a</th>\n",
              "      <th>ticker_b</th>\n",
              "      <th>comb_tic</th>\n",
              "    </tr>\n",
              "    <tr>\n",
              "      <th>id</th>\n",
              "      <th></th>\n",
              "      <th></th>\n",
              "      <th></th>\n",
              "      <th></th>\n",
              "      <th></th>\n",
              "      <th></th>\n",
              "    </tr>\n",
              "  </thead>\n",
              "  <tbody>\n",
              "    <tr>\n",
              "      <th>eiaz8e</th>\n",
              "      <td>2019-12-31 23:58:26+00:00</td>\n",
              "      <td>5</td>\n",
              "      <td>1</td>\n",
              "      <td>[UBER, DD, LYFT]</td>\n",
              "      <td>[UBER, AMZN, LYFT]</td>\n",
              "      <td>[DD, UBER, AMZN, LYFT]</td>\n",
              "    </tr>\n",
              "    <tr>\n",
              "      <th>eiatp9</th>\n",
              "      <td>2019-12-31 23:45:57+00:00</td>\n",
              "      <td>38</td>\n",
              "      <td>1</td>\n",
              "      <td>[DD]</td>\n",
              "      <td>[WEAT]</td>\n",
              "      <td>[DD, WEAT]</td>\n",
              "    </tr>\n",
              "    <tr>\n",
              "      <th>eiasq6</th>\n",
              "      <td>2019-12-31 23:43:38+00:00</td>\n",
              "      <td>0</td>\n",
              "      <td>1</td>\n",
              "      <td>[BSGM]</td>\n",
              "      <td>[]</td>\n",
              "      <td>[BSGM]</td>\n",
              "    </tr>\n",
              "    <tr>\n",
              "      <th>eial7r</th>\n",
              "      <td>2019-12-31 23:26:59+00:00</td>\n",
              "      <td>16</td>\n",
              "      <td>1</td>\n",
              "      <td>[TLRD]</td>\n",
              "      <td>[PE]</td>\n",
              "      <td>[PE, TLRD]</td>\n",
              "    </tr>\n",
              "    <tr>\n",
              "      <th>eia4wt</th>\n",
              "      <td>2019-12-31 22:50:25+00:00</td>\n",
              "      <td>0</td>\n",
              "      <td>1</td>\n",
              "      <td>[PTI, LK, YOLO, XLE, NIO]</td>\n",
              "      <td>[]</td>\n",
              "      <td>[PTI, LK, YOLO, XLE, NIO]</td>\n",
              "    </tr>\n",
              "    <tr>\n",
              "      <th>...</th>\n",
              "      <td>...</td>\n",
              "      <td>...</td>\n",
              "      <td>...</td>\n",
              "      <td>...</td>\n",
              "      <td>...</td>\n",
              "      <td>...</td>\n",
              "    </tr>\n",
              "    <tr>\n",
              "      <th>abej5o</th>\n",
              "      <td>2019-01-01 03:32:20+00:00</td>\n",
              "      <td>7</td>\n",
              "      <td>1</td>\n",
              "      <td>[GS]</td>\n",
              "      <td>[]</td>\n",
              "      <td>[GS]</td>\n",
              "    </tr>\n",
              "    <tr>\n",
              "      <th>abdmiy</th>\n",
              "      <td>2019-01-01 01:28:41+00:00</td>\n",
              "      <td>56</td>\n",
              "      <td>1</td>\n",
              "      <td>[USO, DD]</td>\n",
              "      <td>[]</td>\n",
              "      <td>[USO, DD]</td>\n",
              "    </tr>\n",
              "    <tr>\n",
              "      <th>abdgg0</th>\n",
              "      <td>2019-01-01 01:07:50+00:00</td>\n",
              "      <td>6</td>\n",
              "      <td>1</td>\n",
              "      <td>[SPX]</td>\n",
              "      <td>[]</td>\n",
              "      <td>[SPX]</td>\n",
              "    </tr>\n",
              "    <tr>\n",
              "      <th>abd7gh</th>\n",
              "      <td>2019-01-01 00:38:52+00:00</td>\n",
              "      <td>8</td>\n",
              "      <td>1</td>\n",
              "      <td>[ULTA]</td>\n",
              "      <td>[]</td>\n",
              "      <td>[ULTA]</td>\n",
              "    </tr>\n",
              "    <tr>\n",
              "      <th>abd503</th>\n",
              "      <td>2019-01-01 00:31:03+00:00</td>\n",
              "      <td>23</td>\n",
              "      <td>1</td>\n",
              "      <td>[]</td>\n",
              "      <td>[CEO, V, GE]</td>\n",
              "      <td>[CEO, V, GE]</td>\n",
              "    </tr>\n",
              "  </tbody>\n",
              "</table>\n",
              "<p>27698 rows × 6 columns</p>\n",
              "</div>"
            ],
            "text/plain": [
              "                        date_utc  ...                   comb_tic\n",
              "id                                ...                           \n",
              "eiaz8e 2019-12-31 23:58:26+00:00  ...     [DD, UBER, AMZN, LYFT]\n",
              "eiatp9 2019-12-31 23:45:57+00:00  ...                 [DD, WEAT]\n",
              "eiasq6 2019-12-31 23:43:38+00:00  ...                     [BSGM]\n",
              "eial7r 2019-12-31 23:26:59+00:00  ...                 [PE, TLRD]\n",
              "eia4wt 2019-12-31 22:50:25+00:00  ...  [PTI, LK, YOLO, XLE, NIO]\n",
              "...                          ...  ...                        ...\n",
              "abej5o 2019-01-01 03:32:20+00:00  ...                       [GS]\n",
              "abdmiy 2019-01-01 01:28:41+00:00  ...                  [USO, DD]\n",
              "abdgg0 2019-01-01 01:07:50+00:00  ...                      [SPX]\n",
              "abd7gh 2019-01-01 00:38:52+00:00  ...                     [ULTA]\n",
              "abd503 2019-01-01 00:31:03+00:00  ...               [CEO, V, GE]\n",
              "\n",
              "[27698 rows x 6 columns]"
            ]
          },
          "metadata": {
            "tags": []
          },
          "execution_count": 11
        }
      ]
    }
  ]
}