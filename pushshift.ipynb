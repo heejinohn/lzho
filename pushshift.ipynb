{
  "nbformat": 4,
  "nbformat_minor": 0,
  "metadata": {
    "colab": {
      "name": "Untitled1.ipynb",
      "provenance": [],
      "toc_visible": true,
      "mount_file_id": "https://github.com/heejinohn/lzho/blob/main/Reddit_Data.ipynb",
      "authorship_tag": "ABX9TyNCHbSIljslyfJ4CYo7d7Km",
      "include_colab_link": true
    },
    "kernelspec": {
      "name": "python3",
      "display_name": "Python 3"
    }
  },
  "cells": [
    {
      "cell_type": "markdown",
      "metadata": {
        "id": "view-in-github",
        "colab_type": "text"
      },
      "source": [
        "<a href=\"https://colab.research.google.com/github/heejinohn/lzho/blob/heejinohn/pushshift.ipynb\" target=\"_parent\"><img src=\"https://colab.research.google.com/assets/colab-badge.svg\" alt=\"Open In Colab\"/></a>"
      ]
    },
    {
      "cell_type": "markdown",
      "metadata": {
        "id": "lrXzZnYPprBv"
      },
      "source": [
        "# Initial setup"
      ]
    },
    {
      "cell_type": "code",
      "metadata": {
        "colab": {
          "base_uri": "https://localhost:8080/"
        },
        "id": "GDc7C9s3ppLa",
        "outputId": "dd612942-25b8-4b6f-ebdc-b6e776615694"
      },
      "source": [
        "!pip install wrds datetime psaw\n",
        "import pandas as pd, numpy as np, wrds, datetime, sqlite3, requests\n",
        "import datetime as dt\n",
        "from psaw import PushshiftAPI"
      ],
      "execution_count": 1,
      "outputs": [
        {
          "output_type": "stream",
          "text": [
            "Collecting wrds\n",
            "  Downloading https://files.pythonhosted.org/packages/1c/35/9d86097c36a8528a1f5bbc3815c161c2dfce7fffc28e10cfd7c9726c1ac0/wrds-3.0.8-py3-none-any.whl\n",
            "Collecting datetime\n",
            "\u001b[?25l  Downloading https://files.pythonhosted.org/packages/73/22/a5297f3a1f92468cc737f8ce7ba6e5f245fcfafeae810ba37bd1039ea01c/DateTime-4.3-py2.py3-none-any.whl (60kB)\n",
            "\u001b[K     |████████████████████████████████| 61kB 3.9MB/s \n",
            "\u001b[?25hCollecting psaw\n",
            "  Downloading https://files.pythonhosted.org/packages/01/fe/e2f43241ff7545588d07bb93dd353e4333ebc02c31d7e0dc36a8a9d93214/psaw-0.1.0-py3-none-any.whl\n",
            "Requirement already satisfied: sqlalchemy in /usr/local/lib/python3.7/dist-packages (from wrds) (1.4.7)\n",
            "Collecting psycopg2-binary\n",
            "\u001b[?25l  Downloading https://files.pythonhosted.org/packages/6d/45/c519a5cfac05e14b1ccb242138915855293199840598e087b935ba1d86bc/psycopg2_binary-2.8.6-cp37-cp37m-manylinux1_x86_64.whl (3.0MB)\n",
            "\u001b[K     |████████████████████████████████| 3.0MB 22.7MB/s \n",
            "\u001b[?25hRequirement already satisfied: pandas in /usr/local/lib/python3.7/dist-packages (from wrds) (1.1.5)\n",
            "Collecting mock\n",
            "  Downloading https://files.pythonhosted.org/packages/5c/03/b7e605db4a57c0f6fba744b11ef3ddf4ddebcada35022927a2b5fc623fdf/mock-4.0.3-py3-none-any.whl\n",
            "Requirement already satisfied: pytz in /usr/local/lib/python3.7/dist-packages (from datetime) (2018.9)\n",
            "Collecting zope.interface\n",
            "\u001b[?25l  Downloading https://files.pythonhosted.org/packages/bb/a7/94e1a92c71436f934cdd2102826fa041c83dcb7d21dd0f1fb1a57f6e0620/zope.interface-5.4.0-cp37-cp37m-manylinux2010_x86_64.whl (251kB)\n",
            "\u001b[K     |████████████████████████████████| 256kB 37.1MB/s \n",
            "\u001b[?25hRequirement already satisfied: requests in /usr/local/lib/python3.7/dist-packages (from psaw) (2.23.0)\n",
            "Requirement already satisfied: Click in /usr/local/lib/python3.7/dist-packages (from psaw) (7.1.2)\n",
            "Requirement already satisfied: importlib-metadata; python_version < \"3.8\" in /usr/local/lib/python3.7/dist-packages (from sqlalchemy->wrds) (3.10.1)\n",
            "Requirement already satisfied: greenlet!=0.4.17; python_version >= \"3\" in /usr/local/lib/python3.7/dist-packages (from sqlalchemy->wrds) (1.0.0)\n",
            "Requirement already satisfied: numpy>=1.15.4 in /usr/local/lib/python3.7/dist-packages (from pandas->wrds) (1.19.5)\n",
            "Requirement already satisfied: python-dateutil>=2.7.3 in /usr/local/lib/python3.7/dist-packages (from pandas->wrds) (2.8.1)\n",
            "Requirement already satisfied: setuptools in /usr/local/lib/python3.7/dist-packages (from zope.interface->datetime) (56.0.0)\n",
            "Requirement already satisfied: idna<3,>=2.5 in /usr/local/lib/python3.7/dist-packages (from requests->psaw) (2.10)\n",
            "Requirement already satisfied: chardet<4,>=3.0.2 in /usr/local/lib/python3.7/dist-packages (from requests->psaw) (3.0.4)\n",
            "Requirement already satisfied: certifi>=2017.4.17 in /usr/local/lib/python3.7/dist-packages (from requests->psaw) (2020.12.5)\n",
            "Requirement already satisfied: urllib3!=1.25.0,!=1.25.1,<1.26,>=1.21.1 in /usr/local/lib/python3.7/dist-packages (from requests->psaw) (1.24.3)\n",
            "Requirement already satisfied: typing-extensions>=3.6.4; python_version < \"3.8\" in /usr/local/lib/python3.7/dist-packages (from importlib-metadata; python_version < \"3.8\"->sqlalchemy->wrds) (3.7.4.3)\n",
            "Requirement already satisfied: zipp>=0.5 in /usr/local/lib/python3.7/dist-packages (from importlib-metadata; python_version < \"3.8\"->sqlalchemy->wrds) (3.4.1)\n",
            "Requirement already satisfied: six>=1.5 in /usr/local/lib/python3.7/dist-packages (from python-dateutil>=2.7.3->pandas->wrds) (1.15.0)\n",
            "Installing collected packages: psycopg2-binary, mock, wrds, zope.interface, datetime, psaw\n",
            "Successfully installed datetime-4.3 mock-4.0.3 psaw-0.1.0 psycopg2-binary-2.8.6 wrds-3.0.8 zope.interface-5.4.0\n"
          ],
          "name": "stdout"
        }
      ]
    },
    {
      "cell_type": "markdown",
      "metadata": {
        "id": "QfFrLT6lV7Bo"
      },
      "source": [
        "# Read datasets"
      ]
    },
    {
      "cell_type": "markdown",
      "metadata": {
        "id": "iSXYciebE6Da"
      },
      "source": [
        "Unique ticker list from OptionMetrics"
      ]
    },
    {
      "cell_type": "markdown",
      "metadata": {
        "id": "acLupqZwSvRj"
      },
      "source": [
        "## Grab Reddit submissions using Pushshift API\n",
        "\n"
      ]
    },
    {
      "cell_type": "code",
      "metadata": {
        "id": "1L_syolpgfQr"
      },
      "source": [
        "api = PushshiftAPI()"
      ],
      "execution_count": 4,
      "outputs": []
    },
    {
      "cell_type": "code",
      "metadata": {
        "id": "vTNuGRwPSsFW"
      },
      "source": [
        "for year in range(2012,2021,1)\n",
        "    field = ['id','created','created_utc','num_comments','score',\n",
        "            'upvote_ratio','full_link','title','selftext','link_flair_text']\n",
        "    end_epoch = int(dt.datetime(2012,5,31).timestamp())\n",
        "    gen = api.search_submissions(subreddit='wallstreetbets',\n",
        "                                before=end_epoch)\n",
        "    submission = pd.DataFrame([post.d_ for post in gen])[field]\n",
        "    # submission = pd.DataFrame([post.d_ for post in gen])\n",
        "    submission['date'] = pd.to_datetime(submission['created'], unit='s', utc=True)\n",
        "    submission['date_utc'] = pd.to_datetime(submission['created_utc'], unit='s', utc=True)\n",
        "    col = submission.columns.to_list()\n",
        "    col = col[0:1] + col[-2:] + col[3:-2]\n",
        "    submission = submission[col]\n",
        "    submission.to_parquet(f'/content/sub_{year}.parquet.gzip','gzip')"
      ],
      "execution_count": 5,
      "outputs": []
    }
  ]
}