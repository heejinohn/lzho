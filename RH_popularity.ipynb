{
 "cells": [
  {
   "cell_type": "markdown",
   "metadata": {
    "colab_type": "text",
    "id": "view-in-github"
   },
   "source": [
    "<a href=\"https://colab.research.google.com/github/heejinohn/lzho/blob/heejinohn/RH_popularity.ipynb\" target=\"_parent\"><img src=\"https://colab.research.google.com/assets/colab-badge.svg\" alt=\"Open In Colab\"/></a>"
   ]
  },
  {
   "cell_type": "markdown",
   "metadata": {
    "id": "nVnZ2wEm2Scr"
   },
   "source": [
    "\n",
    "# Import packages"
   ]
  },
  {
   "cell_type": "code",
   "execution_count": 1,
   "metadata": {
    "id": "7x_fy8Wf0EZQ"
   },
   "outputs": [],
   "source": [
    "import os\n",
    "import pandas as pd\n",
    "import datetime as dt"
   ]
  },
  {
   "cell_type": "markdown",
   "metadata": {
    "id": "BDAI3r5CSm_G"
   },
   "source": [
    "# Combine files"
   ]
  },
  {
   "cell_type": "markdown",
   "metadata": {
    "id": "oFZCclLh2ERG"
   },
   "source": [
    "## Iterating over files"
   ]
  },
  {
   "cell_type": "code",
   "execution_count": 5,
   "metadata": {
    "id": "AYF4gW0_49_i"
   },
   "outputs": [],
   "source": [
    "files = [x for x in os.listdir('/Users/ohn0000/Dropbox/hjlz/popularity_export/')\n",
    "         if '.csv' in x and x.startswith(\"A\")]\n",
    "files.sort()\n",
    "ticker = [x.rsplit('.csv')[0] for x in files]"
   ]
  },
  {
   "cell_type": "code",
   "execution_count": null,
   "metadata": {
    "id": "DUaHyNs25xun"
   },
   "outputs": [],
   "source": [
    "def chunks(lst, n):\n",
    "    \"\"\"Yield successive n-sized chunks from lst.\"\"\"\n",
    "    for i in range(0, len(lst), n):\n",
    "        yield lst[i:i + n]"
   ]
  },
  {
   "cell_type": "markdown",
   "metadata": {
    "id": "p1fsI1rETnN6"
   },
   "source": [
    "This function can be used to devide the file list into chunks. It might come in handy to run script on the **8,597** files."
   ]
  },
  {
   "cell_type": "markdown",
   "metadata": {
    "id": "LqNEuUJW2IlK"
   },
   "source": [
    "## Appending data"
   ]
  },
  {
   "cell_type": "code",
   "execution_count": 6,
   "metadata": {
    "id": "QdUxzcAM13en"
   },
   "outputs": [],
   "source": [
    "time = []\n",
    "users = []\n",
    "tic = []\n",
    "for i in range(len(files)):\n",
    "    filepath = '/Users/ohn0000/Dropbox/hjlz/popularity_export/'\n",
    "    pos = os.path.join(filepath, files[i])\n",
    "    read = pd.read_csv(pos, sep=',', header=0)\n",
    "    time.extend(list(read.iloc[:,0]))\n",
    "    users.extend(list(read.iloc[:,1]))\n",
    "    tic.extend([ticker[i]] * len(read))"
   ]
  },
  {
   "cell_type": "markdown",
   "metadata": {
    "id": "2X8fRUlA2Met"
   },
   "source": [
    "## Reading data into dataframe"
   ]
  },
  {
   "cell_type": "code",
   "execution_count": 7,
   "metadata": {
    "id": "cW_BZhC1vPY1"
   },
   "outputs": [],
   "source": [
    "data = pd.DataFrame({'tic':tic, 'timestamp':time, 'users_holding':users})"
   ]
  },
  {
   "cell_type": "markdown",
   "metadata": {
    "id": "OmhdQH6hDOMb"
   },
   "source": [
    "## Change *timestamp* to datetime type"
   ]
  },
  {
   "cell_type": "code",
   "execution_count": 8,
   "metadata": {
    "id": "6R-AOc0SD2Kw"
   },
   "outputs": [],
   "source": [
    "data['timestamp'] = pd.to_datetime(data['timestamp'])"
   ]
  },
  {
   "cell_type": "code",
   "execution_count": 9,
   "metadata": {},
   "outputs": [
    {
     "data": {
      "text/plain": [
       "31770795"
      ]
     },
     "execution_count": 9,
     "metadata": {},
     "output_type": "execute_result"
    }
   ],
   "source": [
    "data.size"
   ]
  },
  {
   "cell_type": "code",
   "execution_count": 10,
   "metadata": {},
   "outputs": [
    {
     "data": {
      "text/html": [
       "<div>\n",
       "<style scoped>\n",
       "    .dataframe tbody tr th:only-of-type {\n",
       "        vertical-align: middle;\n",
       "    }\n",
       "\n",
       "    .dataframe tbody tr th {\n",
       "        vertical-align: top;\n",
       "    }\n",
       "\n",
       "    .dataframe thead th {\n",
       "        text-align: right;\n",
       "    }\n",
       "</style>\n",
       "<table border=\"1\" class=\"dataframe\">\n",
       "  <thead>\n",
       "    <tr style=\"text-align: right;\">\n",
       "      <th></th>\n",
       "      <th>tic</th>\n",
       "      <th>timestamp</th>\n",
       "      <th>users_holding</th>\n",
       "    </tr>\n",
       "  </thead>\n",
       "  <tbody>\n",
       "    <tr>\n",
       "      <th>0</th>\n",
       "      <td>A</td>\n",
       "      <td>2018-05-02 04:56:43</td>\n",
       "      <td>590.0</td>\n",
       "    </tr>\n",
       "    <tr>\n",
       "      <th>1</th>\n",
       "      <td>A</td>\n",
       "      <td>2018-05-02 06:41:54</td>\n",
       "      <td>590.0</td>\n",
       "    </tr>\n",
       "    <tr>\n",
       "      <th>2</th>\n",
       "      <td>A</td>\n",
       "      <td>2018-05-03 00:38:56</td>\n",
       "      <td>586.0</td>\n",
       "    </tr>\n",
       "    <tr>\n",
       "      <th>3</th>\n",
       "      <td>A</td>\n",
       "      <td>2018-05-03 06:37:13</td>\n",
       "      <td>586.0</td>\n",
       "    </tr>\n",
       "    <tr>\n",
       "      <th>4</th>\n",
       "      <td>A</td>\n",
       "      <td>2018-05-03 06:52:09</td>\n",
       "      <td>586.0</td>\n",
       "    </tr>\n",
       "    <tr>\n",
       "      <th>5</th>\n",
       "      <td>A</td>\n",
       "      <td>2018-05-03 07:10:28</td>\n",
       "      <td>586.0</td>\n",
       "    </tr>\n",
       "    <tr>\n",
       "      <th>6</th>\n",
       "      <td>A</td>\n",
       "      <td>2018-05-03 07:37:37</td>\n",
       "      <td>586.0</td>\n",
       "    </tr>\n",
       "    <tr>\n",
       "      <th>7</th>\n",
       "      <td>A</td>\n",
       "      <td>2018-05-03 07:46:54</td>\n",
       "      <td>586.0</td>\n",
       "    </tr>\n",
       "    <tr>\n",
       "      <th>8</th>\n",
       "      <td>A</td>\n",
       "      <td>2018-05-03 11:22:34</td>\n",
       "      <td>586.0</td>\n",
       "    </tr>\n",
       "    <tr>\n",
       "      <th>9</th>\n",
       "      <td>A</td>\n",
       "      <td>2018-05-03 12:45:58</td>\n",
       "      <td>586.0</td>\n",
       "    </tr>\n",
       "    <tr>\n",
       "      <th>10</th>\n",
       "      <td>A</td>\n",
       "      <td>2018-05-03 13:45:59</td>\n",
       "      <td>586.0</td>\n",
       "    </tr>\n",
       "    <tr>\n",
       "      <th>11</th>\n",
       "      <td>A</td>\n",
       "      <td>2018-05-03 14:45:59</td>\n",
       "      <td>587.0</td>\n",
       "    </tr>\n",
       "    <tr>\n",
       "      <th>12</th>\n",
       "      <td>A</td>\n",
       "      <td>2018-05-03 15:46:00</td>\n",
       "      <td>586.0</td>\n",
       "    </tr>\n",
       "    <tr>\n",
       "      <th>13</th>\n",
       "      <td>A</td>\n",
       "      <td>2018-05-03 16:46:00</td>\n",
       "      <td>587.0</td>\n",
       "    </tr>\n",
       "    <tr>\n",
       "      <th>14</th>\n",
       "      <td>A</td>\n",
       "      <td>2018-05-03 17:45:59</td>\n",
       "      <td>587.0</td>\n",
       "    </tr>\n",
       "    <tr>\n",
       "      <th>15</th>\n",
       "      <td>A</td>\n",
       "      <td>2018-05-03 18:45:59</td>\n",
       "      <td>587.0</td>\n",
       "    </tr>\n",
       "    <tr>\n",
       "      <th>16</th>\n",
       "      <td>A</td>\n",
       "      <td>2018-05-03 19:45:59</td>\n",
       "      <td>587.0</td>\n",
       "    </tr>\n",
       "    <tr>\n",
       "      <th>17</th>\n",
       "      <td>A</td>\n",
       "      <td>2018-05-03 20:45:59</td>\n",
       "      <td>587.0</td>\n",
       "    </tr>\n",
       "    <tr>\n",
       "      <th>18</th>\n",
       "      <td>A</td>\n",
       "      <td>2018-05-03 21:45:58</td>\n",
       "      <td>587.0</td>\n",
       "    </tr>\n",
       "    <tr>\n",
       "      <th>19</th>\n",
       "      <td>A</td>\n",
       "      <td>2018-05-03 22:46:00</td>\n",
       "      <td>587.0</td>\n",
       "    </tr>\n",
       "    <tr>\n",
       "      <th>20</th>\n",
       "      <td>A</td>\n",
       "      <td>2018-05-03 23:45:58</td>\n",
       "      <td>587.0</td>\n",
       "    </tr>\n",
       "    <tr>\n",
       "      <th>21</th>\n",
       "      <td>A</td>\n",
       "      <td>2018-05-04 00:45:59</td>\n",
       "      <td>587.0</td>\n",
       "    </tr>\n",
       "    <tr>\n",
       "      <th>22</th>\n",
       "      <td>A</td>\n",
       "      <td>2018-05-04 01:45:59</td>\n",
       "      <td>587.0</td>\n",
       "    </tr>\n",
       "    <tr>\n",
       "      <th>23</th>\n",
       "      <td>A</td>\n",
       "      <td>2018-05-04 02:46:01</td>\n",
       "      <td>587.0</td>\n",
       "    </tr>\n",
       "    <tr>\n",
       "      <th>24</th>\n",
       "      <td>A</td>\n",
       "      <td>2018-05-04 03:45:59</td>\n",
       "      <td>587.0</td>\n",
       "    </tr>\n",
       "    <tr>\n",
       "      <th>25</th>\n",
       "      <td>A</td>\n",
       "      <td>2018-05-04 04:45:59</td>\n",
       "      <td>587.0</td>\n",
       "    </tr>\n",
       "    <tr>\n",
       "      <th>26</th>\n",
       "      <td>A</td>\n",
       "      <td>2018-05-04 05:45:59</td>\n",
       "      <td>587.0</td>\n",
       "    </tr>\n",
       "    <tr>\n",
       "      <th>27</th>\n",
       "      <td>A</td>\n",
       "      <td>2018-05-04 06:45:59</td>\n",
       "      <td>587.0</td>\n",
       "    </tr>\n",
       "    <tr>\n",
       "      <th>28</th>\n",
       "      <td>A</td>\n",
       "      <td>2018-05-04 07:45:59</td>\n",
       "      <td>587.0</td>\n",
       "    </tr>\n",
       "    <tr>\n",
       "      <th>29</th>\n",
       "      <td>A</td>\n",
       "      <td>2018-05-04 08:46:00</td>\n",
       "      <td>587.0</td>\n",
       "    </tr>\n",
       "  </tbody>\n",
       "</table>\n",
       "</div>"
      ],
      "text/plain": [
       "   tic           timestamp  users_holding\n",
       "0    A 2018-05-02 04:56:43          590.0\n",
       "1    A 2018-05-02 06:41:54          590.0\n",
       "2    A 2018-05-03 00:38:56          586.0\n",
       "3    A 2018-05-03 06:37:13          586.0\n",
       "4    A 2018-05-03 06:52:09          586.0\n",
       "5    A 2018-05-03 07:10:28          586.0\n",
       "6    A 2018-05-03 07:37:37          586.0\n",
       "7    A 2018-05-03 07:46:54          586.0\n",
       "8    A 2018-05-03 11:22:34          586.0\n",
       "9    A 2018-05-03 12:45:58          586.0\n",
       "10   A 2018-05-03 13:45:59          586.0\n",
       "11   A 2018-05-03 14:45:59          587.0\n",
       "12   A 2018-05-03 15:46:00          586.0\n",
       "13   A 2018-05-03 16:46:00          587.0\n",
       "14   A 2018-05-03 17:45:59          587.0\n",
       "15   A 2018-05-03 18:45:59          587.0\n",
       "16   A 2018-05-03 19:45:59          587.0\n",
       "17   A 2018-05-03 20:45:59          587.0\n",
       "18   A 2018-05-03 21:45:58          587.0\n",
       "19   A 2018-05-03 22:46:00          587.0\n",
       "20   A 2018-05-03 23:45:58          587.0\n",
       "21   A 2018-05-04 00:45:59          587.0\n",
       "22   A 2018-05-04 01:45:59          587.0\n",
       "23   A 2018-05-04 02:46:01          587.0\n",
       "24   A 2018-05-04 03:45:59          587.0\n",
       "25   A 2018-05-04 04:45:59          587.0\n",
       "26   A 2018-05-04 05:45:59          587.0\n",
       "27   A 2018-05-04 06:45:59          587.0\n",
       "28   A 2018-05-04 07:45:59          587.0\n",
       "29   A 2018-05-04 08:46:00          587.0"
      ]
     },
     "execution_count": 10,
     "metadata": {},
     "output_type": "execute_result"
    }
   ],
   "source": [
    "data.head(30)"
   ]
  },
  {
   "cell_type": "markdown",
   "metadata": {},
   "source": [
    "# Convert data to daily intervals"
   ]
  },
  {
   "cell_type": "markdown",
   "metadata": {
    "id": "TmH_f5oTMyGj"
   },
   "source": [
    "# Grander causality"
   ]
  },
  {
   "cell_type": "markdown",
   "metadata": {
    "id": "5oiABOPHC3rf"
   },
   "source": [
    "- openning\n",
    "- closing\n",
    "- min\n",
    "- max"
   ]
  },
  {
   "cell_type": "markdown",
   "metadata": {
    "id": "K_NE_t80FD0x"
   },
   "source": [
    "- Type of firms\n",
    "- Institutional holdings"
   ]
  },
  {
   "cell_type": "markdown",
   "metadata": {
    "id": "19dSykgM7AqH"
   },
   "source": [
    "# Lead-lag relation\n",
    "Timing of information and actual trading\n",
    "\n",
    "$WSB_t=\\beta_0+ \\sum_{\\substack{{}\\\\t-3}}^{t+3} \\beta_n\\times \\Delta ROBINHOOD_n\n",
    "$"
   ]
  },
  {
   "cell_type": "markdown",
   "metadata": {
    "id": "va61aYT1_Gm2"
   },
   "source": [
    "$\\Delta ROBINHOOD_t=\\beta_0+ \\sum_{\\substack{{}\\\\t-3}}^{t+3} \\beta_n\\times WSB_n$"
   ]
  },
  {
   "cell_type": "markdown",
   "metadata": {
    "id": "O8FzWZbm_MDN"
   },
   "source": [
    "# CRSP\n",
    "- Bid-ask\n",
    "- *High-low*\n",
    "\n",
    "other than returns; during trading hours"
   ]
  }
 ],
 "metadata": {
  "colab": {
   "collapsed_sections": [],
   "include_colab_link": true,
   "name": "RH_popularity.ipynb",
   "provenance": []
  },
  "hide_input": false,
  "kernelspec": {
   "display_name": "Python 3 (ipykernel)",
   "language": "python",
   "name": "python3"
  },
  "language_info": {
   "codemirror_mode": {
    "name": "ipython",
    "version": 3
   },
   "file_extension": ".py",
   "mimetype": "text/x-python",
   "name": "python",
   "nbconvert_exporter": "python",
   "pygments_lexer": "ipython3",
   "version": "3.9.4"
  },
  "latex_envs": {
   "LaTeX_envs_menu_present": true,
   "autoclose": true,
   "autocomplete": true,
   "bibliofile": "biblio.bib",
   "cite_by": "apalike",
   "current_citInitial": 1,
   "eqLabelWithNumbers": true,
   "eqNumInitial": 1,
   "hotkeys": {
    "equation": "Ctrl-E",
    "itemize": "Ctrl-I"
   },
   "labels_anchors": false,
   "latex_user_defs": false,
   "report_style_numbering": false,
   "user_envs_cfg": false
  },
  "toc": {
   "base_numbering": 1,
   "nav_menu": {},
   "number_sections": true,
   "sideBar": true,
   "skip_h1_title": false,
   "title_cell": "Table of Contents",
   "title_sidebar": "Contents",
   "toc_cell": false,
   "toc_position": {},
   "toc_section_display": true,
   "toc_window_display": false
  },
  "varInspector": {
   "cols": {
    "lenName": 16,
    "lenType": 16,
    "lenVar": 40
   },
   "kernels_config": {
    "python": {
     "delete_cmd_postfix": "",
     "delete_cmd_prefix": "del ",
     "library": "var_list.py",
     "varRefreshCmd": "print(var_dic_list())"
    },
    "r": {
     "delete_cmd_postfix": ") ",
     "delete_cmd_prefix": "rm(",
     "library": "var_list.r",
     "varRefreshCmd": "cat(var_dic_list()) "
    }
   },
   "types_to_exclude": [
    "module",
    "function",
    "builtin_function_or_method",
    "instance",
    "_Feature"
   ],
   "window_display": false
  }
 },
 "nbformat": 4,
 "nbformat_minor": 1
}
