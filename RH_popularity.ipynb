{
  "nbformat": 4,
  "nbformat_minor": 0,
  "metadata": {
    "kernelspec": {
      "display_name": "Python 3",
      "language": "python",
      "name": "python3"
    },
    "language_info": {
      "codemirror_mode": {
        "name": "ipython",
        "version": 3
      },
      "file_extension": ".py",
      "mimetype": "text/x-python",
      "name": "python",
      "nbconvert_exporter": "python",
      "pygments_lexer": "ipython3",
      "version": "3.7.4"
    },
    "colab": {
      "name": "RH_popularity.ipynb",
      "provenance": [],
      "collapsed_sections": [],
      "include_colab_link": true
    }
  },
  "cells": [
    {
      "cell_type": "markdown",
      "metadata": {
        "id": "view-in-github",
        "colab_type": "text"
      },
      "source": [
        "<a href=\"https://colab.research.google.com/github/heejinohn/lzho/blob/heejinohn/RH_popularity.ipynb\" target=\"_parent\"><img src=\"https://colab.research.google.com/assets/colab-badge.svg\" alt=\"Open In Colab\"/></a>"
      ]
    },
    {
      "cell_type": "markdown",
      "metadata": {
        "id": "nVnZ2wEm2Scr"
      },
      "source": [
        "\n",
        "# Import packages"
      ]
    },
    {
      "cell_type": "code",
      "metadata": {
        "collapsed": true,
        "id": "7x_fy8Wf0EZQ"
      },
      "source": [
        "import os\n",
        "import pandas as pd\n",
        "import datetime as dt"
      ],
      "execution_count": null,
      "outputs": []
    },
    {
      "cell_type": "markdown",
      "metadata": {
        "id": "BDAI3r5CSm_G"
      },
      "source": [
        "# Combine files"
      ]
    },
    {
      "cell_type": "markdown",
      "metadata": {
        "id": "oFZCclLh2ERG"
      },
      "source": [
        "## Iterating over files"
      ]
    },
    {
      "cell_type": "code",
      "metadata": {
        "id": "AYF4gW0_49_i"
      },
      "source": [
        "files = [x for x in os.listdir('/content/') if '.csv' in x]\n",
        "ticker = [x.rsplit('.csv')[0] for x in files]"
      ],
      "execution_count": null,
      "outputs": []
    },
    {
      "cell_type": "code",
      "metadata": {
        "id": "DUaHyNs25xun"
      },
      "source": [
        "def chunks(lst, n):\n",
        "    \"\"\"Yield successive n-sized chunks from lst.\"\"\"\n",
        "    for i in range(0, len(lst), n):\n",
        "        yield lst[i:i + n]"
      ],
      "execution_count": null,
      "outputs": []
    },
    {
      "cell_type": "markdown",
      "metadata": {
        "id": "p1fsI1rETnN6"
      },
      "source": [
        "This function can be used to devide the file list into chunks. It might come in handy to run script on the **8,597** files."
      ]
    },
    {
      "cell_type": "markdown",
      "metadata": {
        "id": "LqNEuUJW2IlK"
      },
      "source": [
        "## Appending data"
      ]
    },
    {
      "cell_type": "code",
      "metadata": {
        "id": "QdUxzcAM13en"
      },
      "source": [
        "time = []\n",
        "users = []\n",
        "tic = []\n",
        "for i in range(len(files)):\n",
        "    filepath = '/content'\n",
        "    pos = os.path.join(filepath, files[i])\n",
        "    read = pd.read_csv(pos, sep=',', header=0)\n",
        "    time.extend(list(read.iloc[:,0]))\n",
        "    users.extend(list(read.iloc[:,1]))\n",
        "    tic.extend([ticker[i]] * len(read))"
      ],
      "execution_count": null,
      "outputs": []
    },
    {
      "cell_type": "markdown",
      "metadata": {
        "id": "2X8fRUlA2Met"
      },
      "source": [
        "## Reading data into dataframe"
      ]
    },
    {
      "cell_type": "code",
      "metadata": {
        "id": "cW_BZhC1vPY1"
      },
      "source": [
        "data = pd.DataFrame({'tic':tic, 'timestamp':time, 'users_holding':users})"
      ],
      "execution_count": null,
      "outputs": []
    },
    {
      "cell_type": "markdown",
      "metadata": {
        "id": "OmhdQH6hDOMb"
      },
      "source": [
        "## Change *timestamp* to datetime type"
      ]
    },
    {
      "cell_type": "code",
      "metadata": {
        "id": "6R-AOc0SD2Kw"
      },
      "source": [
        "data['timestamp'] = pd.to_datetime(data['timestamp'])"
      ],
      "execution_count": null,
      "outputs": []
    },
    {
      "cell_type": "code",
      "metadata": {
        "colab": {
          "base_uri": "https://localhost:8080/",
          "height": 204
        },
        "id": "N88j857VKPEa",
        "outputId": "fa476fa1-40f8-44a4-b745-10377a5a9309"
      },
      "source": [
        "data.head()"
      ],
      "execution_count": null,
      "outputs": [
        {
          "output_type": "execute_result",
          "data": {
            "text/html": [
              "<div>\n",
              "<style scoped>\n",
              "    .dataframe tbody tr th:only-of-type {\n",
              "        vertical-align: middle;\n",
              "    }\n",
              "\n",
              "    .dataframe tbody tr th {\n",
              "        vertical-align: top;\n",
              "    }\n",
              "\n",
              "    .dataframe thead th {\n",
              "        text-align: right;\n",
              "    }\n",
              "</style>\n",
              "<table border=\"1\" class=\"dataframe\">\n",
              "  <thead>\n",
              "    <tr style=\"text-align: right;\">\n",
              "      <th></th>\n",
              "      <th>tic</th>\n",
              "      <th>timestamp</th>\n",
              "      <th>users_holding</th>\n",
              "    </tr>\n",
              "  </thead>\n",
              "  <tbody>\n",
              "    <tr>\n",
              "      <th>0</th>\n",
              "      <td>LYTS</td>\n",
              "      <td>2018-05-02 04:56:02</td>\n",
              "      <td>527</td>\n",
              "    </tr>\n",
              "    <tr>\n",
              "      <th>1</th>\n",
              "      <td>LYTS</td>\n",
              "      <td>2018-05-02 06:41:13</td>\n",
              "      <td>527</td>\n",
              "    </tr>\n",
              "    <tr>\n",
              "      <th>2</th>\n",
              "      <td>LYTS</td>\n",
              "      <td>2018-05-03 00:38:08</td>\n",
              "      <td>530</td>\n",
              "    </tr>\n",
              "    <tr>\n",
              "      <th>3</th>\n",
              "      <td>LYTS</td>\n",
              "      <td>2018-05-03 06:36:23</td>\n",
              "      <td>530</td>\n",
              "    </tr>\n",
              "    <tr>\n",
              "      <th>4</th>\n",
              "      <td>LYTS</td>\n",
              "      <td>2018-05-03 06:51:22</td>\n",
              "      <td>530</td>\n",
              "    </tr>\n",
              "  </tbody>\n",
              "</table>\n",
              "</div>"
            ],
            "text/plain": [
              "    tic           timestamp  users_holding\n",
              "0  LYTS 2018-05-02 04:56:02            527\n",
              "1  LYTS 2018-05-02 06:41:13            527\n",
              "2  LYTS 2018-05-03 00:38:08            530\n",
              "3  LYTS 2018-05-03 06:36:23            530\n",
              "4  LYTS 2018-05-03 06:51:22            530"
            ]
          },
          "metadata": {},
          "execution_count": 7
        }
      ]
    },
    {
      "cell_type": "markdown",
      "metadata": {
        "id": "TmH_f5oTMyGj"
      },
      "source": [
        "# Grander causality"
      ]
    },
    {
      "cell_type": "markdown",
      "metadata": {
        "id": "5oiABOPHC3rf"
      },
      "source": [
        "- openning\n",
        "- closing\n",
        "- min\n",
        "- max"
      ]
    },
    {
      "cell_type": "markdown",
      "metadata": {
        "id": "K_NE_t80FD0x"
      },
      "source": [
        "- Type of firms\n",
        "- Institutional holdings"
      ]
    },
    {
      "cell_type": "markdown",
      "metadata": {
        "id": "19dSykgM7AqH"
      },
      "source": [
        "# Lead-lag relation\n",
        "Timing of information and actual trading\n",
        "\n",
        "$WSB_t=\\beta_0+ \\sum_{\\substack{{}\\\\t-3}}^{t+3} \\beta_n\\times \\Delta ROBINHOOD_n\n",
        "$"
      ]
    },
    {
      "cell_type": "markdown",
      "metadata": {
        "id": "va61aYT1_Gm2"
      },
      "source": [
        "$\\Delta ROBINHOOD_t=\\beta_0+ \\sum_{\\substack{{}\\\\t-3}}^{t+3} \\beta_n\\times WSB_n$"
      ]
    },
    {
      "cell_type": "markdown",
      "metadata": {
        "id": "O8FzWZbm_MDN"
      },
      "source": [
        "# CRSP\n",
        "- Bid-ask\n",
        "- *High-low*\n",
        "\n",
        "other than returns; during trading hours"
      ]
    }
  ]
}