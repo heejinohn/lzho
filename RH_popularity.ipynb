{
  "nbformat": 4,
  "nbformat_minor": 0,
  "metadata": {
    "kernelspec": {
      "display_name": "Python 3",
      "language": "python",
      "name": "python3"
    },
    "language_info": {
      "codemirror_mode": {
        "name": "ipython",
        "version": 3
      },
      "file_extension": ".py",
      "mimetype": "text/x-python",
      "name": "python",
      "nbconvert_exporter": "python",
      "pygments_lexer": "ipython3",
      "version": "3.7.4"
    },
    "colab": {
      "name": "RH_popularity.ipynb",
      "provenance": [],
      "collapsed_sections": [],
      "include_colab_link": true
    }
  },
  "cells": [
    {
      "cell_type": "markdown",
      "metadata": {
        "id": "view-in-github",
        "colab_type": "text"
      },
      "source": [
        "<a href=\"https://colab.research.google.com/github/heejinohn/lzho/blob/heejinohn/RH_popularity.ipynb\" target=\"_parent\"><img src=\"https://colab.research.google.com/assets/colab-badge.svg\" alt=\"Open In Colab\"/></a>"
      ]
    },
    {
      "cell_type": "markdown",
      "metadata": {
        "id": "nVnZ2wEm2Scr"
      },
      "source": [
        "\n",
        "# Import packages"
      ]
    },
    {
      "cell_type": "code",
      "metadata": {
        "collapsed": true,
        "id": "7x_fy8Wf0EZQ"
      },
      "source": [
        "import os\n",
        "import pandas as pd\n",
        "import datetime as dt\n",
        "import wrds"
      ],
      "execution_count": 1,
      "outputs": []
    },
    {
      "cell_type": "markdown",
      "metadata": {
        "id": "BDAI3r5CSm_G"
      },
      "source": [
        "# Combine files"
      ]
    },
    {
      "cell_type": "markdown",
      "metadata": {
        "id": "oFZCclLh2ERG"
      },
      "source": [
        "## Iterating over files"
      ]
    },
    {
      "cell_type": "code",
      "metadata": {
        "id": "AYF4gW0_49_i"
      },
      "source": [
        "files = [x for x in os.listdir('/content/') if '.csv' in x]\n",
        "files.sort()\n",
        "ticker = [x.rsplit('.csv')[0] for x in files]"
      ],
      "execution_count": 2,
      "outputs": []
    },
    {
      "cell_type": "code",
      "metadata": {
        "id": "DUaHyNs25xun"
      },
      "source": [
        "#def chunks(lst, n):\n",
        "#    \"\"\"Yield successive n-sized chunks from lst.\"\"\"\n",
        "#    for i in range(0, len(lst), n):\n",
        "#        yield lst[i:i + n]"
      ],
      "execution_count": 3,
      "outputs": []
    },
    {
      "cell_type": "markdown",
      "metadata": {
        "id": "p1fsI1rETnN6"
      },
      "source": [
        "This function can be used to devide the file list into chunks. It might come in handy to run script on the **8,597** files."
      ]
    },
    {
      "cell_type": "markdown",
      "metadata": {
        "id": "LqNEuUJW2IlK"
      },
      "source": [
        "## Appending data"
      ]
    },
    {
      "cell_type": "code",
      "metadata": {
        "id": "QdUxzcAM13en"
      },
      "source": [
        "time = []\n",
        "users = []\n",
        "tic = []\n",
        "for i in range(len(files)):\n",
        "    filepath = '/content'\n",
        "    pos = os.path.join(filepath, files[i])\n",
        "    read = pd.read_csv(pos, sep=',', header=0)\n",
        "    time.extend(list(read.iloc[:,0]))\n",
        "    users.extend(list(read.iloc[:,1]))\n",
        "    tic.extend([ticker[i]] * len(read))"
      ],
      "execution_count": 4,
      "outputs": []
    },
    {
      "cell_type": "markdown",
      "metadata": {
        "id": "2X8fRUlA2Met"
      },
      "source": [
        "## Reading data into dataframe"
      ]
    },
    {
      "cell_type": "code",
      "metadata": {
        "id": "cW_BZhC1vPY1"
      },
      "source": [
        "data = pd.DataFrame({'tic':tic, 'timestamp':time, 'users_holding':users})"
      ],
      "execution_count": 5,
      "outputs": []
    },
    {
      "cell_type": "markdown",
      "metadata": {
        "id": "OmhdQH6hDOMb"
      },
      "source": [
        "## Change *timestamp* to datetime type"
      ]
    },
    {
      "cell_type": "code",
      "metadata": {
        "id": "6R-AOc0SD2Kw"
      },
      "source": [
        "data['timestamp'] = pd.to_datetime(data['timestamp'])"
      ],
      "execution_count": 6,
      "outputs": []
    },
    {
      "cell_type": "markdown",
      "metadata": {
        "id": "kR8Xcxg_WUXV"
      },
      "source": [
        "# Summarize data to daily intervals"
      ]
    },
    {
      "cell_type": "code",
      "metadata": {
        "id": "BnN36pxnWb7H"
      },
      "source": [
        "data['date'] = data['timestamp'].dt.date"
      ],
      "execution_count": 8,
      "outputs": []
    },
    {
      "cell_type": "code",
      "metadata": {
        "id": "l_RQDNzEZD0Y"
      },
      "source": [
        "g = data[['tic','date','users_holding']].groupby(['tic','date'])"
      ],
      "execution_count": 9,
      "outputs": []
    },
    {
      "cell_type": "code",
      "metadata": {
        "id": "yrDH3kQjarnQ",
        "outputId": "60ff907f-274f-4d6f-bc03-bdc277e2a74c",
        "colab": {
          "base_uri": "https://localhost:8080/",
          "height": 419
        }
      },
      "source": [
        "data[data['tic']=='WOOD']"
      ],
      "execution_count": 10,
      "outputs": [
        {
          "output_type": "execute_result",
          "data": {
            "text/html": [
              "<div>\n",
              "<style scoped>\n",
              "    .dataframe tbody tr th:only-of-type {\n",
              "        vertical-align: middle;\n",
              "    }\n",
              "\n",
              "    .dataframe tbody tr th {\n",
              "        vertical-align: top;\n",
              "    }\n",
              "\n",
              "    .dataframe thead th {\n",
              "        text-align: right;\n",
              "    }\n",
              "</style>\n",
              "<table border=\"1\" class=\"dataframe\">\n",
              "  <thead>\n",
              "    <tr style=\"text-align: right;\">\n",
              "      <th></th>\n",
              "      <th>tic</th>\n",
              "      <th>timestamp</th>\n",
              "      <th>users_holding</th>\n",
              "      <th>date</th>\n",
              "    </tr>\n",
              "  </thead>\n",
              "  <tbody>\n",
              "    <tr>\n",
              "      <th>0</th>\n",
              "      <td>WOOD</td>\n",
              "      <td>2018-05-02 04:56:03</td>\n",
              "      <td>192</td>\n",
              "      <td>2018-05-02</td>\n",
              "    </tr>\n",
              "    <tr>\n",
              "      <th>1</th>\n",
              "      <td>WOOD</td>\n",
              "      <td>2018-05-02 06:41:14</td>\n",
              "      <td>192</td>\n",
              "      <td>2018-05-02</td>\n",
              "    </tr>\n",
              "    <tr>\n",
              "      <th>2</th>\n",
              "      <td>WOOD</td>\n",
              "      <td>2018-05-03 00:38:09</td>\n",
              "      <td>194</td>\n",
              "      <td>2018-05-03</td>\n",
              "    </tr>\n",
              "    <tr>\n",
              "      <th>3</th>\n",
              "      <td>WOOD</td>\n",
              "      <td>2018-05-03 06:36:25</td>\n",
              "      <td>194</td>\n",
              "      <td>2018-05-03</td>\n",
              "    </tr>\n",
              "    <tr>\n",
              "      <th>4</th>\n",
              "      <td>WOOD</td>\n",
              "      <td>2018-05-03 06:51:23</td>\n",
              "      <td>194</td>\n",
              "      <td>2018-05-03</td>\n",
              "    </tr>\n",
              "    <tr>\n",
              "      <th>...</th>\n",
              "      <td>...</td>\n",
              "      <td>...</td>\n",
              "      <td>...</td>\n",
              "      <td>...</td>\n",
              "    </tr>\n",
              "    <tr>\n",
              "      <th>19746</th>\n",
              "      <td>WOOD</td>\n",
              "      <td>2020-08-13 15:57:45</td>\n",
              "      <td>245</td>\n",
              "      <td>2020-08-13</td>\n",
              "    </tr>\n",
              "    <tr>\n",
              "      <th>19747</th>\n",
              "      <td>WOOD</td>\n",
              "      <td>2020-08-13 16:56:11</td>\n",
              "      <td>247</td>\n",
              "      <td>2020-08-13</td>\n",
              "    </tr>\n",
              "    <tr>\n",
              "      <th>19748</th>\n",
              "      <td>WOOD</td>\n",
              "      <td>2020-08-13 20:56:09</td>\n",
              "      <td>248</td>\n",
              "      <td>2020-08-13</td>\n",
              "    </tr>\n",
              "    <tr>\n",
              "      <th>19749</th>\n",
              "      <td>WOOD</td>\n",
              "      <td>2020-08-13 21:53:39</td>\n",
              "      <td>248</td>\n",
              "      <td>2020-08-13</td>\n",
              "    </tr>\n",
              "    <tr>\n",
              "      <th>19750</th>\n",
              "      <td>WOOD</td>\n",
              "      <td>2020-08-13 22:58:10</td>\n",
              "      <td>248</td>\n",
              "      <td>2020-08-13</td>\n",
              "    </tr>\n",
              "  </tbody>\n",
              "</table>\n",
              "<p>19751 rows × 4 columns</p>\n",
              "</div>"
            ],
            "text/plain": [
              "        tic           timestamp  users_holding        date\n",
              "0      WOOD 2018-05-02 04:56:03            192  2018-05-02\n",
              "1      WOOD 2018-05-02 06:41:14            192  2018-05-02\n",
              "2      WOOD 2018-05-03 00:38:09            194  2018-05-03\n",
              "3      WOOD 2018-05-03 06:36:25            194  2018-05-03\n",
              "4      WOOD 2018-05-03 06:51:23            194  2018-05-03\n",
              "...     ...                 ...            ...         ...\n",
              "19746  WOOD 2020-08-13 15:57:45            245  2020-08-13\n",
              "19747  WOOD 2020-08-13 16:56:11            247  2020-08-13\n",
              "19748  WOOD 2020-08-13 20:56:09            248  2020-08-13\n",
              "19749  WOOD 2020-08-13 21:53:39            248  2020-08-13\n",
              "19750  WOOD 2020-08-13 22:58:10            248  2020-08-13\n",
              "\n",
              "[19751 rows x 4 columns]"
            ]
          },
          "metadata": {},
          "execution_count": 10
        }
      ]
    },
    {
      "cell_type": "code",
      "metadata": {
        "id": "ADye-sp3XHLm"
      },
      "source": [
        "daily = g.users_holding.aggregate(['first','last','min','max'])"
      ],
      "execution_count": 17,
      "outputs": []
    },
    {
      "cell_type": "code",
      "metadata": {
        "id": "DgtRntJcujzA",
        "outputId": "aa83e315-f391-46d3-abc6-f80685bdbf47",
        "colab": {
          "base_uri": "https://localhost:8080/",
          "height": 450
        }
      },
      "source": [
        "daily.loc['WOOD',:]"
      ],
      "execution_count": 22,
      "outputs": [
        {
          "output_type": "execute_result",
          "data": {
            "text/html": [
              "<div>\n",
              "<style scoped>\n",
              "    .dataframe tbody tr th:only-of-type {\n",
              "        vertical-align: middle;\n",
              "    }\n",
              "\n",
              "    .dataframe tbody tr th {\n",
              "        vertical-align: top;\n",
              "    }\n",
              "\n",
              "    .dataframe thead th {\n",
              "        text-align: right;\n",
              "    }\n",
              "</style>\n",
              "<table border=\"1\" class=\"dataframe\">\n",
              "  <thead>\n",
              "    <tr style=\"text-align: right;\">\n",
              "      <th></th>\n",
              "      <th>first</th>\n",
              "      <th>last</th>\n",
              "      <th>min</th>\n",
              "      <th>max</th>\n",
              "    </tr>\n",
              "    <tr>\n",
              "      <th>date</th>\n",
              "      <th></th>\n",
              "      <th></th>\n",
              "      <th></th>\n",
              "      <th></th>\n",
              "    </tr>\n",
              "  </thead>\n",
              "  <tbody>\n",
              "    <tr>\n",
              "      <th>2018-05-02</th>\n",
              "      <td>192</td>\n",
              "      <td>192</td>\n",
              "      <td>192</td>\n",
              "      <td>192</td>\n",
              "    </tr>\n",
              "    <tr>\n",
              "      <th>2018-05-03</th>\n",
              "      <td>194</td>\n",
              "      <td>193</td>\n",
              "      <td>193</td>\n",
              "      <td>194</td>\n",
              "    </tr>\n",
              "    <tr>\n",
              "      <th>2018-05-04</th>\n",
              "      <td>193</td>\n",
              "      <td>193</td>\n",
              "      <td>193</td>\n",
              "      <td>193</td>\n",
              "    </tr>\n",
              "    <tr>\n",
              "      <th>2018-05-05</th>\n",
              "      <td>193</td>\n",
              "      <td>193</td>\n",
              "      <td>193</td>\n",
              "      <td>193</td>\n",
              "    </tr>\n",
              "    <tr>\n",
              "      <th>2018-05-06</th>\n",
              "      <td>193</td>\n",
              "      <td>193</td>\n",
              "      <td>193</td>\n",
              "      <td>193</td>\n",
              "    </tr>\n",
              "    <tr>\n",
              "      <th>...</th>\n",
              "      <td>...</td>\n",
              "      <td>...</td>\n",
              "      <td>...</td>\n",
              "      <td>...</td>\n",
              "    </tr>\n",
              "    <tr>\n",
              "      <th>2020-08-09</th>\n",
              "      <td>236</td>\n",
              "      <td>236</td>\n",
              "      <td>236</td>\n",
              "      <td>236</td>\n",
              "    </tr>\n",
              "    <tr>\n",
              "      <th>2020-08-10</th>\n",
              "      <td>236</td>\n",
              "      <td>241</td>\n",
              "      <td>236</td>\n",
              "      <td>241</td>\n",
              "    </tr>\n",
              "    <tr>\n",
              "      <th>2020-08-11</th>\n",
              "      <td>241</td>\n",
              "      <td>241</td>\n",
              "      <td>239</td>\n",
              "      <td>243</td>\n",
              "    </tr>\n",
              "    <tr>\n",
              "      <th>2020-08-12</th>\n",
              "      <td>241</td>\n",
              "      <td>245</td>\n",
              "      <td>241</td>\n",
              "      <td>245</td>\n",
              "    </tr>\n",
              "    <tr>\n",
              "      <th>2020-08-13</th>\n",
              "      <td>245</td>\n",
              "      <td>248</td>\n",
              "      <td>245</td>\n",
              "      <td>248</td>\n",
              "    </tr>\n",
              "  </tbody>\n",
              "</table>\n",
              "<p>818 rows × 4 columns</p>\n",
              "</div>"
            ],
            "text/plain": [
              "            first  last  min  max\n",
              "date                             \n",
              "2018-05-02    192   192  192  192\n",
              "2018-05-03    194   193  193  194\n",
              "2018-05-04    193   193  193  193\n",
              "2018-05-05    193   193  193  193\n",
              "2018-05-06    193   193  193  193\n",
              "...           ...   ...  ...  ...\n",
              "2020-08-09    236   236  236  236\n",
              "2020-08-10    236   241  236  241\n",
              "2020-08-11    241   241  239  243\n",
              "2020-08-12    241   245  241  245\n",
              "2020-08-13    245   248  245  248\n",
              "\n",
              "[818 rows x 4 columns]"
            ]
          },
          "metadata": {},
          "execution_count": 22
        }
      ]
    },
    {
      "cell_type": "markdown",
      "metadata": {
        "id": "TmH_f5oTMyGj"
      },
      "source": [
        "# Grander causality"
      ]
    },
    {
      "cell_type": "markdown",
      "metadata": {
        "id": "5oiABOPHC3rf"
      },
      "source": [
        "- openning\n",
        "- closing\n",
        "- min\n",
        "- max"
      ]
    },
    {
      "cell_type": "markdown",
      "metadata": {
        "id": "K_NE_t80FD0x"
      },
      "source": [
        "- Type of firms\n",
        "- Institutional holdings"
      ]
    },
    {
      "cell_type": "markdown",
      "metadata": {
        "id": "19dSykgM7AqH"
      },
      "source": [
        "# Lead-lag relation\n",
        "Timing of information and actual trading\n",
        "\n",
        "$WSB_t=\\beta_0+ \\sum_{\\substack{{}\\\\t-3}}^{t+3} \\beta_n\\times \\Delta ROBINHOOD_n\n",
        "$"
      ]
    },
    {
      "cell_type": "markdown",
      "metadata": {
        "id": "va61aYT1_Gm2"
      },
      "source": [
        "$\\Delta ROBINHOOD_t=\\beta_0+ \\sum_{\\substack{{}\\\\t-3}}^{t+3} \\beta_n\\times WSB_n$"
      ]
    },
    {
      "cell_type": "markdown",
      "metadata": {
        "id": "O8FzWZbm_MDN"
      },
      "source": [
        "# CRSP\n",
        "- Bid-ask\n",
        "- *High-low*\n",
        "\n",
        "other than returns; during trading hours"
      ]
    }
  ]
}