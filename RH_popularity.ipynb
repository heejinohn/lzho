{
  "nbformat": 4,
  "nbformat_minor": 0,
  "metadata": {
    "kernelspec": {
      "display_name": "Python 3",
      "language": "python",
      "name": "python3"
    },
    "language_info": {
      "codemirror_mode": {
        "name": "ipython",
        "version": 3
      },
      "file_extension": ".py",
      "mimetype": "text/x-python",
      "name": "python",
      "nbconvert_exporter": "python",
      "pygments_lexer": "ipython3",
      "version": "3.7.4"
    },
    "colab": {
      "name": "RH_popularity.ipynb",
      "provenance": [],
      "collapsed_sections": [],
      "include_colab_link": true
    }
  },
  "cells": [
    {
      "cell_type": "markdown",
      "metadata": {
        "id": "view-in-github",
        "colab_type": "text"
      },
      "source": [
        "<a href=\"https://colab.research.google.com/github/heejinohn/lzho/blob/heejinohn/RH_popularity.ipynb\" target=\"_parent\"><img src=\"https://colab.research.google.com/assets/colab-badge.svg\" alt=\"Open In Colab\"/></a>"
      ]
    },
    {
      "cell_type": "markdown",
      "metadata": {
        "id": "nVnZ2wEm2Scr"
      },
      "source": [
        "\n",
        "# Import packages"
      ]
    },
    {
      "cell_type": "code",
      "metadata": {
        "collapsed": true,
        "id": "7x_fy8Wf0EZQ"
      },
      "source": [
        "import os\n",
        "import pandas as pd\n",
        "import datetime as dt\n",
        "import wrds"
      ],
      "execution_count": 28,
      "outputs": []
    },
    {
      "cell_type": "markdown",
      "metadata": {
        "id": "BDAI3r5CSm_G"
      },
      "source": [
        "# Combine files"
      ]
    },
    {
      "cell_type": "markdown",
      "metadata": {
        "id": "oFZCclLh2ERG"
      },
      "source": [
        "## Iterating over files"
      ]
    },
    {
      "cell_type": "code",
      "metadata": {
        "id": "AYF4gW0_49_i"
      },
      "source": [
        "files = [x for x in os.listdir('/content/') if '.csv' in x]\n",
        "files.sort()\n",
        "ticker = [x.rsplit('.csv')[0] for x in files]"
      ],
      "execution_count": 2,
      "outputs": []
    },
    {
      "cell_type": "code",
      "metadata": {
        "id": "DUaHyNs25xun"
      },
      "source": [
        "#def chunks(lst, n):\n",
        "#    \"\"\"Yield successive n-sized chunks from lst.\"\"\"\n",
        "#    for i in range(0, len(lst), n):\n",
        "#        yield lst[i:i + n]"
      ],
      "execution_count": 3,
      "outputs": []
    },
    {
      "cell_type": "markdown",
      "metadata": {
        "id": "p1fsI1rETnN6"
      },
      "source": [
        "This function can be used to devide the file list into chunks. It might come in handy to run script on the **8,597** files."
      ]
    },
    {
      "cell_type": "markdown",
      "metadata": {
        "id": "LqNEuUJW2IlK"
      },
      "source": [
        "## Appending data"
      ]
    },
    {
      "cell_type": "code",
      "metadata": {
        "id": "QdUxzcAM13en"
      },
      "source": [
        "time = []\n",
        "users = []\n",
        "tic = []\n",
        "for i in range(len(files)):\n",
        "    filepath = '/content'\n",
        "    pos = os.path.join(filepath, files[i])\n",
        "    read = pd.read_csv(pos, sep=',', header=0)\n",
        "    time.extend(list(read.iloc[:,0]))\n",
        "    users.extend(list(read.iloc[:,1]))\n",
        "    tic.extend([ticker[i]] * len(read))"
      ],
      "execution_count": 4,
      "outputs": []
    },
    {
      "cell_type": "markdown",
      "metadata": {
        "id": "2X8fRUlA2Met"
      },
      "source": [
        "## Reading data into dataframe"
      ]
    },
    {
      "cell_type": "code",
      "metadata": {
        "id": "cW_BZhC1vPY1"
      },
      "source": [
        "data = pd.DataFrame({'tic':tic, 'timestamp':time, 'users_holding':users})"
      ],
      "execution_count": 5,
      "outputs": []
    },
    {
      "cell_type": "markdown",
      "metadata": {
        "id": "OmhdQH6hDOMb"
      },
      "source": [
        "## Change *timestamp* to datetime type"
      ]
    },
    {
      "cell_type": "code",
      "metadata": {
        "id": "6R-AOc0SD2Kw"
      },
      "source": [
        "data['timestamp'] = pd.to_datetime(data['timestamp'])"
      ],
      "execution_count": 6,
      "outputs": []
    },
    {
      "cell_type": "markdown",
      "metadata": {
        "id": "kR8Xcxg_WUXV"
      },
      "source": [
        "# Summarize data to daily intervals"
      ]
    },
    {
      "cell_type": "code",
      "metadata": {
        "id": "BnN36pxnWb7H"
      },
      "source": [
        "data['date'] = data['timestamp'].dt.date"
      ],
      "execution_count": 7,
      "outputs": []
    },
    {
      "cell_type": "code",
      "metadata": {
        "id": "l_RQDNzEZD0Y"
      },
      "source": [
        "g = data[['tic','date','users_holding']].groupby(['tic','date'])"
      ],
      "execution_count": 8,
      "outputs": []
    },
    {
      "cell_type": "code",
      "metadata": {
        "id": "yrDH3kQjarnQ",
        "colab": {
          "base_uri": "https://localhost:8080/",
          "height": 48
        },
        "outputId": "e23a6c26-7143-413d-f1bc-3b2948726cc9"
      },
      "source": [
        "data[data['tic']=='WOOD']"
      ],
      "execution_count": 9,
      "outputs": [
        {
          "output_type": "execute_result",
          "data": {
            "text/html": [
              "<div>\n",
              "<style scoped>\n",
              "    .dataframe tbody tr th:only-of-type {\n",
              "        vertical-align: middle;\n",
              "    }\n",
              "\n",
              "    .dataframe tbody tr th {\n",
              "        vertical-align: top;\n",
              "    }\n",
              "\n",
              "    .dataframe thead th {\n",
              "        text-align: right;\n",
              "    }\n",
              "</style>\n",
              "<table border=\"1\" class=\"dataframe\">\n",
              "  <thead>\n",
              "    <tr style=\"text-align: right;\">\n",
              "      <th></th>\n",
              "      <th>tic</th>\n",
              "      <th>timestamp</th>\n",
              "      <th>users_holding</th>\n",
              "      <th>date</th>\n",
              "    </tr>\n",
              "  </thead>\n",
              "  <tbody>\n",
              "  </tbody>\n",
              "</table>\n",
              "</div>"
            ],
            "text/plain": [
              "Empty DataFrame\n",
              "Columns: [tic, timestamp, users_holding, date]\n",
              "Index: []"
            ]
          },
          "metadata": {},
          "execution_count": 9
        }
      ]
    },
    {
      "cell_type": "code",
      "metadata": {
        "id": "ADye-sp3XHLm"
      },
      "source": [
        "daily = g.users_holding.aggregate(['first','last','min','max'])"
      ],
      "execution_count": 10,
      "outputs": []
    },
    {
      "cell_type": "code",
      "metadata": {
        "id": "DgtRntJcujzA",
        "colab": {
          "base_uri": "https://localhost:8080/",
          "height": 450
        },
        "outputId": "3cbb4886-c9ad-4c97-869d-79a6a709ff1e"
      },
      "source": [
        "daily.loc['ADBE',:]"
      ],
      "execution_count": 19,
      "outputs": [
        {
          "output_type": "execute_result",
          "data": {
            "text/html": [
              "<div>\n",
              "<style scoped>\n",
              "    .dataframe tbody tr th:only-of-type {\n",
              "        vertical-align: middle;\n",
              "    }\n",
              "\n",
              "    .dataframe tbody tr th {\n",
              "        vertical-align: top;\n",
              "    }\n",
              "\n",
              "    .dataframe thead th {\n",
              "        text-align: right;\n",
              "    }\n",
              "</style>\n",
              "<table border=\"1\" class=\"dataframe\">\n",
              "  <thead>\n",
              "    <tr style=\"text-align: right;\">\n",
              "      <th></th>\n",
              "      <th>first</th>\n",
              "      <th>last</th>\n",
              "      <th>min</th>\n",
              "      <th>max</th>\n",
              "    </tr>\n",
              "    <tr>\n",
              "      <th>date</th>\n",
              "      <th></th>\n",
              "      <th></th>\n",
              "      <th></th>\n",
              "      <th></th>\n",
              "    </tr>\n",
              "  </thead>\n",
              "  <tbody>\n",
              "    <tr>\n",
              "      <th>2018-05-02</th>\n",
              "      <td>8007.0</td>\n",
              "      <td>8007.0</td>\n",
              "      <td>8007.0</td>\n",
              "      <td>8007.0</td>\n",
              "    </tr>\n",
              "    <tr>\n",
              "      <th>2018-05-03</th>\n",
              "      <td>8030.0</td>\n",
              "      <td>7980.0</td>\n",
              "      <td>7980.0</td>\n",
              "      <td>8035.0</td>\n",
              "    </tr>\n",
              "    <tr>\n",
              "      <th>2018-05-04</th>\n",
              "      <td>7980.0</td>\n",
              "      <td>7916.0</td>\n",
              "      <td>7916.0</td>\n",
              "      <td>7980.0</td>\n",
              "    </tr>\n",
              "    <tr>\n",
              "      <th>2018-05-05</th>\n",
              "      <td>7916.0</td>\n",
              "      <td>7916.0</td>\n",
              "      <td>7916.0</td>\n",
              "      <td>7916.0</td>\n",
              "    </tr>\n",
              "    <tr>\n",
              "      <th>2018-05-06</th>\n",
              "      <td>7916.0</td>\n",
              "      <td>7916.0</td>\n",
              "      <td>7916.0</td>\n",
              "      <td>7916.0</td>\n",
              "    </tr>\n",
              "    <tr>\n",
              "      <th>...</th>\n",
              "      <td>...</td>\n",
              "      <td>...</td>\n",
              "      <td>...</td>\n",
              "      <td>...</td>\n",
              "    </tr>\n",
              "    <tr>\n",
              "      <th>2020-08-09</th>\n",
              "      <td>23737.0</td>\n",
              "      <td>23737.0</td>\n",
              "      <td>23737.0</td>\n",
              "      <td>23737.0</td>\n",
              "    </tr>\n",
              "    <tr>\n",
              "      <th>2020-08-10</th>\n",
              "      <td>23737.0</td>\n",
              "      <td>23994.0</td>\n",
              "      <td>23737.0</td>\n",
              "      <td>23994.0</td>\n",
              "    </tr>\n",
              "    <tr>\n",
              "      <th>2020-08-11</th>\n",
              "      <td>23994.0</td>\n",
              "      <td>24007.0</td>\n",
              "      <td>23988.0</td>\n",
              "      <td>24024.0</td>\n",
              "    </tr>\n",
              "    <tr>\n",
              "      <th>2020-08-12</th>\n",
              "      <td>24007.0</td>\n",
              "      <td>24025.0</td>\n",
              "      <td>24002.0</td>\n",
              "      <td>24026.0</td>\n",
              "    </tr>\n",
              "    <tr>\n",
              "      <th>2020-08-13</th>\n",
              "      <td>24025.0</td>\n",
              "      <td>23983.0</td>\n",
              "      <td>23968.0</td>\n",
              "      <td>24025.0</td>\n",
              "    </tr>\n",
              "  </tbody>\n",
              "</table>\n",
              "<p>818 rows × 4 columns</p>\n",
              "</div>"
            ],
            "text/plain": [
              "              first     last      min      max\n",
              "date                                          \n",
              "2018-05-02   8007.0   8007.0   8007.0   8007.0\n",
              "2018-05-03   8030.0   7980.0   7980.0   8035.0\n",
              "2018-05-04   7980.0   7916.0   7916.0   7980.0\n",
              "2018-05-05   7916.0   7916.0   7916.0   7916.0\n",
              "2018-05-06   7916.0   7916.0   7916.0   7916.0\n",
              "...             ...      ...      ...      ...\n",
              "2020-08-09  23737.0  23737.0  23737.0  23737.0\n",
              "2020-08-10  23737.0  23994.0  23737.0  23994.0\n",
              "2020-08-11  23994.0  24007.0  23988.0  24024.0\n",
              "2020-08-12  24007.0  24025.0  24002.0  24026.0\n",
              "2020-08-13  24025.0  23983.0  23968.0  24025.0\n",
              "\n",
              "[818 rows x 4 columns]"
            ]
          },
          "metadata": {},
          "execution_count": 19
        }
      ]
    },
    {
      "cell_type": "code",
      "metadata": {
        "id": "XlnycEcQ6c1z"
      },
      "source": [
        "by_tic = daily.reset_index().groupby('tic')"
      ],
      "execution_count": 22,
      "outputs": []
    },
    {
      "cell_type": "code",
      "metadata": {
        "id": "W2HZuwLx6sAF",
        "outputId": "7a245be4-96ef-4fa2-f056-ba91099eab0d",
        "colab": {
          "base_uri": "https://localhost:8080/"
        }
      },
      "source": [
        "by_tic['first'].agg('count')"
      ],
      "execution_count": 26,
      "outputs": [
        {
          "output_type": "execute_result",
          "data": {
            "text/plain": [
              "tic\n",
              "A        818\n",
              "AA       600\n",
              "AAAU     714\n",
              "AACAY    701\n",
              "AACG     818\n",
              "        ... \n",
              "BPOP     818\n",
              "BPRN     818\n",
              "BPT      818\n",
              "_OUT     818\n",
              "_PRN     817\n",
              "Name: first, Length: 960, dtype: int64"
            ]
          },
          "metadata": {},
          "execution_count": 26
        }
      ]
    },
    {
      "cell_type": "markdown",
      "metadata": {
        "id": "tuIh1ofm3H6f"
      },
      "source": [
        "# Variable construction"
      ]
    },
    {
      "cell_type": "markdown",
      "metadata": {
        "id": "o3WlCjft3Lpx"
      },
      "source": [
        " - Daily change: $\\mid$ `last`-`first` $\\mid$\n",
        " - Daily activity: $\\mid$ `max` - `min` $\\mid$\n",
        "\n",
        "Signed change and activity might be more suitable if we extract signed (e.g. positivity vs. negativity) data from WSB."
      ]
    },
    {
      "cell_type": "markdown",
      "metadata": {
        "id": "TmH_f5oTMyGj"
      },
      "source": [
        "# Grander causality"
      ]
    },
    {
      "cell_type": "markdown",
      "metadata": {
        "id": "em8_EEKj1FRA"
      },
      "source": [
        "## Run panel Granger using *R*\n",
        "[Dumitrescu-Hurlin (2012) in plm](https://rdrr.io/cran/plm/man/pgrangertest.html): There is no predetermined way to set the lags."
      ]
    },
    {
      "cell_type": "markdown",
      "metadata": {
        "id": "19dSykgM7AqH"
      },
      "source": [
        "# Lead-lag relation\n",
        "Timing of information and actual trading\n",
        "\n",
        "$WSB_t=\\beta_0+ \\sum_{\\substack{{}\\\\t-3}}^{t+3} \\beta_n\\times \\Delta ROBINHOOD_n\n",
        "$\n",
        "\n",
        "$\\Delta ROBINHOOD_t=\\beta_0+ \\sum_{\\substack{{}\\\\t-3}}^{t+3} \\beta_n\\times WSB_n$"
      ]
    },
    {
      "cell_type": "markdown",
      "metadata": {
        "id": "5oiABOPHC3rf"
      },
      "source": [
        "- openning\n",
        "- closing\n",
        "- min\n",
        "- max"
      ]
    },
    {
      "cell_type": "markdown",
      "metadata": {
        "id": "K_NE_t80FD0x"
      },
      "source": [
        "- Type of firms\n",
        "- Institutional holdings"
      ]
    },
    {
      "cell_type": "markdown",
      "metadata": {
        "id": "O8FzWZbm_MDN"
      },
      "source": [
        "# CRSP\n",
        "- Bid-ask\n",
        "- *High-low*\n",
        "\n",
        "other than returns; during trading hours"
      ]
    }
  ]
}